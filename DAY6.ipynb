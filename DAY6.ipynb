{
  "nbformat": 4,
  "nbformat_minor": 0,
  "metadata": {
    "colab": {
      "name": "6회차_실습_따릉이PBL2.ipynb",
      "provenance": [],
      "collapsed_sections": []
    },
    "kernelspec": {
      "name": "python3",
      "display_name": "Python 3"
    },
    "language_info": {
      "name": "python"
    }
  },
  "cells": [
    {
      "cell_type": "code",
      "execution_count": 1,
      "metadata": {
        "colab": {
          "base_uri": "https://localhost:8080/"
        },
        "id": "b3cb436glH3D",
        "outputId": "be07fe63-cde1-4fcd-9423-0dad2c8d8e33"
      },
      "outputs": [
        {
          "output_type": "stream",
          "name": "stdout",
          "text": [
            "Reading package lists... Done\n",
            "Building dependency tree       \n",
            "Reading state information... Done\n",
            "fonts-nanum is already the newest version (20170925-1).\n",
            "The following package was automatically installed and is no longer required:\n",
            "  libnvidia-common-460\n",
            "Use 'sudo apt autoremove' to remove it.\n",
            "0 upgraded, 0 newly installed, 0 to remove and 49 not upgraded.\n",
            "fc-cache: invalid option -- ']'\n",
            "usage: fc-cache [-EfrsvVh] [-y SYSROOT] [--error-on-no-fonts] [--force|--really-force] [--sysroot=SYSROOT] [--system-only] [--verbose] [--version] [--help] [dirs]\n",
            "Build font information caches in [dirs]\n",
            "(all directories in font configuration by default).\n",
            "\n",
            "  -E, --error-on-no-fonts  raise an error if no fonts in a directory\n",
            "  -f, --force              scan directories with apparently valid caches\n",
            "  -r, --really-force       erase all existing caches, then rescan\n",
            "  -s, --system-only        scan system-wide directories only\n",
            "  -y, --sysroot=SYSROOT    prepend SYSROOT to all paths for scanning\n",
            "  -v, --verbose            display status information while busy\n",
            "  -V, --version            display font config version and exit\n",
            "  -h, --help               display this help and exit\n"
          ]
        }
      ],
      "source": [
        "!sudo apt-get install -y fonts-nanum\n",
        "!sudo fc-cache -fv]\n",
        "!rm ~/.cache/matplotlib -rf"
      ]
    },
    {
      "cell_type": "code",
      "source": [
        "# 드라이브 사용 설정\n",
        "from google.colab import drive\n",
        "drive.mount('/content/drive')"
      ],
      "metadata": {
        "colab": {
          "base_uri": "https://localhost:8080/"
        },
        "id": "UiRZl1ihwvhM",
        "outputId": "e47688bd-bba6-47ad-8768-e7fdd5feeae1"
      },
      "execution_count": 2,
      "outputs": [
        {
          "output_type": "stream",
          "name": "stdout",
          "text": [
            "Mounted at /content/drive\n"
          ]
        }
      ]
    },
    {
      "cell_type": "markdown",
      "source": [
        "# 1. 데이터 살펴보기\n",
        "\n",
        "train.csv : 모델을 학습하는 데 사용하는 데이터  \n",
        "test.csv : 모델을 통하여 따릉이 대여량을 예측하는 데 사용하는 데이터  \n",
        "sample_submission.csv : test데이터의 예측 값을 저장하여 제출하기 위한 데이터"
      ],
      "metadata": {
        "id": "ZnEgNgRvxH21"
      }
    },
    {
      "cell_type": "markdown",
      "source": [
        "## 1.1. 데이터 준비\n",
        "\n",
        "read_csv() 메소드 이용하기"
      ],
      "metadata": {
        "id": "6QZJEXabxjjO"
      }
    },
    {
      "cell_type": "code",
      "source": [
        "# 데이터 로드\n",
        "import pandas as pd\n",
        "\n",
        "train = pd.read_csv('/content/drive/MyDrive/dacon.io/suwon/5회차/data/train.csv')\n",
        "test = pd.read_csv('/content/drive/MyDrive/dacon.io/suwon/5회차/data/test.csv')\n",
        "submission = pd.read_csv('/content/drive/MyDrive/dacon.io/suwon/5회차/data/sample_submission.csv')"
      ],
      "metadata": {
        "id": "-tYSUzYbxANV"
      },
      "execution_count": 3,
      "outputs": []
    },
    {
      "cell_type": "markdown",
      "source": [
        "## 1.2. 데이터 확인\n",
        "\n",
        "head()  \n",
        "tail()  \n",
        "info()  \n",
        "shape"
      ],
      "metadata": {
        "id": "Ch-ziE00zITs"
      }
    },
    {
      "cell_type": "code",
      "source": [
        "# 데이터 상위 5개 행 출력\n",
        "train.head()"
      ],
      "metadata": {
        "colab": {
          "base_uri": "https://localhost:8080/",
          "height": 206
        },
        "id": "-xJETrRbyAiE",
        "outputId": "9ed12347-04df-4a72-fe2e-c261b15f6592"
      },
      "execution_count": 5,
      "outputs": [
        {
          "output_type": "execute_result",
          "data": {
            "text/plain": [
              "    date_time  wind_direction  sky_condition  precipitation_form  wind_speed  \\\n",
              "0  2018-04-01         207.500          4.000               0.000       3.050   \n",
              "1  2018-04-02         208.317          2.950               0.000       3.278   \n",
              "2  2018-04-03         213.516          2.911               0.000       2.690   \n",
              "3  2018-04-04         143.836          3.692               0.425       3.138   \n",
              "4  2018-04-05          95.905          4.000               0.723       3.186   \n",
              "\n",
              "   humidity  low_temp  high_temp  Precipitation_Probability  number_of_rentals  \n",
              "0    75.000    12.600     21.000                     30.000              22994  \n",
              "1    69.833    12.812     19.000                     19.500              28139  \n",
              "2    74.879    10.312     15.316                     19.113              26817  \n",
              "3    71.849     8.312     12.368                     43.493              26034  \n",
              "4    73.784     5.875     10.421                     63.378               2833  "
            ],
            "text/html": [
              "\n",
              "  <div id=\"df-c47ad70c-fe69-4859-9400-e68963fe25bc\">\n",
              "    <div class=\"colab-df-container\">\n",
              "      <div>\n",
              "<style scoped>\n",
              "    .dataframe tbody tr th:only-of-type {\n",
              "        vertical-align: middle;\n",
              "    }\n",
              "\n",
              "    .dataframe tbody tr th {\n",
              "        vertical-align: top;\n",
              "    }\n",
              "\n",
              "    .dataframe thead th {\n",
              "        text-align: right;\n",
              "    }\n",
              "</style>\n",
              "<table border=\"1\" class=\"dataframe\">\n",
              "  <thead>\n",
              "    <tr style=\"text-align: right;\">\n",
              "      <th></th>\n",
              "      <th>date_time</th>\n",
              "      <th>wind_direction</th>\n",
              "      <th>sky_condition</th>\n",
              "      <th>precipitation_form</th>\n",
              "      <th>wind_speed</th>\n",
              "      <th>humidity</th>\n",
              "      <th>low_temp</th>\n",
              "      <th>high_temp</th>\n",
              "      <th>Precipitation_Probability</th>\n",
              "      <th>number_of_rentals</th>\n",
              "    </tr>\n",
              "  </thead>\n",
              "  <tbody>\n",
              "    <tr>\n",
              "      <th>0</th>\n",
              "      <td>2018-04-01</td>\n",
              "      <td>207.500</td>\n",
              "      <td>4.000</td>\n",
              "      <td>0.000</td>\n",
              "      <td>3.050</td>\n",
              "      <td>75.000</td>\n",
              "      <td>12.600</td>\n",
              "      <td>21.000</td>\n",
              "      <td>30.000</td>\n",
              "      <td>22994</td>\n",
              "    </tr>\n",
              "    <tr>\n",
              "      <th>1</th>\n",
              "      <td>2018-04-02</td>\n",
              "      <td>208.317</td>\n",
              "      <td>2.950</td>\n",
              "      <td>0.000</td>\n",
              "      <td>3.278</td>\n",
              "      <td>69.833</td>\n",
              "      <td>12.812</td>\n",
              "      <td>19.000</td>\n",
              "      <td>19.500</td>\n",
              "      <td>28139</td>\n",
              "    </tr>\n",
              "    <tr>\n",
              "      <th>2</th>\n",
              "      <td>2018-04-03</td>\n",
              "      <td>213.516</td>\n",
              "      <td>2.911</td>\n",
              "      <td>0.000</td>\n",
              "      <td>2.690</td>\n",
              "      <td>74.879</td>\n",
              "      <td>10.312</td>\n",
              "      <td>15.316</td>\n",
              "      <td>19.113</td>\n",
              "      <td>26817</td>\n",
              "    </tr>\n",
              "    <tr>\n",
              "      <th>3</th>\n",
              "      <td>2018-04-04</td>\n",
              "      <td>143.836</td>\n",
              "      <td>3.692</td>\n",
              "      <td>0.425</td>\n",
              "      <td>3.138</td>\n",
              "      <td>71.849</td>\n",
              "      <td>8.312</td>\n",
              "      <td>12.368</td>\n",
              "      <td>43.493</td>\n",
              "      <td>26034</td>\n",
              "    </tr>\n",
              "    <tr>\n",
              "      <th>4</th>\n",
              "      <td>2018-04-05</td>\n",
              "      <td>95.905</td>\n",
              "      <td>4.000</td>\n",
              "      <td>0.723</td>\n",
              "      <td>3.186</td>\n",
              "      <td>73.784</td>\n",
              "      <td>5.875</td>\n",
              "      <td>10.421</td>\n",
              "      <td>63.378</td>\n",
              "      <td>2833</td>\n",
              "    </tr>\n",
              "  </tbody>\n",
              "</table>\n",
              "</div>\n",
              "      <button class=\"colab-df-convert\" onclick=\"convertToInteractive('df-c47ad70c-fe69-4859-9400-e68963fe25bc')\"\n",
              "              title=\"Convert this dataframe to an interactive table.\"\n",
              "              style=\"display:none;\">\n",
              "        \n",
              "  <svg xmlns=\"http://www.w3.org/2000/svg\" height=\"24px\"viewBox=\"0 0 24 24\"\n",
              "       width=\"24px\">\n",
              "    <path d=\"M0 0h24v24H0V0z\" fill=\"none\"/>\n",
              "    <path d=\"M18.56 5.44l.94 2.06.94-2.06 2.06-.94-2.06-.94-.94-2.06-.94 2.06-2.06.94zm-11 1L8.5 8.5l.94-2.06 2.06-.94-2.06-.94L8.5 2.5l-.94 2.06-2.06.94zm10 10l.94 2.06.94-2.06 2.06-.94-2.06-.94-.94-2.06-.94 2.06-2.06.94z\"/><path d=\"M17.41 7.96l-1.37-1.37c-.4-.4-.92-.59-1.43-.59-.52 0-1.04.2-1.43.59L10.3 9.45l-7.72 7.72c-.78.78-.78 2.05 0 2.83L4 21.41c.39.39.9.59 1.41.59.51 0 1.02-.2 1.41-.59l7.78-7.78 2.81-2.81c.8-.78.8-2.07 0-2.86zM5.41 20L4 18.59l7.72-7.72 1.47 1.35L5.41 20z\"/>\n",
              "  </svg>\n",
              "      </button>\n",
              "      \n",
              "  <style>\n",
              "    .colab-df-container {\n",
              "      display:flex;\n",
              "      flex-wrap:wrap;\n",
              "      gap: 12px;\n",
              "    }\n",
              "\n",
              "    .colab-df-convert {\n",
              "      background-color: #E8F0FE;\n",
              "      border: none;\n",
              "      border-radius: 50%;\n",
              "      cursor: pointer;\n",
              "      display: none;\n",
              "      fill: #1967D2;\n",
              "      height: 32px;\n",
              "      padding: 0 0 0 0;\n",
              "      width: 32px;\n",
              "    }\n",
              "\n",
              "    .colab-df-convert:hover {\n",
              "      background-color: #E2EBFA;\n",
              "      box-shadow: 0px 1px 2px rgba(60, 64, 67, 0.3), 0px 1px 3px 1px rgba(60, 64, 67, 0.15);\n",
              "      fill: #174EA6;\n",
              "    }\n",
              "\n",
              "    [theme=dark] .colab-df-convert {\n",
              "      background-color: #3B4455;\n",
              "      fill: #D2E3FC;\n",
              "    }\n",
              "\n",
              "    [theme=dark] .colab-df-convert:hover {\n",
              "      background-color: #434B5C;\n",
              "      box-shadow: 0px 1px 3px 1px rgba(0, 0, 0, 0.15);\n",
              "      filter: drop-shadow(0px 1px 2px rgba(0, 0, 0, 0.3));\n",
              "      fill: #FFFFFF;\n",
              "    }\n",
              "  </style>\n",
              "\n",
              "      <script>\n",
              "        const buttonEl =\n",
              "          document.querySelector('#df-c47ad70c-fe69-4859-9400-e68963fe25bc button.colab-df-convert');\n",
              "        buttonEl.style.display =\n",
              "          google.colab.kernel.accessAllowed ? 'block' : 'none';\n",
              "\n",
              "        async function convertToInteractive(key) {\n",
              "          const element = document.querySelector('#df-c47ad70c-fe69-4859-9400-e68963fe25bc');\n",
              "          const dataTable =\n",
              "            await google.colab.kernel.invokeFunction('convertToInteractive',\n",
              "                                                     [key], {});\n",
              "          if (!dataTable) return;\n",
              "\n",
              "          const docLinkHtml = 'Like what you see? Visit the ' +\n",
              "            '<a target=\"_blank\" href=https://colab.research.google.com/notebooks/data_table.ipynb>data table notebook</a>'\n",
              "            + ' to learn more about interactive tables.';\n",
              "          element.innerHTML = '';\n",
              "          dataTable['output_type'] = 'display_data';\n",
              "          await google.colab.output.renderOutput(dataTable, element);\n",
              "          const docLink = document.createElement('div');\n",
              "          docLink.innerHTML = docLinkHtml;\n",
              "          element.appendChild(docLink);\n",
              "        }\n",
              "      </script>\n",
              "    </div>\n",
              "  </div>\n",
              "  "
            ]
          },
          "metadata": {},
          "execution_count": 5
        }
      ]
    },
    {
      "cell_type": "code",
      "source": [
        "# 데이터 하위 5개 행 출력\n",
        "train.tail()"
      ],
      "metadata": {
        "colab": {
          "base_uri": "https://localhost:8080/",
          "height": 206
        },
        "id": "9zZy79Y5zROp",
        "outputId": "34d14851-8d0c-4fcc-be0c-211f8550482e"
      },
      "execution_count": 6,
      "outputs": [
        {
          "output_type": "execute_result",
          "data": {
            "text/plain": [
              "      date_time  wind_direction  sky_condition  precipitation_form  \\\n",
              "268  2020-06-26         228.662          3.980               0.223   \n",
              "269  2020-06-27         207.770          2.865               0.081   \n",
              "270  2020-06-28         282.568          1.730               0.000   \n",
              "271  2020-06-29         137.027          2.257               0.088   \n",
              "272  2020-06-30         120.797          3.622               0.432   \n",
              "\n",
              "     wind_speed  humidity  low_temp  high_temp  Precipitation_Probability  \\\n",
              "268       2.271    78.378    20.500     27.526                     36.486   \n",
              "269       1.794    78.412    20.812     28.842                     21.081   \n",
              "270       1.820    72.736    21.000     29.053                      7.297   \n",
              "271       2.043    70.473    19.625     26.000                     15.541   \n",
              "272       5.574    77.061    19.125     26.053                     41.284   \n",
              "\n",
              "     number_of_rentals  \n",
              "268              96150  \n",
              "269             107001  \n",
              "270              98568  \n",
              "271              70053  \n",
              "272              38086  "
            ],
            "text/html": [
              "\n",
              "  <div id=\"df-858e26ea-37f4-4d6c-bd51-30758314fb95\">\n",
              "    <div class=\"colab-df-container\">\n",
              "      <div>\n",
              "<style scoped>\n",
              "    .dataframe tbody tr th:only-of-type {\n",
              "        vertical-align: middle;\n",
              "    }\n",
              "\n",
              "    .dataframe tbody tr th {\n",
              "        vertical-align: top;\n",
              "    }\n",
              "\n",
              "    .dataframe thead th {\n",
              "        text-align: right;\n",
              "    }\n",
              "</style>\n",
              "<table border=\"1\" class=\"dataframe\">\n",
              "  <thead>\n",
              "    <tr style=\"text-align: right;\">\n",
              "      <th></th>\n",
              "      <th>date_time</th>\n",
              "      <th>wind_direction</th>\n",
              "      <th>sky_condition</th>\n",
              "      <th>precipitation_form</th>\n",
              "      <th>wind_speed</th>\n",
              "      <th>humidity</th>\n",
              "      <th>low_temp</th>\n",
              "      <th>high_temp</th>\n",
              "      <th>Precipitation_Probability</th>\n",
              "      <th>number_of_rentals</th>\n",
              "    </tr>\n",
              "  </thead>\n",
              "  <tbody>\n",
              "    <tr>\n",
              "      <th>268</th>\n",
              "      <td>2020-06-26</td>\n",
              "      <td>228.662</td>\n",
              "      <td>3.980</td>\n",
              "      <td>0.223</td>\n",
              "      <td>2.271</td>\n",
              "      <td>78.378</td>\n",
              "      <td>20.500</td>\n",
              "      <td>27.526</td>\n",
              "      <td>36.486</td>\n",
              "      <td>96150</td>\n",
              "    </tr>\n",
              "    <tr>\n",
              "      <th>269</th>\n",
              "      <td>2020-06-27</td>\n",
              "      <td>207.770</td>\n",
              "      <td>2.865</td>\n",
              "      <td>0.081</td>\n",
              "      <td>1.794</td>\n",
              "      <td>78.412</td>\n",
              "      <td>20.812</td>\n",
              "      <td>28.842</td>\n",
              "      <td>21.081</td>\n",
              "      <td>107001</td>\n",
              "    </tr>\n",
              "    <tr>\n",
              "      <th>270</th>\n",
              "      <td>2020-06-28</td>\n",
              "      <td>282.568</td>\n",
              "      <td>1.730</td>\n",
              "      <td>0.000</td>\n",
              "      <td>1.820</td>\n",
              "      <td>72.736</td>\n",
              "      <td>21.000</td>\n",
              "      <td>29.053</td>\n",
              "      <td>7.297</td>\n",
              "      <td>98568</td>\n",
              "    </tr>\n",
              "    <tr>\n",
              "      <th>271</th>\n",
              "      <td>2020-06-29</td>\n",
              "      <td>137.027</td>\n",
              "      <td>2.257</td>\n",
              "      <td>0.088</td>\n",
              "      <td>2.043</td>\n",
              "      <td>70.473</td>\n",
              "      <td>19.625</td>\n",
              "      <td>26.000</td>\n",
              "      <td>15.541</td>\n",
              "      <td>70053</td>\n",
              "    </tr>\n",
              "    <tr>\n",
              "      <th>272</th>\n",
              "      <td>2020-06-30</td>\n",
              "      <td>120.797</td>\n",
              "      <td>3.622</td>\n",
              "      <td>0.432</td>\n",
              "      <td>5.574</td>\n",
              "      <td>77.061</td>\n",
              "      <td>19.125</td>\n",
              "      <td>26.053</td>\n",
              "      <td>41.284</td>\n",
              "      <td>38086</td>\n",
              "    </tr>\n",
              "  </tbody>\n",
              "</table>\n",
              "</div>\n",
              "      <button class=\"colab-df-convert\" onclick=\"convertToInteractive('df-858e26ea-37f4-4d6c-bd51-30758314fb95')\"\n",
              "              title=\"Convert this dataframe to an interactive table.\"\n",
              "              style=\"display:none;\">\n",
              "        \n",
              "  <svg xmlns=\"http://www.w3.org/2000/svg\" height=\"24px\"viewBox=\"0 0 24 24\"\n",
              "       width=\"24px\">\n",
              "    <path d=\"M0 0h24v24H0V0z\" fill=\"none\"/>\n",
              "    <path d=\"M18.56 5.44l.94 2.06.94-2.06 2.06-.94-2.06-.94-.94-2.06-.94 2.06-2.06.94zm-11 1L8.5 8.5l.94-2.06 2.06-.94-2.06-.94L8.5 2.5l-.94 2.06-2.06.94zm10 10l.94 2.06.94-2.06 2.06-.94-2.06-.94-.94-2.06-.94 2.06-2.06.94z\"/><path d=\"M17.41 7.96l-1.37-1.37c-.4-.4-.92-.59-1.43-.59-.52 0-1.04.2-1.43.59L10.3 9.45l-7.72 7.72c-.78.78-.78 2.05 0 2.83L4 21.41c.39.39.9.59 1.41.59.51 0 1.02-.2 1.41-.59l7.78-7.78 2.81-2.81c.8-.78.8-2.07 0-2.86zM5.41 20L4 18.59l7.72-7.72 1.47 1.35L5.41 20z\"/>\n",
              "  </svg>\n",
              "      </button>\n",
              "      \n",
              "  <style>\n",
              "    .colab-df-container {\n",
              "      display:flex;\n",
              "      flex-wrap:wrap;\n",
              "      gap: 12px;\n",
              "    }\n",
              "\n",
              "    .colab-df-convert {\n",
              "      background-color: #E8F0FE;\n",
              "      border: none;\n",
              "      border-radius: 50%;\n",
              "      cursor: pointer;\n",
              "      display: none;\n",
              "      fill: #1967D2;\n",
              "      height: 32px;\n",
              "      padding: 0 0 0 0;\n",
              "      width: 32px;\n",
              "    }\n",
              "\n",
              "    .colab-df-convert:hover {\n",
              "      background-color: #E2EBFA;\n",
              "      box-shadow: 0px 1px 2px rgba(60, 64, 67, 0.3), 0px 1px 3px 1px rgba(60, 64, 67, 0.15);\n",
              "      fill: #174EA6;\n",
              "    }\n",
              "\n",
              "    [theme=dark] .colab-df-convert {\n",
              "      background-color: #3B4455;\n",
              "      fill: #D2E3FC;\n",
              "    }\n",
              "\n",
              "    [theme=dark] .colab-df-convert:hover {\n",
              "      background-color: #434B5C;\n",
              "      box-shadow: 0px 1px 3px 1px rgba(0, 0, 0, 0.15);\n",
              "      filter: drop-shadow(0px 1px 2px rgba(0, 0, 0, 0.3));\n",
              "      fill: #FFFFFF;\n",
              "    }\n",
              "  </style>\n",
              "\n",
              "      <script>\n",
              "        const buttonEl =\n",
              "          document.querySelector('#df-858e26ea-37f4-4d6c-bd51-30758314fb95 button.colab-df-convert');\n",
              "        buttonEl.style.display =\n",
              "          google.colab.kernel.accessAllowed ? 'block' : 'none';\n",
              "\n",
              "        async function convertToInteractive(key) {\n",
              "          const element = document.querySelector('#df-858e26ea-37f4-4d6c-bd51-30758314fb95');\n",
              "          const dataTable =\n",
              "            await google.colab.kernel.invokeFunction('convertToInteractive',\n",
              "                                                     [key], {});\n",
              "          if (!dataTable) return;\n",
              "\n",
              "          const docLinkHtml = 'Like what you see? Visit the ' +\n",
              "            '<a target=\"_blank\" href=https://colab.research.google.com/notebooks/data_table.ipynb>data table notebook</a>'\n",
              "            + ' to learn more about interactive tables.';\n",
              "          element.innerHTML = '';\n",
              "          dataTable['output_type'] = 'display_data';\n",
              "          await google.colab.output.renderOutput(dataTable, element);\n",
              "          const docLink = document.createElement('div');\n",
              "          docLink.innerHTML = docLinkHtml;\n",
              "          element.appendChild(docLink);\n",
              "        }\n",
              "      </script>\n",
              "    </div>\n",
              "  </div>\n",
              "  "
            ]
          },
          "metadata": {},
          "execution_count": 6
        }
      ]
    },
    {
      "cell_type": "code",
      "source": [
        "# 데이터 결측치 및 변수들의 타입 확인\n",
        "train.info()"
      ],
      "metadata": {
        "colab": {
          "base_uri": "https://localhost:8080/"
        },
        "id": "kKGh9UL8zWSF",
        "outputId": "771e5e12-c1ad-4e8e-c388-64508bd029cb"
      },
      "execution_count": 7,
      "outputs": [
        {
          "output_type": "stream",
          "name": "stdout",
          "text": [
            "<class 'pandas.core.frame.DataFrame'>\n",
            "RangeIndex: 273 entries, 0 to 272\n",
            "Data columns (total 10 columns):\n",
            " #   Column                     Non-Null Count  Dtype  \n",
            "---  ------                     --------------  -----  \n",
            " 0   date_time                  273 non-null    object \n",
            " 1   wind_direction             273 non-null    float64\n",
            " 2   sky_condition              273 non-null    float64\n",
            " 3   precipitation_form         273 non-null    float64\n",
            " 4   wind_speed                 273 non-null    float64\n",
            " 5   humidity                   273 non-null    float64\n",
            " 6   low_temp                   273 non-null    float64\n",
            " 7   high_temp                  273 non-null    float64\n",
            " 8   Precipitation_Probability  273 non-null    float64\n",
            " 9   number_of_rentals          273 non-null    int64  \n",
            "dtypes: float64(8), int64(1), object(1)\n",
            "memory usage: 21.5+ KB\n"
          ]
        }
      ]
    },
    {
      "cell_type": "code",
      "source": [
        "# 데이터 행, 열 출력\n",
        "train.shape"
      ],
      "metadata": {
        "colab": {
          "base_uri": "https://localhost:8080/"
        },
        "id": "gZvgZTyUzblK",
        "outputId": "912a7b8e-1a29-4a1f-faa9-5ba13d42b45a"
      },
      "execution_count": 8,
      "outputs": [
        {
          "output_type": "execute_result",
          "data": {
            "text/plain": [
              "(273, 10)"
            ]
          },
          "metadata": {},
          "execution_count": 8
        }
      ]
    },
    {
      "cell_type": "markdown",
      "source": [
        "## 1.3. 데이터 통계치 확인"
      ],
      "metadata": {
        "id": "lyduWdwIztXG"
      }
    },
    {
      "cell_type": "code",
      "source": [
        "train.describe()"
      ],
      "metadata": {
        "colab": {
          "base_uri": "https://localhost:8080/",
          "height": 300
        },
        "id": "2SfWXxglzoTH",
        "outputId": "f81a1262-f0f1-4058-88cb-a00945e90811"
      },
      "execution_count": 9,
      "outputs": [
        {
          "output_type": "execute_result",
          "data": {
            "text/plain": [
              "       wind_direction  sky_condition  precipitation_form  wind_speed  \\\n",
              "count      273.000000     273.000000          273.000000  273.000000   \n",
              "mean       202.750967       2.288256            0.100963    2.480963   \n",
              "std         56.659232       0.961775            0.203193    0.884397   \n",
              "min         57.047000       1.000000            0.000000    0.753000   \n",
              "25%        171.541000       1.405000            0.000000    1.820000   \n",
              "50%        209.774000       2.167000            0.000000    2.411000   \n",
              "75%        238.412000       3.000000            0.088000    2.924000   \n",
              "max        321.622000       4.000000            1.000000    5.607000   \n",
              "\n",
              "         humidity    low_temp   high_temp  Precipitation_Probability  \\\n",
              "count  273.000000  273.000000  273.000000                 273.000000   \n",
              "mean    56.745491   13.795249   23.384733                  16.878103   \n",
              "std     12.351268    5.107711    5.204605                  16.643772   \n",
              "min     24.831000    1.938000    9.895000                   0.000000   \n",
              "25%     47.196000    9.938000   19.842000                   4.054000   \n",
              "50%     55.845000   14.375000   24.158000                  12.162000   \n",
              "75%     66.419000   18.000000   27.526000                  22.973000   \n",
              "max     88.885000   22.312000   33.421000                  82.162000   \n",
              "\n",
              "       number_of_rentals  \n",
              "count         273.000000  \n",
              "mean        59574.978022  \n",
              "std         27659.575774  \n",
              "min          1037.000000  \n",
              "25%         36761.000000  \n",
              "50%         63032.000000  \n",
              "75%         81515.000000  \n",
              "max        110377.000000  "
            ],
            "text/html": [
              "\n",
              "  <div id=\"df-188a1a44-11fe-4a2d-9363-e2fbf6916a10\">\n",
              "    <div class=\"colab-df-container\">\n",
              "      <div>\n",
              "<style scoped>\n",
              "    .dataframe tbody tr th:only-of-type {\n",
              "        vertical-align: middle;\n",
              "    }\n",
              "\n",
              "    .dataframe tbody tr th {\n",
              "        vertical-align: top;\n",
              "    }\n",
              "\n",
              "    .dataframe thead th {\n",
              "        text-align: right;\n",
              "    }\n",
              "</style>\n",
              "<table border=\"1\" class=\"dataframe\">\n",
              "  <thead>\n",
              "    <tr style=\"text-align: right;\">\n",
              "      <th></th>\n",
              "      <th>wind_direction</th>\n",
              "      <th>sky_condition</th>\n",
              "      <th>precipitation_form</th>\n",
              "      <th>wind_speed</th>\n",
              "      <th>humidity</th>\n",
              "      <th>low_temp</th>\n",
              "      <th>high_temp</th>\n",
              "      <th>Precipitation_Probability</th>\n",
              "      <th>number_of_rentals</th>\n",
              "    </tr>\n",
              "  </thead>\n",
              "  <tbody>\n",
              "    <tr>\n",
              "      <th>count</th>\n",
              "      <td>273.000000</td>\n",
              "      <td>273.000000</td>\n",
              "      <td>273.000000</td>\n",
              "      <td>273.000000</td>\n",
              "      <td>273.000000</td>\n",
              "      <td>273.000000</td>\n",
              "      <td>273.000000</td>\n",
              "      <td>273.000000</td>\n",
              "      <td>273.000000</td>\n",
              "    </tr>\n",
              "    <tr>\n",
              "      <th>mean</th>\n",
              "      <td>202.750967</td>\n",
              "      <td>2.288256</td>\n",
              "      <td>0.100963</td>\n",
              "      <td>2.480963</td>\n",
              "      <td>56.745491</td>\n",
              "      <td>13.795249</td>\n",
              "      <td>23.384733</td>\n",
              "      <td>16.878103</td>\n",
              "      <td>59574.978022</td>\n",
              "    </tr>\n",
              "    <tr>\n",
              "      <th>std</th>\n",
              "      <td>56.659232</td>\n",
              "      <td>0.961775</td>\n",
              "      <td>0.203193</td>\n",
              "      <td>0.884397</td>\n",
              "      <td>12.351268</td>\n",
              "      <td>5.107711</td>\n",
              "      <td>5.204605</td>\n",
              "      <td>16.643772</td>\n",
              "      <td>27659.575774</td>\n",
              "    </tr>\n",
              "    <tr>\n",
              "      <th>min</th>\n",
              "      <td>57.047000</td>\n",
              "      <td>1.000000</td>\n",
              "      <td>0.000000</td>\n",
              "      <td>0.753000</td>\n",
              "      <td>24.831000</td>\n",
              "      <td>1.938000</td>\n",
              "      <td>9.895000</td>\n",
              "      <td>0.000000</td>\n",
              "      <td>1037.000000</td>\n",
              "    </tr>\n",
              "    <tr>\n",
              "      <th>25%</th>\n",
              "      <td>171.541000</td>\n",
              "      <td>1.405000</td>\n",
              "      <td>0.000000</td>\n",
              "      <td>1.820000</td>\n",
              "      <td>47.196000</td>\n",
              "      <td>9.938000</td>\n",
              "      <td>19.842000</td>\n",
              "      <td>4.054000</td>\n",
              "      <td>36761.000000</td>\n",
              "    </tr>\n",
              "    <tr>\n",
              "      <th>50%</th>\n",
              "      <td>209.774000</td>\n",
              "      <td>2.167000</td>\n",
              "      <td>0.000000</td>\n",
              "      <td>2.411000</td>\n",
              "      <td>55.845000</td>\n",
              "      <td>14.375000</td>\n",
              "      <td>24.158000</td>\n",
              "      <td>12.162000</td>\n",
              "      <td>63032.000000</td>\n",
              "    </tr>\n",
              "    <tr>\n",
              "      <th>75%</th>\n",
              "      <td>238.412000</td>\n",
              "      <td>3.000000</td>\n",
              "      <td>0.088000</td>\n",
              "      <td>2.924000</td>\n",
              "      <td>66.419000</td>\n",
              "      <td>18.000000</td>\n",
              "      <td>27.526000</td>\n",
              "      <td>22.973000</td>\n",
              "      <td>81515.000000</td>\n",
              "    </tr>\n",
              "    <tr>\n",
              "      <th>max</th>\n",
              "      <td>321.622000</td>\n",
              "      <td>4.000000</td>\n",
              "      <td>1.000000</td>\n",
              "      <td>5.607000</td>\n",
              "      <td>88.885000</td>\n",
              "      <td>22.312000</td>\n",
              "      <td>33.421000</td>\n",
              "      <td>82.162000</td>\n",
              "      <td>110377.000000</td>\n",
              "    </tr>\n",
              "  </tbody>\n",
              "</table>\n",
              "</div>\n",
              "      <button class=\"colab-df-convert\" onclick=\"convertToInteractive('df-188a1a44-11fe-4a2d-9363-e2fbf6916a10')\"\n",
              "              title=\"Convert this dataframe to an interactive table.\"\n",
              "              style=\"display:none;\">\n",
              "        \n",
              "  <svg xmlns=\"http://www.w3.org/2000/svg\" height=\"24px\"viewBox=\"0 0 24 24\"\n",
              "       width=\"24px\">\n",
              "    <path d=\"M0 0h24v24H0V0z\" fill=\"none\"/>\n",
              "    <path d=\"M18.56 5.44l.94 2.06.94-2.06 2.06-.94-2.06-.94-.94-2.06-.94 2.06-2.06.94zm-11 1L8.5 8.5l.94-2.06 2.06-.94-2.06-.94L8.5 2.5l-.94 2.06-2.06.94zm10 10l.94 2.06.94-2.06 2.06-.94-2.06-.94-.94-2.06-.94 2.06-2.06.94z\"/><path d=\"M17.41 7.96l-1.37-1.37c-.4-.4-.92-.59-1.43-.59-.52 0-1.04.2-1.43.59L10.3 9.45l-7.72 7.72c-.78.78-.78 2.05 0 2.83L4 21.41c.39.39.9.59 1.41.59.51 0 1.02-.2 1.41-.59l7.78-7.78 2.81-2.81c.8-.78.8-2.07 0-2.86zM5.41 20L4 18.59l7.72-7.72 1.47 1.35L5.41 20z\"/>\n",
              "  </svg>\n",
              "      </button>\n",
              "      \n",
              "  <style>\n",
              "    .colab-df-container {\n",
              "      display:flex;\n",
              "      flex-wrap:wrap;\n",
              "      gap: 12px;\n",
              "    }\n",
              "\n",
              "    .colab-df-convert {\n",
              "      background-color: #E8F0FE;\n",
              "      border: none;\n",
              "      border-radius: 50%;\n",
              "      cursor: pointer;\n",
              "      display: none;\n",
              "      fill: #1967D2;\n",
              "      height: 32px;\n",
              "      padding: 0 0 0 0;\n",
              "      width: 32px;\n",
              "    }\n",
              "\n",
              "    .colab-df-convert:hover {\n",
              "      background-color: #E2EBFA;\n",
              "      box-shadow: 0px 1px 2px rgba(60, 64, 67, 0.3), 0px 1px 3px 1px rgba(60, 64, 67, 0.15);\n",
              "      fill: #174EA6;\n",
              "    }\n",
              "\n",
              "    [theme=dark] .colab-df-convert {\n",
              "      background-color: #3B4455;\n",
              "      fill: #D2E3FC;\n",
              "    }\n",
              "\n",
              "    [theme=dark] .colab-df-convert:hover {\n",
              "      background-color: #434B5C;\n",
              "      box-shadow: 0px 1px 3px 1px rgba(0, 0, 0, 0.15);\n",
              "      filter: drop-shadow(0px 1px 2px rgba(0, 0, 0, 0.3));\n",
              "      fill: #FFFFFF;\n",
              "    }\n",
              "  </style>\n",
              "\n",
              "      <script>\n",
              "        const buttonEl =\n",
              "          document.querySelector('#df-188a1a44-11fe-4a2d-9363-e2fbf6916a10 button.colab-df-convert');\n",
              "        buttonEl.style.display =\n",
              "          google.colab.kernel.accessAllowed ? 'block' : 'none';\n",
              "\n",
              "        async function convertToInteractive(key) {\n",
              "          const element = document.querySelector('#df-188a1a44-11fe-4a2d-9363-e2fbf6916a10');\n",
              "          const dataTable =\n",
              "            await google.colab.kernel.invokeFunction('convertToInteractive',\n",
              "                                                     [key], {});\n",
              "          if (!dataTable) return;\n",
              "\n",
              "          const docLinkHtml = 'Like what you see? Visit the ' +\n",
              "            '<a target=\"_blank\" href=https://colab.research.google.com/notebooks/data_table.ipynb>data table notebook</a>'\n",
              "            + ' to learn more about interactive tables.';\n",
              "          element.innerHTML = '';\n",
              "          dataTable['output_type'] = 'display_data';\n",
              "          await google.colab.output.renderOutput(dataTable, element);\n",
              "          const docLink = document.createElement('div');\n",
              "          docLink.innerHTML = docLinkHtml;\n",
              "          element.appendChild(docLink);\n",
              "        }\n",
              "      </script>\n",
              "    </div>\n",
              "  </div>\n",
              "  "
            ]
          },
          "metadata": {},
          "execution_count": 9
        }
      ]
    },
    {
      "cell_type": "markdown",
      "source": [
        "# 2. 데이터 전처리\n",
        "\n",
        "EDA를 하기 위한 데이터 선행처리"
      ],
      "metadata": {
        "id": "KYbU030fz5xU"
      }
    },
    {
      "cell_type": "markdown",
      "source": [
        "## 2.1. 'date_time' 열 쪼개기"
      ],
      "metadata": {
        "id": "KFbxwvnIz-le"
      }
    },
    {
      "cell_type": "code",
      "source": [
        "train['date_time']"
      ],
      "metadata": {
        "colab": {
          "base_uri": "https://localhost:8080/"
        },
        "id": "CvxNopzS0GLq",
        "outputId": "c1209592-ecf9-48e0-990b-bb71ea52aae7"
      },
      "execution_count": 13,
      "outputs": [
        {
          "output_type": "execute_result",
          "data": {
            "text/plain": [
              "0      2018-04-01\n",
              "1      2018-04-02\n",
              "2      2018-04-03\n",
              "3      2018-04-04\n",
              "4      2018-04-05\n",
              "          ...    \n",
              "268    2020-06-26\n",
              "269    2020-06-27\n",
              "270    2020-06-28\n",
              "271    2020-06-29\n",
              "272    2020-06-30\n",
              "Name: date_time, Length: 273, dtype: object"
            ]
          },
          "metadata": {},
          "execution_count": 13
        }
      ]
    },
    {
      "cell_type": "code",
      "source": [
        "train['date_time'][0].split('-')"
      ],
      "metadata": {
        "colab": {
          "base_uri": "https://localhost:8080/"
        },
        "id": "GApGqaOt0L2f",
        "outputId": "3f9ddc6a-1fe1-4b03-816a-84f19a82a833"
      },
      "execution_count": 19,
      "outputs": [
        {
          "output_type": "execute_result",
          "data": {
            "text/plain": [
              "['2018', '04', '01']"
            ]
          },
          "metadata": {},
          "execution_count": 19
        }
      ]
    },
    {
      "cell_type": "code",
      "source": [
        "year, month, day = train['date_time'][0].split('-')\n",
        "print('년 : ' + year)\n",
        "print('월 : ' + month)\n",
        "print('일 : ' + day)"
      ],
      "metadata": {
        "colab": {
          "base_uri": "https://localhost:8080/"
        },
        "id": "HEhOo1yy0WrS",
        "outputId": "bd630ddf-f8e8-48ac-a46f-dac6ab93d755"
      },
      "execution_count": 20,
      "outputs": [
        {
          "output_type": "stream",
          "name": "stdout",
          "text": [
            "년 : 2018\n",
            "월 : 04\n",
            "일 : 01\n"
          ]
        }
      ]
    },
    {
      "cell_type": "code",
      "source": [
        "train['date_time'].apply(lambda x : x.split('-'))"
      ],
      "metadata": {
        "colab": {
          "base_uri": "https://localhost:8080/"
        },
        "id": "luhei_nF00Lv",
        "outputId": "4e4ef5ba-35f4-4240-c0d0-408ed2f18dcf"
      },
      "execution_count": 21,
      "outputs": [
        {
          "output_type": "execute_result",
          "data": {
            "text/plain": [
              "0      [2018, 04, 01]\n",
              "1      [2018, 04, 02]\n",
              "2      [2018, 04, 03]\n",
              "3      [2018, 04, 04]\n",
              "4      [2018, 04, 05]\n",
              "            ...      \n",
              "268    [2020, 06, 26]\n",
              "269    [2020, 06, 27]\n",
              "270    [2020, 06, 28]\n",
              "271    [2020, 06, 29]\n",
              "272    [2020, 06, 30]\n",
              "Name: date_time, Length: 273, dtype: object"
            ]
          },
          "metadata": {},
          "execution_count": 21
        }
      ]
    },
    {
      "cell_type": "code",
      "source": [
        "train['date_time'].apply(lambda x : x.split('-')[0])"
      ],
      "metadata": {
        "colab": {
          "base_uri": "https://localhost:8080/"
        },
        "id": "2S53uIz71N_9",
        "outputId": "96eb0018-8af5-4834-90d5-e47e551c7c0d"
      },
      "execution_count": 26,
      "outputs": [
        {
          "output_type": "execute_result",
          "data": {
            "text/plain": [
              "0      2018\n",
              "1      2018\n",
              "2      2018\n",
              "3      2018\n",
              "4      2018\n",
              "       ... \n",
              "268    2020\n",
              "269    2020\n",
              "270    2020\n",
              "271    2020\n",
              "272    2020\n",
              "Name: date_time, Length: 273, dtype: object"
            ]
          },
          "metadata": {},
          "execution_count": 26
        }
      ]
    },
    {
      "cell_type": "code",
      "source": [
        "def temp(x):\n",
        "  return x.split('-')[0]\n",
        "\n",
        "train['date_time'].map(temp)"
      ],
      "metadata": {
        "colab": {
          "base_uri": "https://localhost:8080/"
        },
        "id": "jf6KiczO1ekM",
        "outputId": "4976afba-a86c-4111-9469-7ca6f0768067"
      },
      "execution_count": 28,
      "outputs": [
        {
          "output_type": "execute_result",
          "data": {
            "text/plain": [
              "0      2018\n",
              "1      2018\n",
              "2      2018\n",
              "3      2018\n",
              "4      2018\n",
              "       ... \n",
              "268    2020\n",
              "269    2020\n",
              "270    2020\n",
              "271    2020\n",
              "272    2020\n",
              "Name: date_time, Length: 273, dtype: object"
            ]
          },
          "metadata": {},
          "execution_count": 28
        }
      ]
    },
    {
      "cell_type": "code",
      "source": [
        "train.apply(lambda x : x*2)"
      ],
      "metadata": {
        "colab": {
          "base_uri": "https://localhost:8080/",
          "height": 423
        },
        "id": "cUWmnDC31-NE",
        "outputId": "1baf105a-417c-433b-e176-12bc206fa620"
      },
      "execution_count": 29,
      "outputs": [
        {
          "output_type": "execute_result",
          "data": {
            "text/plain": [
              "                date_time  wind_direction  sky_condition  precipitation_form  \\\n",
              "0    2018-04-012018-04-01         415.000          8.000               0.000   \n",
              "1    2018-04-022018-04-02         416.634          5.900               0.000   \n",
              "2    2018-04-032018-04-03         427.032          5.822               0.000   \n",
              "3    2018-04-042018-04-04         287.672          7.384               0.850   \n",
              "4    2018-04-052018-04-05         191.810          8.000               1.446   \n",
              "..                    ...             ...            ...                 ...   \n",
              "268  2020-06-262020-06-26         457.324          7.960               0.446   \n",
              "269  2020-06-272020-06-27         415.540          5.730               0.162   \n",
              "270  2020-06-282020-06-28         565.136          3.460               0.000   \n",
              "271  2020-06-292020-06-29         274.054          4.514               0.176   \n",
              "272  2020-06-302020-06-30         241.594          7.244               0.864   \n",
              "\n",
              "     wind_speed  humidity  low_temp  high_temp  Precipitation_Probability  \\\n",
              "0         6.100   150.000    25.200     42.000                     60.000   \n",
              "1         6.556   139.666    25.624     38.000                     39.000   \n",
              "2         5.380   149.758    20.624     30.632                     38.226   \n",
              "3         6.276   143.698    16.624     24.736                     86.986   \n",
              "4         6.372   147.568    11.750     20.842                    126.756   \n",
              "..          ...       ...       ...        ...                        ...   \n",
              "268       4.542   156.756    41.000     55.052                     72.972   \n",
              "269       3.588   156.824    41.624     57.684                     42.162   \n",
              "270       3.640   145.472    42.000     58.106                     14.594   \n",
              "271       4.086   140.946    39.250     52.000                     31.082   \n",
              "272      11.148   154.122    38.250     52.106                     82.568   \n",
              "\n",
              "     number_of_rentals  \n",
              "0                45988  \n",
              "1                56278  \n",
              "2                53634  \n",
              "3                52068  \n",
              "4                 5666  \n",
              "..                 ...  \n",
              "268             192300  \n",
              "269             214002  \n",
              "270             197136  \n",
              "271             140106  \n",
              "272              76172  \n",
              "\n",
              "[273 rows x 10 columns]"
            ],
            "text/html": [
              "\n",
              "  <div id=\"df-ce54dcc6-53f6-4da7-bc0c-b45277b000ab\">\n",
              "    <div class=\"colab-df-container\">\n",
              "      <div>\n",
              "<style scoped>\n",
              "    .dataframe tbody tr th:only-of-type {\n",
              "        vertical-align: middle;\n",
              "    }\n",
              "\n",
              "    .dataframe tbody tr th {\n",
              "        vertical-align: top;\n",
              "    }\n",
              "\n",
              "    .dataframe thead th {\n",
              "        text-align: right;\n",
              "    }\n",
              "</style>\n",
              "<table border=\"1\" class=\"dataframe\">\n",
              "  <thead>\n",
              "    <tr style=\"text-align: right;\">\n",
              "      <th></th>\n",
              "      <th>date_time</th>\n",
              "      <th>wind_direction</th>\n",
              "      <th>sky_condition</th>\n",
              "      <th>precipitation_form</th>\n",
              "      <th>wind_speed</th>\n",
              "      <th>humidity</th>\n",
              "      <th>low_temp</th>\n",
              "      <th>high_temp</th>\n",
              "      <th>Precipitation_Probability</th>\n",
              "      <th>number_of_rentals</th>\n",
              "    </tr>\n",
              "  </thead>\n",
              "  <tbody>\n",
              "    <tr>\n",
              "      <th>0</th>\n",
              "      <td>2018-04-012018-04-01</td>\n",
              "      <td>415.000</td>\n",
              "      <td>8.000</td>\n",
              "      <td>0.000</td>\n",
              "      <td>6.100</td>\n",
              "      <td>150.000</td>\n",
              "      <td>25.200</td>\n",
              "      <td>42.000</td>\n",
              "      <td>60.000</td>\n",
              "      <td>45988</td>\n",
              "    </tr>\n",
              "    <tr>\n",
              "      <th>1</th>\n",
              "      <td>2018-04-022018-04-02</td>\n",
              "      <td>416.634</td>\n",
              "      <td>5.900</td>\n",
              "      <td>0.000</td>\n",
              "      <td>6.556</td>\n",
              "      <td>139.666</td>\n",
              "      <td>25.624</td>\n",
              "      <td>38.000</td>\n",
              "      <td>39.000</td>\n",
              "      <td>56278</td>\n",
              "    </tr>\n",
              "    <tr>\n",
              "      <th>2</th>\n",
              "      <td>2018-04-032018-04-03</td>\n",
              "      <td>427.032</td>\n",
              "      <td>5.822</td>\n",
              "      <td>0.000</td>\n",
              "      <td>5.380</td>\n",
              "      <td>149.758</td>\n",
              "      <td>20.624</td>\n",
              "      <td>30.632</td>\n",
              "      <td>38.226</td>\n",
              "      <td>53634</td>\n",
              "    </tr>\n",
              "    <tr>\n",
              "      <th>3</th>\n",
              "      <td>2018-04-042018-04-04</td>\n",
              "      <td>287.672</td>\n",
              "      <td>7.384</td>\n",
              "      <td>0.850</td>\n",
              "      <td>6.276</td>\n",
              "      <td>143.698</td>\n",
              "      <td>16.624</td>\n",
              "      <td>24.736</td>\n",
              "      <td>86.986</td>\n",
              "      <td>52068</td>\n",
              "    </tr>\n",
              "    <tr>\n",
              "      <th>4</th>\n",
              "      <td>2018-04-052018-04-05</td>\n",
              "      <td>191.810</td>\n",
              "      <td>8.000</td>\n",
              "      <td>1.446</td>\n",
              "      <td>6.372</td>\n",
              "      <td>147.568</td>\n",
              "      <td>11.750</td>\n",
              "      <td>20.842</td>\n",
              "      <td>126.756</td>\n",
              "      <td>5666</td>\n",
              "    </tr>\n",
              "    <tr>\n",
              "      <th>...</th>\n",
              "      <td>...</td>\n",
              "      <td>...</td>\n",
              "      <td>...</td>\n",
              "      <td>...</td>\n",
              "      <td>...</td>\n",
              "      <td>...</td>\n",
              "      <td>...</td>\n",
              "      <td>...</td>\n",
              "      <td>...</td>\n",
              "      <td>...</td>\n",
              "    </tr>\n",
              "    <tr>\n",
              "      <th>268</th>\n",
              "      <td>2020-06-262020-06-26</td>\n",
              "      <td>457.324</td>\n",
              "      <td>7.960</td>\n",
              "      <td>0.446</td>\n",
              "      <td>4.542</td>\n",
              "      <td>156.756</td>\n",
              "      <td>41.000</td>\n",
              "      <td>55.052</td>\n",
              "      <td>72.972</td>\n",
              "      <td>192300</td>\n",
              "    </tr>\n",
              "    <tr>\n",
              "      <th>269</th>\n",
              "      <td>2020-06-272020-06-27</td>\n",
              "      <td>415.540</td>\n",
              "      <td>5.730</td>\n",
              "      <td>0.162</td>\n",
              "      <td>3.588</td>\n",
              "      <td>156.824</td>\n",
              "      <td>41.624</td>\n",
              "      <td>57.684</td>\n",
              "      <td>42.162</td>\n",
              "      <td>214002</td>\n",
              "    </tr>\n",
              "    <tr>\n",
              "      <th>270</th>\n",
              "      <td>2020-06-282020-06-28</td>\n",
              "      <td>565.136</td>\n",
              "      <td>3.460</td>\n",
              "      <td>0.000</td>\n",
              "      <td>3.640</td>\n",
              "      <td>145.472</td>\n",
              "      <td>42.000</td>\n",
              "      <td>58.106</td>\n",
              "      <td>14.594</td>\n",
              "      <td>197136</td>\n",
              "    </tr>\n",
              "    <tr>\n",
              "      <th>271</th>\n",
              "      <td>2020-06-292020-06-29</td>\n",
              "      <td>274.054</td>\n",
              "      <td>4.514</td>\n",
              "      <td>0.176</td>\n",
              "      <td>4.086</td>\n",
              "      <td>140.946</td>\n",
              "      <td>39.250</td>\n",
              "      <td>52.000</td>\n",
              "      <td>31.082</td>\n",
              "      <td>140106</td>\n",
              "    </tr>\n",
              "    <tr>\n",
              "      <th>272</th>\n",
              "      <td>2020-06-302020-06-30</td>\n",
              "      <td>241.594</td>\n",
              "      <td>7.244</td>\n",
              "      <td>0.864</td>\n",
              "      <td>11.148</td>\n",
              "      <td>154.122</td>\n",
              "      <td>38.250</td>\n",
              "      <td>52.106</td>\n",
              "      <td>82.568</td>\n",
              "      <td>76172</td>\n",
              "    </tr>\n",
              "  </tbody>\n",
              "</table>\n",
              "<p>273 rows × 10 columns</p>\n",
              "</div>\n",
              "      <button class=\"colab-df-convert\" onclick=\"convertToInteractive('df-ce54dcc6-53f6-4da7-bc0c-b45277b000ab')\"\n",
              "              title=\"Convert this dataframe to an interactive table.\"\n",
              "              style=\"display:none;\">\n",
              "        \n",
              "  <svg xmlns=\"http://www.w3.org/2000/svg\" height=\"24px\"viewBox=\"0 0 24 24\"\n",
              "       width=\"24px\">\n",
              "    <path d=\"M0 0h24v24H0V0z\" fill=\"none\"/>\n",
              "    <path d=\"M18.56 5.44l.94 2.06.94-2.06 2.06-.94-2.06-.94-.94-2.06-.94 2.06-2.06.94zm-11 1L8.5 8.5l.94-2.06 2.06-.94-2.06-.94L8.5 2.5l-.94 2.06-2.06.94zm10 10l.94 2.06.94-2.06 2.06-.94-2.06-.94-.94-2.06-.94 2.06-2.06.94z\"/><path d=\"M17.41 7.96l-1.37-1.37c-.4-.4-.92-.59-1.43-.59-.52 0-1.04.2-1.43.59L10.3 9.45l-7.72 7.72c-.78.78-.78 2.05 0 2.83L4 21.41c.39.39.9.59 1.41.59.51 0 1.02-.2 1.41-.59l7.78-7.78 2.81-2.81c.8-.78.8-2.07 0-2.86zM5.41 20L4 18.59l7.72-7.72 1.47 1.35L5.41 20z\"/>\n",
              "  </svg>\n",
              "      </button>\n",
              "      \n",
              "  <style>\n",
              "    .colab-df-container {\n",
              "      display:flex;\n",
              "      flex-wrap:wrap;\n",
              "      gap: 12px;\n",
              "    }\n",
              "\n",
              "    .colab-df-convert {\n",
              "      background-color: #E8F0FE;\n",
              "      border: none;\n",
              "      border-radius: 50%;\n",
              "      cursor: pointer;\n",
              "      display: none;\n",
              "      fill: #1967D2;\n",
              "      height: 32px;\n",
              "      padding: 0 0 0 0;\n",
              "      width: 32px;\n",
              "    }\n",
              "\n",
              "    .colab-df-convert:hover {\n",
              "      background-color: #E2EBFA;\n",
              "      box-shadow: 0px 1px 2px rgba(60, 64, 67, 0.3), 0px 1px 3px 1px rgba(60, 64, 67, 0.15);\n",
              "      fill: #174EA6;\n",
              "    }\n",
              "\n",
              "    [theme=dark] .colab-df-convert {\n",
              "      background-color: #3B4455;\n",
              "      fill: #D2E3FC;\n",
              "    }\n",
              "\n",
              "    [theme=dark] .colab-df-convert:hover {\n",
              "      background-color: #434B5C;\n",
              "      box-shadow: 0px 1px 3px 1px rgba(0, 0, 0, 0.15);\n",
              "      filter: drop-shadow(0px 1px 2px rgba(0, 0, 0, 0.3));\n",
              "      fill: #FFFFFF;\n",
              "    }\n",
              "  </style>\n",
              "\n",
              "      <script>\n",
              "        const buttonEl =\n",
              "          document.querySelector('#df-ce54dcc6-53f6-4da7-bc0c-b45277b000ab button.colab-df-convert');\n",
              "        buttonEl.style.display =\n",
              "          google.colab.kernel.accessAllowed ? 'block' : 'none';\n",
              "\n",
              "        async function convertToInteractive(key) {\n",
              "          const element = document.querySelector('#df-ce54dcc6-53f6-4da7-bc0c-b45277b000ab');\n",
              "          const dataTable =\n",
              "            await google.colab.kernel.invokeFunction('convertToInteractive',\n",
              "                                                     [key], {});\n",
              "          if (!dataTable) return;\n",
              "\n",
              "          const docLinkHtml = 'Like what you see? Visit the ' +\n",
              "            '<a target=\"_blank\" href=https://colab.research.google.com/notebooks/data_table.ipynb>data table notebook</a>'\n",
              "            + ' to learn more about interactive tables.';\n",
              "          element.innerHTML = '';\n",
              "          dataTable['output_type'] = 'display_data';\n",
              "          await google.colab.output.renderOutput(dataTable, element);\n",
              "          const docLink = document.createElement('div');\n",
              "          docLink.innerHTML = docLinkHtml;\n",
              "          element.appendChild(docLink);\n",
              "        }\n",
              "      </script>\n",
              "    </div>\n",
              "  </div>\n",
              "  "
            ]
          },
          "metadata": {},
          "execution_count": 29
        }
      ]
    },
    {
      "cell_type": "code",
      "source": [
        "train['date_time'].map(lambda x : x*2)"
      ],
      "metadata": {
        "colab": {
          "base_uri": "https://localhost:8080/"
        },
        "id": "ivKpTFwg2ZQE",
        "outputId": "f298012f-cc46-4c46-8385-a11bc67b0a17"
      },
      "execution_count": 32,
      "outputs": [
        {
          "output_type": "execute_result",
          "data": {
            "text/plain": [
              "0      2018-04-012018-04-01\n",
              "1      2018-04-022018-04-02\n",
              "2      2018-04-032018-04-03\n",
              "3      2018-04-042018-04-04\n",
              "4      2018-04-052018-04-05\n",
              "               ...         \n",
              "268    2020-06-262020-06-26\n",
              "269    2020-06-272020-06-27\n",
              "270    2020-06-282020-06-28\n",
              "271    2020-06-292020-06-29\n",
              "272    2020-06-302020-06-30\n",
              "Name: date_time, Length: 273, dtype: object"
            ]
          },
          "metadata": {},
          "execution_count": 32
        }
      ]
    },
    {
      "cell_type": "code",
      "source": [
        "train['year'] = train['date_time'].apply(lambda x : x.split('-')[0]) #년\n",
        "train['month'] = train['date_time'].apply(lambda x : x.split('-')[1]) #월\n",
        "train['day'] = train['date_time'].apply(lambda x : x.split('-')[2]) #일\n",
        "\n",
        "# 혹은 \n",
        "#train['year'] = train['date_time'].map(lambda x : x.split('-')[0]) #년\n",
        "#train['month'] = train['date_time'].map(lambda x : x.split('-')[1]) #월\n",
        "#train['day'] = train['date_time'].map(lambda x : x.split('-')[2]) #일"
      ],
      "metadata": {
        "id": "Vwg0uVoX2hkL"
      },
      "execution_count": 33,
      "outputs": []
    },
    {
      "cell_type": "code",
      "source": [
        "train.head()"
      ],
      "metadata": {
        "colab": {
          "base_uri": "https://localhost:8080/",
          "height": 206
        },
        "id": "V7m4rcqk3Esi",
        "outputId": "a7f95f8d-58fe-48de-93f3-302ea85fd278"
      },
      "execution_count": 34,
      "outputs": [
        {
          "output_type": "execute_result",
          "data": {
            "text/plain": [
              "    date_time  wind_direction  sky_condition  precipitation_form  wind_speed  \\\n",
              "0  2018-04-01         207.500          4.000               0.000       3.050   \n",
              "1  2018-04-02         208.317          2.950               0.000       3.278   \n",
              "2  2018-04-03         213.516          2.911               0.000       2.690   \n",
              "3  2018-04-04         143.836          3.692               0.425       3.138   \n",
              "4  2018-04-05          95.905          4.000               0.723       3.186   \n",
              "\n",
              "   humidity  low_temp  high_temp  Precipitation_Probability  \\\n",
              "0    75.000    12.600     21.000                     30.000   \n",
              "1    69.833    12.812     19.000                     19.500   \n",
              "2    74.879    10.312     15.316                     19.113   \n",
              "3    71.849     8.312     12.368                     43.493   \n",
              "4    73.784     5.875     10.421                     63.378   \n",
              "\n",
              "   number_of_rentals  year month day  \n",
              "0              22994  2018    04  01  \n",
              "1              28139  2018    04  02  \n",
              "2              26817  2018    04  03  \n",
              "3              26034  2018    04  04  \n",
              "4               2833  2018    04  05  "
            ],
            "text/html": [
              "\n",
              "  <div id=\"df-a379a8fe-4d4f-46ab-8eb5-73ce73c0018a\">\n",
              "    <div class=\"colab-df-container\">\n",
              "      <div>\n",
              "<style scoped>\n",
              "    .dataframe tbody tr th:only-of-type {\n",
              "        vertical-align: middle;\n",
              "    }\n",
              "\n",
              "    .dataframe tbody tr th {\n",
              "        vertical-align: top;\n",
              "    }\n",
              "\n",
              "    .dataframe thead th {\n",
              "        text-align: right;\n",
              "    }\n",
              "</style>\n",
              "<table border=\"1\" class=\"dataframe\">\n",
              "  <thead>\n",
              "    <tr style=\"text-align: right;\">\n",
              "      <th></th>\n",
              "      <th>date_time</th>\n",
              "      <th>wind_direction</th>\n",
              "      <th>sky_condition</th>\n",
              "      <th>precipitation_form</th>\n",
              "      <th>wind_speed</th>\n",
              "      <th>humidity</th>\n",
              "      <th>low_temp</th>\n",
              "      <th>high_temp</th>\n",
              "      <th>Precipitation_Probability</th>\n",
              "      <th>number_of_rentals</th>\n",
              "      <th>year</th>\n",
              "      <th>month</th>\n",
              "      <th>day</th>\n",
              "    </tr>\n",
              "  </thead>\n",
              "  <tbody>\n",
              "    <tr>\n",
              "      <th>0</th>\n",
              "      <td>2018-04-01</td>\n",
              "      <td>207.500</td>\n",
              "      <td>4.000</td>\n",
              "      <td>0.000</td>\n",
              "      <td>3.050</td>\n",
              "      <td>75.000</td>\n",
              "      <td>12.600</td>\n",
              "      <td>21.000</td>\n",
              "      <td>30.000</td>\n",
              "      <td>22994</td>\n",
              "      <td>2018</td>\n",
              "      <td>04</td>\n",
              "      <td>01</td>\n",
              "    </tr>\n",
              "    <tr>\n",
              "      <th>1</th>\n",
              "      <td>2018-04-02</td>\n",
              "      <td>208.317</td>\n",
              "      <td>2.950</td>\n",
              "      <td>0.000</td>\n",
              "      <td>3.278</td>\n",
              "      <td>69.833</td>\n",
              "      <td>12.812</td>\n",
              "      <td>19.000</td>\n",
              "      <td>19.500</td>\n",
              "      <td>28139</td>\n",
              "      <td>2018</td>\n",
              "      <td>04</td>\n",
              "      <td>02</td>\n",
              "    </tr>\n",
              "    <tr>\n",
              "      <th>2</th>\n",
              "      <td>2018-04-03</td>\n",
              "      <td>213.516</td>\n",
              "      <td>2.911</td>\n",
              "      <td>0.000</td>\n",
              "      <td>2.690</td>\n",
              "      <td>74.879</td>\n",
              "      <td>10.312</td>\n",
              "      <td>15.316</td>\n",
              "      <td>19.113</td>\n",
              "      <td>26817</td>\n",
              "      <td>2018</td>\n",
              "      <td>04</td>\n",
              "      <td>03</td>\n",
              "    </tr>\n",
              "    <tr>\n",
              "      <th>3</th>\n",
              "      <td>2018-04-04</td>\n",
              "      <td>143.836</td>\n",
              "      <td>3.692</td>\n",
              "      <td>0.425</td>\n",
              "      <td>3.138</td>\n",
              "      <td>71.849</td>\n",
              "      <td>8.312</td>\n",
              "      <td>12.368</td>\n",
              "      <td>43.493</td>\n",
              "      <td>26034</td>\n",
              "      <td>2018</td>\n",
              "      <td>04</td>\n",
              "      <td>04</td>\n",
              "    </tr>\n",
              "    <tr>\n",
              "      <th>4</th>\n",
              "      <td>2018-04-05</td>\n",
              "      <td>95.905</td>\n",
              "      <td>4.000</td>\n",
              "      <td>0.723</td>\n",
              "      <td>3.186</td>\n",
              "      <td>73.784</td>\n",
              "      <td>5.875</td>\n",
              "      <td>10.421</td>\n",
              "      <td>63.378</td>\n",
              "      <td>2833</td>\n",
              "      <td>2018</td>\n",
              "      <td>04</td>\n",
              "      <td>05</td>\n",
              "    </tr>\n",
              "  </tbody>\n",
              "</table>\n",
              "</div>\n",
              "      <button class=\"colab-df-convert\" onclick=\"convertToInteractive('df-a379a8fe-4d4f-46ab-8eb5-73ce73c0018a')\"\n",
              "              title=\"Convert this dataframe to an interactive table.\"\n",
              "              style=\"display:none;\">\n",
              "        \n",
              "  <svg xmlns=\"http://www.w3.org/2000/svg\" height=\"24px\"viewBox=\"0 0 24 24\"\n",
              "       width=\"24px\">\n",
              "    <path d=\"M0 0h24v24H0V0z\" fill=\"none\"/>\n",
              "    <path d=\"M18.56 5.44l.94 2.06.94-2.06 2.06-.94-2.06-.94-.94-2.06-.94 2.06-2.06.94zm-11 1L8.5 8.5l.94-2.06 2.06-.94-2.06-.94L8.5 2.5l-.94 2.06-2.06.94zm10 10l.94 2.06.94-2.06 2.06-.94-2.06-.94-.94-2.06-.94 2.06-2.06.94z\"/><path d=\"M17.41 7.96l-1.37-1.37c-.4-.4-.92-.59-1.43-.59-.52 0-1.04.2-1.43.59L10.3 9.45l-7.72 7.72c-.78.78-.78 2.05 0 2.83L4 21.41c.39.39.9.59 1.41.59.51 0 1.02-.2 1.41-.59l7.78-7.78 2.81-2.81c.8-.78.8-2.07 0-2.86zM5.41 20L4 18.59l7.72-7.72 1.47 1.35L5.41 20z\"/>\n",
              "  </svg>\n",
              "      </button>\n",
              "      \n",
              "  <style>\n",
              "    .colab-df-container {\n",
              "      display:flex;\n",
              "      flex-wrap:wrap;\n",
              "      gap: 12px;\n",
              "    }\n",
              "\n",
              "    .colab-df-convert {\n",
              "      background-color: #E8F0FE;\n",
              "      border: none;\n",
              "      border-radius: 50%;\n",
              "      cursor: pointer;\n",
              "      display: none;\n",
              "      fill: #1967D2;\n",
              "      height: 32px;\n",
              "      padding: 0 0 0 0;\n",
              "      width: 32px;\n",
              "    }\n",
              "\n",
              "    .colab-df-convert:hover {\n",
              "      background-color: #E2EBFA;\n",
              "      box-shadow: 0px 1px 2px rgba(60, 64, 67, 0.3), 0px 1px 3px 1px rgba(60, 64, 67, 0.15);\n",
              "      fill: #174EA6;\n",
              "    }\n",
              "\n",
              "    [theme=dark] .colab-df-convert {\n",
              "      background-color: #3B4455;\n",
              "      fill: #D2E3FC;\n",
              "    }\n",
              "\n",
              "    [theme=dark] .colab-df-convert:hover {\n",
              "      background-color: #434B5C;\n",
              "      box-shadow: 0px 1px 3px 1px rgba(0, 0, 0, 0.15);\n",
              "      filter: drop-shadow(0px 1px 2px rgba(0, 0, 0, 0.3));\n",
              "      fill: #FFFFFF;\n",
              "    }\n",
              "  </style>\n",
              "\n",
              "      <script>\n",
              "        const buttonEl =\n",
              "          document.querySelector('#df-a379a8fe-4d4f-46ab-8eb5-73ce73c0018a button.colab-df-convert');\n",
              "        buttonEl.style.display =\n",
              "          google.colab.kernel.accessAllowed ? 'block' : 'none';\n",
              "\n",
              "        async function convertToInteractive(key) {\n",
              "          const element = document.querySelector('#df-a379a8fe-4d4f-46ab-8eb5-73ce73c0018a');\n",
              "          const dataTable =\n",
              "            await google.colab.kernel.invokeFunction('convertToInteractive',\n",
              "                                                     [key], {});\n",
              "          if (!dataTable) return;\n",
              "\n",
              "          const docLinkHtml = 'Like what you see? Visit the ' +\n",
              "            '<a target=\"_blank\" href=https://colab.research.google.com/notebooks/data_table.ipynb>data table notebook</a>'\n",
              "            + ' to learn more about interactive tables.';\n",
              "          element.innerHTML = '';\n",
              "          dataTable['output_type'] = 'display_data';\n",
              "          await google.colab.output.renderOutput(dataTable, element);\n",
              "          const docLink = document.createElement('div');\n",
              "          docLink.innerHTML = docLinkHtml;\n",
              "          element.appendChild(docLink);\n",
              "        }\n",
              "      </script>\n",
              "    </div>\n",
              "  </div>\n",
              "  "
            ]
          },
          "metadata": {},
          "execution_count": 34
        }
      ]
    },
    {
      "cell_type": "markdown",
      "source": [
        "## 2.2. 요일 정보 추가 (week_day 열 생성)"
      ],
      "metadata": {
        "id": "QM-NGtQz3osb"
      }
    },
    {
      "cell_type": "code",
      "source": [
        "week_day = pd.to_datetime(train['date_time']).dt.day_name()\n",
        "week_day"
      ],
      "metadata": {
        "colab": {
          "base_uri": "https://localhost:8080/"
        },
        "id": "Na1ENuv73Gjd",
        "outputId": "34e09367-db43-4eba-8383-24814fdb57f9"
      },
      "execution_count": 35,
      "outputs": [
        {
          "output_type": "execute_result",
          "data": {
            "text/plain": [
              "0         Sunday\n",
              "1         Monday\n",
              "2        Tuesday\n",
              "3      Wednesday\n",
              "4       Thursday\n",
              "         ...    \n",
              "268       Friday\n",
              "269     Saturday\n",
              "270       Sunday\n",
              "271       Monday\n",
              "272      Tuesday\n",
              "Name: date_time, Length: 273, dtype: object"
            ]
          },
          "metadata": {},
          "execution_count": 35
        }
      ]
    },
    {
      "cell_type": "code",
      "source": [
        "train['week_day']"
      ],
      "metadata": {
        "colab": {
          "base_uri": "https://localhost:8080/"
        },
        "id": "Zc9o80Rw7IuT",
        "outputId": "f71851fd-3238-4cd9-cc93-14e6a90ddbfa"
      },
      "execution_count": 48,
      "outputs": [
        {
          "output_type": "execute_result",
          "data": {
            "text/plain": [
              "0      0\n",
              "1      1\n",
              "2      2\n",
              "3      3\n",
              "4      4\n",
              "      ..\n",
              "268    5\n",
              "269    6\n",
              "270    0\n",
              "271    1\n",
              "272    2\n",
              "Name: week_day, Length: 273, dtype: int64"
            ]
          },
          "metadata": {},
          "execution_count": 48
        }
      ]
    },
    {
      "cell_type": "code",
      "source": [
        "train['week_day'] = week_day\n",
        "\n",
        "train.head()"
      ],
      "metadata": {
        "colab": {
          "base_uri": "https://localhost:8080/",
          "height": 206
        },
        "id": "DGDKvP_w30JD",
        "outputId": "5ba709e8-6cce-4bb1-d67d-7e4072f1ffcf"
      },
      "execution_count": 36,
      "outputs": [
        {
          "output_type": "execute_result",
          "data": {
            "text/plain": [
              "    date_time  wind_direction  sky_condition  precipitation_form  wind_speed  \\\n",
              "0  2018-04-01         207.500          4.000               0.000       3.050   \n",
              "1  2018-04-02         208.317          2.950               0.000       3.278   \n",
              "2  2018-04-03         213.516          2.911               0.000       2.690   \n",
              "3  2018-04-04         143.836          3.692               0.425       3.138   \n",
              "4  2018-04-05          95.905          4.000               0.723       3.186   \n",
              "\n",
              "   humidity  low_temp  high_temp  Precipitation_Probability  \\\n",
              "0    75.000    12.600     21.000                     30.000   \n",
              "1    69.833    12.812     19.000                     19.500   \n",
              "2    74.879    10.312     15.316                     19.113   \n",
              "3    71.849     8.312     12.368                     43.493   \n",
              "4    73.784     5.875     10.421                     63.378   \n",
              "\n",
              "   number_of_rentals  year month day   week_day  \n",
              "0              22994  2018    04  01     Sunday  \n",
              "1              28139  2018    04  02     Monday  \n",
              "2              26817  2018    04  03    Tuesday  \n",
              "3              26034  2018    04  04  Wednesday  \n",
              "4               2833  2018    04  05   Thursday  "
            ],
            "text/html": [
              "\n",
              "  <div id=\"df-5ab87a48-1077-476d-9fd4-13d34ef54af5\">\n",
              "    <div class=\"colab-df-container\">\n",
              "      <div>\n",
              "<style scoped>\n",
              "    .dataframe tbody tr th:only-of-type {\n",
              "        vertical-align: middle;\n",
              "    }\n",
              "\n",
              "    .dataframe tbody tr th {\n",
              "        vertical-align: top;\n",
              "    }\n",
              "\n",
              "    .dataframe thead th {\n",
              "        text-align: right;\n",
              "    }\n",
              "</style>\n",
              "<table border=\"1\" class=\"dataframe\">\n",
              "  <thead>\n",
              "    <tr style=\"text-align: right;\">\n",
              "      <th></th>\n",
              "      <th>date_time</th>\n",
              "      <th>wind_direction</th>\n",
              "      <th>sky_condition</th>\n",
              "      <th>precipitation_form</th>\n",
              "      <th>wind_speed</th>\n",
              "      <th>humidity</th>\n",
              "      <th>low_temp</th>\n",
              "      <th>high_temp</th>\n",
              "      <th>Precipitation_Probability</th>\n",
              "      <th>number_of_rentals</th>\n",
              "      <th>year</th>\n",
              "      <th>month</th>\n",
              "      <th>day</th>\n",
              "      <th>week_day</th>\n",
              "    </tr>\n",
              "  </thead>\n",
              "  <tbody>\n",
              "    <tr>\n",
              "      <th>0</th>\n",
              "      <td>2018-04-01</td>\n",
              "      <td>207.500</td>\n",
              "      <td>4.000</td>\n",
              "      <td>0.000</td>\n",
              "      <td>3.050</td>\n",
              "      <td>75.000</td>\n",
              "      <td>12.600</td>\n",
              "      <td>21.000</td>\n",
              "      <td>30.000</td>\n",
              "      <td>22994</td>\n",
              "      <td>2018</td>\n",
              "      <td>04</td>\n",
              "      <td>01</td>\n",
              "      <td>Sunday</td>\n",
              "    </tr>\n",
              "    <tr>\n",
              "      <th>1</th>\n",
              "      <td>2018-04-02</td>\n",
              "      <td>208.317</td>\n",
              "      <td>2.950</td>\n",
              "      <td>0.000</td>\n",
              "      <td>3.278</td>\n",
              "      <td>69.833</td>\n",
              "      <td>12.812</td>\n",
              "      <td>19.000</td>\n",
              "      <td>19.500</td>\n",
              "      <td>28139</td>\n",
              "      <td>2018</td>\n",
              "      <td>04</td>\n",
              "      <td>02</td>\n",
              "      <td>Monday</td>\n",
              "    </tr>\n",
              "    <tr>\n",
              "      <th>2</th>\n",
              "      <td>2018-04-03</td>\n",
              "      <td>213.516</td>\n",
              "      <td>2.911</td>\n",
              "      <td>0.000</td>\n",
              "      <td>2.690</td>\n",
              "      <td>74.879</td>\n",
              "      <td>10.312</td>\n",
              "      <td>15.316</td>\n",
              "      <td>19.113</td>\n",
              "      <td>26817</td>\n",
              "      <td>2018</td>\n",
              "      <td>04</td>\n",
              "      <td>03</td>\n",
              "      <td>Tuesday</td>\n",
              "    </tr>\n",
              "    <tr>\n",
              "      <th>3</th>\n",
              "      <td>2018-04-04</td>\n",
              "      <td>143.836</td>\n",
              "      <td>3.692</td>\n",
              "      <td>0.425</td>\n",
              "      <td>3.138</td>\n",
              "      <td>71.849</td>\n",
              "      <td>8.312</td>\n",
              "      <td>12.368</td>\n",
              "      <td>43.493</td>\n",
              "      <td>26034</td>\n",
              "      <td>2018</td>\n",
              "      <td>04</td>\n",
              "      <td>04</td>\n",
              "      <td>Wednesday</td>\n",
              "    </tr>\n",
              "    <tr>\n",
              "      <th>4</th>\n",
              "      <td>2018-04-05</td>\n",
              "      <td>95.905</td>\n",
              "      <td>4.000</td>\n",
              "      <td>0.723</td>\n",
              "      <td>3.186</td>\n",
              "      <td>73.784</td>\n",
              "      <td>5.875</td>\n",
              "      <td>10.421</td>\n",
              "      <td>63.378</td>\n",
              "      <td>2833</td>\n",
              "      <td>2018</td>\n",
              "      <td>04</td>\n",
              "      <td>05</td>\n",
              "      <td>Thursday</td>\n",
              "    </tr>\n",
              "  </tbody>\n",
              "</table>\n",
              "</div>\n",
              "      <button class=\"colab-df-convert\" onclick=\"convertToInteractive('df-5ab87a48-1077-476d-9fd4-13d34ef54af5')\"\n",
              "              title=\"Convert this dataframe to an interactive table.\"\n",
              "              style=\"display:none;\">\n",
              "        \n",
              "  <svg xmlns=\"http://www.w3.org/2000/svg\" height=\"24px\"viewBox=\"0 0 24 24\"\n",
              "       width=\"24px\">\n",
              "    <path d=\"M0 0h24v24H0V0z\" fill=\"none\"/>\n",
              "    <path d=\"M18.56 5.44l.94 2.06.94-2.06 2.06-.94-2.06-.94-.94-2.06-.94 2.06-2.06.94zm-11 1L8.5 8.5l.94-2.06 2.06-.94-2.06-.94L8.5 2.5l-.94 2.06-2.06.94zm10 10l.94 2.06.94-2.06 2.06-.94-2.06-.94-.94-2.06-.94 2.06-2.06.94z\"/><path d=\"M17.41 7.96l-1.37-1.37c-.4-.4-.92-.59-1.43-.59-.52 0-1.04.2-1.43.59L10.3 9.45l-7.72 7.72c-.78.78-.78 2.05 0 2.83L4 21.41c.39.39.9.59 1.41.59.51 0 1.02-.2 1.41-.59l7.78-7.78 2.81-2.81c.8-.78.8-2.07 0-2.86zM5.41 20L4 18.59l7.72-7.72 1.47 1.35L5.41 20z\"/>\n",
              "  </svg>\n",
              "      </button>\n",
              "      \n",
              "  <style>\n",
              "    .colab-df-container {\n",
              "      display:flex;\n",
              "      flex-wrap:wrap;\n",
              "      gap: 12px;\n",
              "    }\n",
              "\n",
              "    .colab-df-convert {\n",
              "      background-color: #E8F0FE;\n",
              "      border: none;\n",
              "      border-radius: 50%;\n",
              "      cursor: pointer;\n",
              "      display: none;\n",
              "      fill: #1967D2;\n",
              "      height: 32px;\n",
              "      padding: 0 0 0 0;\n",
              "      width: 32px;\n",
              "    }\n",
              "\n",
              "    .colab-df-convert:hover {\n",
              "      background-color: #E2EBFA;\n",
              "      box-shadow: 0px 1px 2px rgba(60, 64, 67, 0.3), 0px 1px 3px 1px rgba(60, 64, 67, 0.15);\n",
              "      fill: #174EA6;\n",
              "    }\n",
              "\n",
              "    [theme=dark] .colab-df-convert {\n",
              "      background-color: #3B4455;\n",
              "      fill: #D2E3FC;\n",
              "    }\n",
              "\n",
              "    [theme=dark] .colab-df-convert:hover {\n",
              "      background-color: #434B5C;\n",
              "      box-shadow: 0px 1px 3px 1px rgba(0, 0, 0, 0.15);\n",
              "      filter: drop-shadow(0px 1px 2px rgba(0, 0, 0, 0.3));\n",
              "      fill: #FFFFFF;\n",
              "    }\n",
              "  </style>\n",
              "\n",
              "      <script>\n",
              "        const buttonEl =\n",
              "          document.querySelector('#df-5ab87a48-1077-476d-9fd4-13d34ef54af5 button.colab-df-convert');\n",
              "        buttonEl.style.display =\n",
              "          google.colab.kernel.accessAllowed ? 'block' : 'none';\n",
              "\n",
              "        async function convertToInteractive(key) {\n",
              "          const element = document.querySelector('#df-5ab87a48-1077-476d-9fd4-13d34ef54af5');\n",
              "          const dataTable =\n",
              "            await google.colab.kernel.invokeFunction('convertToInteractive',\n",
              "                                                     [key], {});\n",
              "          if (!dataTable) return;\n",
              "\n",
              "          const docLinkHtml = 'Like what you see? Visit the ' +\n",
              "            '<a target=\"_blank\" href=https://colab.research.google.com/notebooks/data_table.ipynb>data table notebook</a>'\n",
              "            + ' to learn more about interactive tables.';\n",
              "          element.innerHTML = '';\n",
              "          dataTable['output_type'] = 'display_data';\n",
              "          await google.colab.output.renderOutput(dataTable, element);\n",
              "          const docLink = document.createElement('div');\n",
              "          docLink.innerHTML = docLinkHtml;\n",
              "          element.appendChild(docLink);\n",
              "        }\n",
              "      </script>\n",
              "    </div>\n",
              "  </div>\n",
              "  "
            ]
          },
          "metadata": {},
          "execution_count": 36
        }
      ]
    },
    {
      "cell_type": "markdown",
      "source": [
        "## 2.3. 가공한 변수 타입 변경"
      ],
      "metadata": {
        "id": "0HJg_XYf4G7J"
      }
    },
    {
      "cell_type": "code",
      "source": [
        "train['year'] = train['year'].apply(lambda x : int(x))\n",
        "train['year'] = train['year'].astype('int')"
      ],
      "metadata": {
        "id": "8tPEt83A4cYp"
      },
      "execution_count": 38,
      "outputs": []
    },
    {
      "cell_type": "code",
      "source": [
        "train['month'] = train['month'].astype('int')\n",
        "train['day'] = train['day'].astype('int')"
      ],
      "metadata": {
        "id": "wlb6rtyj4ufa"
      },
      "execution_count": 40,
      "outputs": []
    },
    {
      "cell_type": "code",
      "source": [
        "train.week_day.unique()"
      ],
      "metadata": {
        "colab": {
          "base_uri": "https://localhost:8080/"
        },
        "id": "q64Ljcde5DqH",
        "outputId": "6dd43a7d-37f1-4cc7-a6bc-867ea7af1e91"
      },
      "execution_count": 42,
      "outputs": [
        {
          "output_type": "execute_result",
          "data": {
            "text/plain": [
              "array(['Sunday', 'Monday', 'Tuesday', 'Wednesday', 'Thursday', 'Friday',\n",
              "       'Saturday'], dtype=object)"
            ]
          },
          "metadata": {},
          "execution_count": 42
        }
      ]
    },
    {
      "cell_type": "code",
      "source": [
        "train.loc[train['week_day'] == 'Sunday', 'week_day'] = 0\n",
        "train.loc[train['week_day'] == 'Monday', 'week_day'] = 1\n",
        "train.loc[train['week_day'] == 'Tuesday', 'week_day'] = 2\n",
        "train.loc[train['week_day'] == 'Wednesday', 'week_day'] = 3\n",
        "train.loc[train['week_day'] == 'Thursday', 'week_day'] = 4\n",
        "train.loc[train['week_day'] == 'Friday', 'week_day'] = 5\n",
        "train.loc[train['week_day'] == 'Saturday', 'week_day'] = 6"
      ],
      "metadata": {
        "id": "psdqTvxm5Jmh"
      },
      "execution_count": 43,
      "outputs": []
    },
    {
      "cell_type": "code",
      "source": [
        "train['week_day'] = train['week_day'].astype('int')"
      ],
      "metadata": {
        "id": "RYSBY3GG5mDU"
      },
      "execution_count": 45,
      "outputs": []
    },
    {
      "cell_type": "code",
      "source": [
        "train.info()"
      ],
      "metadata": {
        "colab": {
          "base_uri": "https://localhost:8080/"
        },
        "id": "QletW-TW5uFw",
        "outputId": "7d29176b-d77e-44a5-8de4-70e243306819"
      },
      "execution_count": 46,
      "outputs": [
        {
          "output_type": "stream",
          "name": "stdout",
          "text": [
            "<class 'pandas.core.frame.DataFrame'>\n",
            "RangeIndex: 273 entries, 0 to 272\n",
            "Data columns (total 14 columns):\n",
            " #   Column                     Non-Null Count  Dtype  \n",
            "---  ------                     --------------  -----  \n",
            " 0   date_time                  273 non-null    object \n",
            " 1   wind_direction             273 non-null    float64\n",
            " 2   sky_condition              273 non-null    float64\n",
            " 3   precipitation_form         273 non-null    float64\n",
            " 4   wind_speed                 273 non-null    float64\n",
            " 5   humidity                   273 non-null    float64\n",
            " 6   low_temp                   273 non-null    float64\n",
            " 7   high_temp                  273 non-null    float64\n",
            " 8   Precipitation_Probability  273 non-null    float64\n",
            " 9   number_of_rentals          273 non-null    int64  \n",
            " 10  year                       273 non-null    int64  \n",
            " 11  month                      273 non-null    int64  \n",
            " 12  day                        273 non-null    int64  \n",
            " 13  week_day                   273 non-null    int64  \n",
            "dtypes: float64(8), int64(5), object(1)\n",
            "memory usage: 30.0+ KB\n"
          ]
        }
      ]
    },
    {
      "cell_type": "markdown",
      "source": [
        "# 3. EDA\n",
        "\n",
        "가설 설정\n",
        "\n",
        "1. 주중에 비해서 주말에 따릉이 대여량이 증가 할 것이다.\n",
        "2. 날씨가 덥고 습하다면 따릉이 대여량이 감소 할 것이다.\n",
        "3. 날씨가 춥고 바람이 많이 분다면 따릉이 대여량이 감소 할 것이다."
      ],
      "metadata": {
        "id": "_NlOUxT_-XgR"
      }
    },
    {
      "cell_type": "markdown",
      "source": [
        "## 3.1. 시각화"
      ],
      "metadata": {
        "id": "fMAiIgGm-sZu"
      }
    },
    {
      "cell_type": "code",
      "source": [
        "import matplotlib.pyplot as plt\n",
        "import seaborn as sns \n",
        "\n",
        "%matplotlib inline\n",
        "plt.rcParams['font.size'] = 15\n",
        "plt.style.use('ggplot')\n",
        "plt.rc('font', family='NanumGothic')"
      ],
      "metadata": {
        "id": "65Spy-_05wV_"
      },
      "execution_count": 49,
      "outputs": []
    },
    {
      "cell_type": "markdown",
      "source": [
        "### 3.1.1. Target"
      ],
      "metadata": {
        "id": "lHquW-hx_HRu"
      }
    },
    {
      "cell_type": "code",
      "source": [
        "plt.figure(dpi = 150)\n",
        "\n",
        "x = train['number_of_rentals'].index\n",
        "y = train['number_of_rentals'].values\n",
        "\n",
        "plt.title(\"따릉이 대여량\")\n",
        "plt.xlabel(\"일별\")\n",
        "plt.ylabel(\"일별 따릉이 대여량\")\n",
        "plt.hlines(y=8000, xmin=0, xmax=len(x), color='Orange', linestyle='dotted')\n",
        "plt.plot(x,y)\n",
        "plt.show()"
      ],
      "metadata": {
        "colab": {
          "base_uri": "https://localhost:8080/",
          "height": 601
        },
        "id": "j5Bnh-4x_DXc",
        "outputId": "9d5c0309-f22a-453e-d85c-9275e73714c4"
      },
      "execution_count": 50,
      "outputs": [
        {
          "output_type": "display_data",
          "data": {
            "text/plain": [
              "<Figure size 900x600 with 1 Axes>"
            ],
            "image/png": "[encoded data removed]"
          },
          "metadata": {}
        }
      ]
    },
    {
      "cell_type": "markdown",
      "source": [
        "* 인사이트\n",
        "\n",
        "1. 시간이 흐를수록 대여량이 증가하고있다 -> 연도별 차이\n",
        "2. 이상치가 존재한다\n",
        "3. 평일에는 출근을 하니까 대여량이 주말보다 많을까? -> 요일별 차이"
      ],
      "metadata": {
        "id": "nyDV0Ikx_zyY"
      }
    },
    {
      "cell_type": "markdown",
      "source": [
        "## 3.1.2. 연도별 따릉이 대여량\n",
        "\n",
        "인사이트1 : 시간이 흐를수록 대여량이 증가하고있다 "
      ],
      "metadata": {
        "id": "FAMrEzmb_-7B"
      }
    },
    {
      "cell_type": "code",
      "source": [
        "month_day = train['month'].astype(str) + '_' + train['day'].astype(str)\n",
        "\n",
        "plt.figure(figsize=(10,5))\n",
        "sns.scatterplot(x=month_day, y=train['number_of_rentals'], hue=train['year'])\n",
        "plt.xticks(rotation=45)\n",
        "plt.title('연도별 따릉이 대여량 비교', fontsize = 30)\n",
        "plt.show()"
      ],
      "metadata": {
        "colab": {
          "base_uri": "https://localhost:8080/",
          "height": 362
        },
        "id": "urwRR0jP_rxX",
        "outputId": "e4c16600-99f3-4377-81bf-1e9dce383947"
      },
      "execution_count": 53,
      "outputs": [
        {
          "output_type": "display_data",
          "data": {
            "text/plain": [
              "<Figure size 720x360 with 1 Axes>"
            ],
            "image/png": "[encoded data removed]"
          },
          "metadata": {}
        }
      ]
    },
    {
      "cell_type": "markdown",
      "source": [
        "* 결론\n",
        "\n",
        "Year은 매우 중요한 변수이고,\n",
        "\n",
        "Year을 반영하는 파생 변수를 생성해도 좋겠다!"
      ],
      "metadata": {
        "id": "mqPxKnboA6TB"
      }
    },
    {
      "cell_type": "markdown",
      "source": [
        "## 3.1.3.  평일과 주말 대여량\n",
        "\n",
        "인사이트 3 : 평일에는 출근을 하니까 대여량이 주말보다 많을까?\n",
        "\n",
        "가설 1"
      ],
      "metadata": {
        "id": "uqXFwdP8BLZC"
      }
    },
    {
      "cell_type": "code",
      "source": [
        "weekend = train[(train['week_day'] == 0) | (train['week_day'] == 6)] # 일요일과 토요일 -> 주말을 나타내는 데이터 프레임"
      ],
      "metadata": {
        "id": "jGzvJdVtAoHA"
      },
      "execution_count": 55,
      "outputs": []
    },
    {
      "cell_type": "code",
      "source": [
        "weekday = train[(train['week_day'] != 0) & (train['week_day'] != 6)] # 일요일과 토요일 아닌 -> 평일을 나타내는 데이터 프레임"
      ],
      "metadata": {
        "id": "Gg0OC6f0Be35"
      },
      "execution_count": 56,
      "outputs": []
    },
    {
      "cell_type": "code",
      "source": [
        "weekend.mean().number_of_rentals"
      ],
      "metadata": {
        "colab": {
          "base_uri": "https://localhost:8080/"
        },
        "id": "t4xbcKC9B6lS",
        "outputId": "b2bf655d-e42e-428d-8a17-bb8631f2f1b4"
      },
      "execution_count": 57,
      "outputs": [
        {
          "output_type": "stream",
          "name": "stderr",
          "text": [
            "/usr/local/lib/python3.7/dist-packages/ipykernel_launcher.py:1: FutureWarning: Dropping of nuisance columns in DataFrame reductions (with 'numeric_only=None') is deprecated; in a future version this will raise TypeError.  Select only valid columns before calling the reduction.\n",
            "  \"\"\"Entry point for launching an IPython kernel.\n"
          ]
        },
        {
          "output_type": "execute_result",
          "data": {
            "text/plain": [
              "58988.64102564102"
            ]
          },
          "metadata": {},
          "execution_count": 57
        }
      ]
    },
    {
      "cell_type": "code",
      "source": [
        "weekday.mean().number_of_rentals"
      ],
      "metadata": {
        "colab": {
          "base_uri": "https://localhost:8080/"
        },
        "id": "MdIwAu0dB_Sh",
        "outputId": "83027577-18c4-4cf9-c146-47ed3031c8e8"
      },
      "execution_count": 58,
      "outputs": [
        {
          "output_type": "stream",
          "name": "stderr",
          "text": [
            "/usr/local/lib/python3.7/dist-packages/ipykernel_launcher.py:1: FutureWarning: Dropping of nuisance columns in DataFrame reductions (with 'numeric_only=None') is deprecated; in a future version this will raise TypeError.  Select only valid columns before calling the reduction.\n",
            "  \"\"\"Entry point for launching an IPython kernel.\n"
          ]
        },
        {
          "output_type": "execute_result",
          "data": {
            "text/plain": [
              "59809.51282051282"
            ]
          },
          "metadata": {},
          "execution_count": 58
        }
      ]
    },
    {
      "cell_type": "code",
      "source": [
        "x = ['weekday', 'weekend']\n",
        "y = [weekday.mean().number_of_rentals, weekend.mean().number_of_rentals]\n",
        "\n",
        "plt.figure(figsize = (8,5))\n",
        "plt.title(\"따릉이 대여량 평균\")\n",
        "plt.xlabel('평일/주말')\n",
        "plt.ylabel('대여량')\n",
        "plt.bar(x, y)\n",
        "plt.show()"
      ],
      "metadata": {
        "colab": {
          "base_uri": "https://localhost:8080/",
          "height": 406
        },
        "id": "OrL9p5e3CBKw",
        "outputId": "d7d10cdc-4f31-4ffa-d830-a2d5656e440b"
      },
      "execution_count": 59,
      "outputs": [
        {
          "output_type": "stream",
          "name": "stderr",
          "text": [
            "/usr/local/lib/python3.7/dist-packages/ipykernel_launcher.py:2: FutureWarning: Dropping of nuisance columns in DataFrame reductions (with 'numeric_only=None') is deprecated; in a future version this will raise TypeError.  Select only valid columns before calling the reduction.\n",
            "  \n"
          ]
        },
        {
          "output_type": "display_data",
          "data": {
            "text/plain": [
              "<Figure size 576x360 with 1 Axes>"
            ],
            "image/png": "[encoded data removed]"
          },
          "metadata": {}
        }
      ]
    },
    {
      "cell_type": "code",
      "source": [
        "weekday.number_of_rentals.plot()"
      ],
      "metadata": {
        "colab": {
          "base_uri": "https://localhost:8080/",
          "height": 282
        },
        "id": "7nPtjQd0CXbs",
        "outputId": "4da61810-9c2d-4644-8e15-9d933fbd1aa1"
      },
      "execution_count": 60,
      "outputs": [
        {
          "output_type": "execute_result",
          "data": {
            "text/plain": [
              "<matplotlib.axes._subplots.AxesSubplot at 0x7f438b032690>"
            ]
          },
          "metadata": {},
          "execution_count": 60
        },
        {
          "output_type": "display_data",
          "data": {
            "text/plain": [
              "<Figure size 432x288 with 1 Axes>"
            ],
            "image/png": "[encoded data removed]"
          },
          "metadata": {}
        }
      ]
    },
    {
      "cell_type": "code",
      "source": [
        "weekend.number_of_rentals.plot()"
      ],
      "metadata": {
        "colab": {
          "base_uri": "https://localhost:8080/",
          "height": 282
        },
        "id": "MIdj-zs2CfGp",
        "outputId": "ad240587-fff7-4c0e-afb8-faec9d31b6fb"
      },
      "execution_count": 61,
      "outputs": [
        {
          "output_type": "execute_result",
          "data": {
            "text/plain": [
              "<matplotlib.axes._subplots.AxesSubplot at 0x7f438b3411d0>"
            ]
          },
          "metadata": {},
          "execution_count": 61
        },
        {
          "output_type": "display_data",
          "data": {
            "text/plain": [
              "<Figure size 432x288 with 1 Axes>"
            ],
            "image/png": "[encoded data removed]"
          },
          "metadata": {}
        }
      ]
    },
    {
      "cell_type": "markdown",
      "source": [
        "* 결론\n",
        "\n",
        "평일과 주말은 별 차이가 없다고 말할 수 있다!"
      ],
      "metadata": {
        "id": "As9bDD5BCpCI"
      }
    },
    {
      "cell_type": "markdown",
      "source": [
        "## 3.1.4. 요일별 대여량"
      ],
      "metadata": {
        "id": "r0B7qiHtCs0a"
      }
    },
    {
      "cell_type": "code",
      "source": [
        "plt.figure(figsize=(15,8))\n",
        "\n",
        "sns.barplot(x=train['week_day'], y=train['number_of_rentals'])\n",
        "plt.title('요일별 대여량 비교', fontsize = 30)\n",
        "plt.show()"
      ],
      "metadata": {
        "colab": {
          "base_uri": "https://localhost:8080/",
          "height": 525
        },
        "id": "HXwj9WyiCjzl",
        "outputId": "ce672a9b-724e-49df-f5df-fe64e670105f"
      },
      "execution_count": 63,
      "outputs": [
        {
          "output_type": "display_data",
          "data": {
            "text/plain": [
              "<Figure size 1080x576 with 1 Axes>"
            ],
            "image/png": "[encoded data removed]"
          },
          "metadata": {}
        }
      ]
    },
    {
      "cell_type": "code",
      "source": [
        "plt.figure(figsize=(15,8))\n",
        "\n",
        "sns.barplot(x=train['week_day'], y=train['number_of_rentals'], hue=train['year'])\n",
        "plt.title('요일별+연도별 대여량 비교', fontsize = 30)\n",
        "plt.show()"
      ],
      "metadata": {
        "colab": {
          "base_uri": "https://localhost:8080/",
          "height": 525
        },
        "id": "H54HVOI0DBFU",
        "outputId": "0fb84ea1-783a-4d2f-f51d-64f9dc502e0a"
      },
      "execution_count": 64,
      "outputs": [
        {
          "output_type": "display_data",
          "data": {
            "text/plain": [
              "<Figure size 1080x576 with 1 Axes>"
            ],
            "image/png": "[encoded data removed]"
          },
          "metadata": {}
        }
      ]
    },
    {
      "cell_type": "markdown",
      "source": [
        "* 결론\n",
        "\n",
        "요일이라는 변수는 따릉이 대여량에 영향을 크게 미치지 않는다\n",
        "\n",
        "따라서 drop을 해줘도 괜찮겠다!"
      ],
      "metadata": {
        "id": "5Ufk_9YVDqbY"
      }
    },
    {
      "cell_type": "markdown",
      "source": [
        "## 3.1.5 더위+습도 = 더위 점수\n",
        "\n",
        "가설2. 날씨가 덥고 습하다면 따릉이 대여량 감소"
      ],
      "metadata": {
        "id": "pzi5ZdECD-Vh"
      }
    },
    {
      "cell_type": "code",
      "source": [
        "hot_score = train['high_temp'] * train['humidity']\n",
        "\n",
        "plt.figure(figsize=(8,5))\n",
        "sns.scatterplot(x=hot_score, y=train['number_of_rentals'], hue=train['year'], s = 100 )\n",
        "plt.xticks(fontsize=15)\n",
        "plt.title('더위 점수와 대여량', fontsize = 30)\n",
        "plt.show()"
      ],
      "metadata": {
        "colab": {
          "base_uri": "https://localhost:8080/",
          "height": 353
        },
        "id": "e7Hmhc_RDcWt",
        "outputId": "d059a2ed-2576-4d07-c34f-cf7fd6e894de"
      },
      "execution_count": 68,
      "outputs": [
        {
          "output_type": "display_data",
          "data": {
            "text/plain": [
              "<Figure size 576x360 with 1 Axes>"
            ],
            "image/png": "[encoded data removed]"
          },
          "metadata": {}
        }
      ]
    },
    {
      "cell_type": "markdown",
      "source": [
        "* 결론\n",
        "\n",
        "더위 점수가 따릉이 대여량이 영향을 준다  \n",
        ": 파생변수 '더위 점수'"
      ],
      "metadata": {
        "id": "PFHQdTqTE1cX"
      }
    },
    {
      "cell_type": "markdown",
      "source": [
        "## 3.1.6. 추위 점수\n",
        "\n",
        "가설3 : 날씨가 춥고 바람이 많이 불면 따릉이 대여량이 감소할 것이다."
      ],
      "metadata": {
        "id": "vjfYZer5E-T0"
      }
    },
    {
      "cell_type": "code",
      "source": [
        "cold_score = train['wind_speed'] / train['low_temp']\n",
        "\n",
        "plt.figure(figsize=(8,5))\n",
        "sns.scatterplot(x = cold_score, y=train['number_of_rentals'], hue=train['year'], s = 50 )\n",
        "plt.xticks(fontsize=15)\n",
        "plt.title('추위 점수와 대여량', fontsize = 30)\n",
        "plt.show()"
      ],
      "metadata": {
        "colab": {
          "base_uri": "https://localhost:8080/",
          "height": 353
        },
        "id": "IF73oLsnEQj4",
        "outputId": "160a070b-7463-4ea9-81b8-d39daa6e6a0d"
      },
      "execution_count": 70,
      "outputs": [
        {
          "output_type": "display_data",
          "data": {
            "text/plain": [
              "<Figure size 576x360 with 1 Axes>"
            ],
            "image/png": "[encoded data removed]"
          },
          "metadata": {}
        }
      ]
    },
    {
      "cell_type": "markdown",
      "source": [
        "* 결론 \n",
        "\n",
        "추위 점수가 따릉이 대여량에 영향을 미칠 것이다 (음의 상관관계)\n",
        "\n",
        ": 추위 점수라는 파생변수를 생성"
      ],
      "metadata": {
        "id": "kMu-0g4MFt8i"
      }
    },
    {
      "cell_type": "markdown",
      "source": [
        "## 3.1.7. 이상치 확인"
      ],
      "metadata": {
        "id": "e0jL_omuGZ_K"
      }
    },
    {
      "cell_type": "code",
      "source": [
        "plt.style.use(\"ggplot\")\n",
        "\n",
        "feature = train.describe().columns\n",
        "\n",
        "plt.figure(figsize=(30,15))\n",
        "plt.suptitle(\"독립변수별 이상치 확인\", fontsize = 30)\n",
        "\n",
        "for i in range(len(feature)):\n",
        "  plt.subplot(2,7,i+1)\n",
        "  plt.title(feature[i])\n",
        "  plt.boxplot(train[feature[i]])\n",
        "plt.show()"
      ],
      "metadata": {
        "colab": {
          "base_uri": "https://localhost:8080/",
          "height": 970
        },
        "id": "CDW7CtWRFj1k",
        "outputId": "d3986e67-14d5-4fd8-924d-8be0455ebc93"
      },
      "execution_count": 76,
      "outputs": [
        {
          "output_type": "display_data",
          "data": {
            "text/plain": [
              "<Figure size 2160x1080 with 13 Axes>"
            ],
            "image/png": "[encoded data removed]"
          },
          "metadata": {}
        }
      ]
    },
    {
      "cell_type": "markdown",
      "source": [
        "## 3.1.8. 상관관계"
      ],
      "metadata": {
        "id": "JX7E2fn2IQo1"
      }
    },
    {
      "cell_type": "code",
      "source": [
        "plt.figure(figsize=(12,10))\n",
        "sns.heatmap(data = train.corr(method='pearson'), annot=True, fmt='.2f', linewidths=.5, cmap='Blues')"
      ],
      "metadata": {
        "colab": {
          "base_uri": "https://localhost:8080/",
          "height": 787
        },
        "id": "BuwGiwfOGnCR",
        "outputId": "843018f1-118c-4c5c-d7c6-d6084dabbee7"
      },
      "execution_count": 79,
      "outputs": [
        {
          "output_type": "stream",
          "name": "stderr",
          "text": [
            "/usr/local/lib/python3.7/dist-packages/matplotlib/backends/backend_agg.py:214: RuntimeWarning: Glyph 8722 missing from current font.\n",
            "  font.set_text(s, 0.0, flags=flags)\n",
            "/usr/local/lib/python3.7/dist-packages/matplotlib/backends/backend_agg.py:183: RuntimeWarning: Glyph 8722 missing from current font.\n",
            "  font.set_text(s, 0, flags=flags)\n"
          ]
        },
        {
          "output_type": "execute_result",
          "data": {
            "text/plain": [
              "<matplotlib.axes._subplots.AxesSubplot at 0x7f438a7249d0>"
            ]
          },
          "metadata": {},
          "execution_count": 79
        },
        {
          "output_type": "display_data",
          "data": {
            "text/plain": [
              "<Figure size 864x720 with 2 Axes>"
            ],
            "image/png": "[encoded data removed]"
          },
          "metadata": {}
        }
      ]
    },
    {
      "cell_type": "markdown",
      "source": [
        "## 3.2. 가설 검정 및 총 정리\n",
        "\n",
        "3.1.1. : 타겟을 통하여 3가지 인사이트 도출  \n",
        "3.1.2. : 연도별 대여량이 증가 하므로 , Year 관한 변수 하나 생성  \n",
        "3.1.3. : 가설 1 : 평일과 주말의 대여량 차이는 X  \n",
        "3.1.4. : 가설 1 (파생) : 요일별 대여량도 차이가 없다  \n",
        "3.1.5. : 가설 2 : 더위 점수는 대여량이 감소하는 것이아니라 오히려 증가했다  \n",
        "3.1.6. : 가설 3 : 추위 점수는 대여량이 감소하였다.  \n",
        "3.1.7. : 이상치에서는 특이한 이상치 발견 X  \n",
        "3.1.8. : 피어슨 상관계수를 통한 전반적인 피처의 상관관계를 도출  \n",
        "\n",
        ": Year 인플레이션 변수 생성, 더위 점수 생성, 추위 점수 생성, 요일, 날짜, 일 변수 삭제"
      ],
      "metadata": {
        "id": "8XIqX_D3KU10"
      }
    },
    {
      "cell_type": "markdown",
      "source": [
        "# 4. Feature Engineering\n",
        "\n",
        "## 4.1. Feature Extraction\n",
        "\n",
        "### 4.1.1. Year inflation"
      ],
      "metadata": {
        "id": "P0uYYc8nL4TR"
      }
    },
    {
      "cell_type": "code",
      "source": [
        "train[train['year']==2018]['number_of_rentals']"
      ],
      "metadata": {
        "colab": {
          "base_uri": "https://localhost:8080/"
        },
        "id": "6ffrpGgsIkm1",
        "outputId": "3c91c7e5-4133-460c-b236-d1be068e0694"
      },
      "execution_count": 80,
      "outputs": [
        {
          "output_type": "execute_result",
          "data": {
            "text/plain": [
              "0     22994\n",
              "1     28139\n",
              "2     26817\n",
              "3     26034\n",
              "4      2833\n",
              "      ...  \n",
              "86     6391\n",
              "87    41128\n",
              "88    27757\n",
              "89    42765\n",
              "90    26911\n",
              "Name: number_of_rentals, Length: 91, dtype: int64"
            ]
          },
          "metadata": {},
          "execution_count": 80
        }
      ]
    },
    {
      "cell_type": "code",
      "source": [
        "train[train['year']==2019]['number_of_rentals']"
      ],
      "metadata": {
        "colab": {
          "base_uri": "https://localhost:8080/"
        },
        "id": "ff6oSiveMJSg",
        "outputId": "a7f6fe86-017b-413d-c372-504232e6dad1"
      },
      "execution_count": 81,
      "outputs": [
        {
          "output_type": "execute_result",
          "data": {
            "text/plain": [
              "91     37660\n",
              "92     42029\n",
              "93     43257\n",
              "94     45681\n",
              "95     45643\n",
              "       ...  \n",
              "177    81274\n",
              "178    79234\n",
              "179    77056\n",
              "180    67346\n",
              "181    74994\n",
              "Name: number_of_rentals, Length: 91, dtype: int64"
            ]
          },
          "metadata": {},
          "execution_count": 81
        }
      ]
    },
    {
      "cell_type": "code",
      "source": [
        "train[train['year']==2020]['number_of_rentals']"
      ],
      "metadata": {
        "colab": {
          "base_uri": "https://localhost:8080/"
        },
        "id": "kPKpKtZAMLJU",
        "outputId": "aee2b25c-fb93-4347-f90a-b1f0f9e71db1"
      },
      "execution_count": 82,
      "outputs": [
        {
          "output_type": "execute_result",
          "data": {
            "text/plain": [
              "182     70258\n",
              "183     72129\n",
              "184     74856\n",
              "185     66405\n",
              "186     64111\n",
              "        ...  \n",
              "268     96150\n",
              "269    107001\n",
              "270     98568\n",
              "271     70053\n",
              "272     38086\n",
              "Name: number_of_rentals, Length: 91, dtype: int64"
            ]
          },
          "metadata": {},
          "execution_count": 82
        }
      ]
    },
    {
      "cell_type": "code",
      "source": [
        "x1 = sum(train[train['year']==2018]['number_of_rentals'])\n",
        "\n",
        "x2 = sum(train[train['year']==2019]['number_of_rentals'])\n",
        "\n",
        "x3 = sum(train[train['year']==2020]['number_of_rentals'])"
      ],
      "metadata": {
        "id": "RJcV5aOPMMjU"
      },
      "execution_count": 83,
      "outputs": []
    },
    {
      "cell_type": "code",
      "source": [
        "x1"
      ],
      "metadata": {
        "colab": {
          "base_uri": "https://localhost:8080/"
        },
        "id": "GSrBMxcrMWQv",
        "outputId": "c4e79b35-a095-4c3f-cefb-027f9e0e5b7d"
      },
      "execution_count": 84,
      "outputs": [
        {
          "output_type": "execute_result",
          "data": {
            "text/plain": [
              "2860617"
            ]
          },
          "metadata": {},
          "execution_count": 84
        }
      ]
    },
    {
      "cell_type": "code",
      "source": [
        "x2"
      ],
      "metadata": {
        "colab": {
          "base_uri": "https://localhost:8080/"
        },
        "id": "j3F1hc1tMW5r",
        "outputId": "be47a7a7-0254-4bae-969a-f8616d2dfe28"
      },
      "execution_count": 85,
      "outputs": [
        {
          "output_type": "execute_result",
          "data": {
            "text/plain": [
              "5994774"
            ]
          },
          "metadata": {},
          "execution_count": 85
        }
      ]
    },
    {
      "cell_type": "code",
      "source": [
        "x3"
      ],
      "metadata": {
        "colab": {
          "base_uri": "https://localhost:8080/"
        },
        "id": "AwBb2aibMXQj",
        "outputId": "6386b80d-264c-46e1-f8c4-7f1dddd62794"
      },
      "execution_count": 86,
      "outputs": [
        {
          "output_type": "execute_result",
          "data": {
            "text/plain": [
              "7408578"
            ]
          },
          "metadata": {},
          "execution_count": 86
        }
      ]
    },
    {
      "cell_type": "code",
      "source": [
        "print(x3/x1)\n",
        "print(x3/x2)"
      ],
      "metadata": {
        "colab": {
          "base_uri": "https://localhost:8080/"
        },
        "id": "EL6LCPkQMXqC",
        "outputId": "3d2e313c-3919-4d23-df89-f6ad10d9ec3b"
      },
      "execution_count": 87,
      "outputs": [
        {
          "output_type": "stream",
          "name": "stdout",
          "text": [
            "2.5898531680403214\n",
            "1.2358394161314505\n"
          ]
        }
      ]
    },
    {
      "cell_type": "code",
      "source": [
        "y1 = train[train['year']==2018]['number_of_rentals'] * 2.5898531680403214\n",
        "y2 = train[train['year']==2019]['number_of_rentals'] * 1.2358394161314505\n",
        "y3 = train[train['year']==2020]['number_of_rentals']\n",
        "\n",
        "pd.concat([y1,y2,y3], axis=0).to_frame()"
      ],
      "metadata": {
        "colab": {
          "base_uri": "https://localhost:8080/",
          "height": 423
        },
        "id": "s6zqI4_HMglh",
        "outputId": "c5bd723f-6c14-4c21-f55d-24887a367b68"
      },
      "execution_count": 88,
      "outputs": [
        {
          "output_type": "execute_result",
          "data": {
            "text/plain": [
              "     number_of_rentals\n",
              "0         59551.083746\n",
              "1         72875.878295\n",
              "2         69452.092407\n",
              "3         67424.237377\n",
              "4          7337.054025\n",
              "..                 ...\n",
              "268       96150.000000\n",
              "269      107001.000000\n",
              "270       98568.000000\n",
              "271       70053.000000\n",
              "272       38086.000000\n",
              "\n",
              "[273 rows x 1 columns]"
            ],
            "text/html": [
              "\n",
              "  <div id=\"df-67518690-bab1-4809-883f-54962b4df01f\">\n",
              "    <div class=\"colab-df-container\">\n",
              "      <div>\n",
              "<style scoped>\n",
              "    .dataframe tbody tr th:only-of-type {\n",
              "        vertical-align: middle;\n",
              "    }\n",
              "\n",
              "    .dataframe tbody tr th {\n",
              "        vertical-align: top;\n",
              "    }\n",
              "\n",
              "    .dataframe thead th {\n",
              "        text-align: right;\n",
              "    }\n",
              "</style>\n",
              "<table border=\"1\" class=\"dataframe\">\n",
              "  <thead>\n",
              "    <tr style=\"text-align: right;\">\n",
              "      <th></th>\n",
              "      <th>number_of_rentals</th>\n",
              "    </tr>\n",
              "  </thead>\n",
              "  <tbody>\n",
              "    <tr>\n",
              "      <th>0</th>\n",
              "      <td>59551.083746</td>\n",
              "    </tr>\n",
              "    <tr>\n",
              "      <th>1</th>\n",
              "      <td>72875.878295</td>\n",
              "    </tr>\n",
              "    <tr>\n",
              "      <th>2</th>\n",
              "      <td>69452.092407</td>\n",
              "    </tr>\n",
              "    <tr>\n",
              "      <th>3</th>\n",
              "      <td>67424.237377</td>\n",
              "    </tr>\n",
              "    <tr>\n",
              "      <th>4</th>\n",
              "      <td>7337.054025</td>\n",
              "    </tr>\n",
              "    <tr>\n",
              "      <th>...</th>\n",
              "      <td>...</td>\n",
              "    </tr>\n",
              "    <tr>\n",
              "      <th>268</th>\n",
              "      <td>96150.000000</td>\n",
              "    </tr>\n",
              "    <tr>\n",
              "      <th>269</th>\n",
              "      <td>107001.000000</td>\n",
              "    </tr>\n",
              "    <tr>\n",
              "      <th>270</th>\n",
              "      <td>98568.000000</td>\n",
              "    </tr>\n",
              "    <tr>\n",
              "      <th>271</th>\n",
              "      <td>70053.000000</td>\n",
              "    </tr>\n",
              "    <tr>\n",
              "      <th>272</th>\n",
              "      <td>38086.000000</td>\n",
              "    </tr>\n",
              "  </tbody>\n",
              "</table>\n",
              "<p>273 rows × 1 columns</p>\n",
              "</div>\n",
              "      <button class=\"colab-df-convert\" onclick=\"convertToInteractive('df-67518690-bab1-4809-883f-54962b4df01f')\"\n",
              "              title=\"Convert this dataframe to an interactive table.\"\n",
              "              style=\"display:none;\">\n",
              "        \n",
              "  <svg xmlns=\"http://www.w3.org/2000/svg\" height=\"24px\"viewBox=\"0 0 24 24\"\n",
              "       width=\"24px\">\n",
              "    <path d=\"M0 0h24v24H0V0z\" fill=\"none\"/>\n",
              "    <path d=\"M18.56 5.44l.94 2.06.94-2.06 2.06-.94-2.06-.94-.94-2.06-.94 2.06-2.06.94zm-11 1L8.5 8.5l.94-2.06 2.06-.94-2.06-.94L8.5 2.5l-.94 2.06-2.06.94zm10 10l.94 2.06.94-2.06 2.06-.94-2.06-.94-.94-2.06-.94 2.06-2.06.94z\"/><path d=\"M17.41 7.96l-1.37-1.37c-.4-.4-.92-.59-1.43-.59-.52 0-1.04.2-1.43.59L10.3 9.45l-7.72 7.72c-.78.78-.78 2.05 0 2.83L4 21.41c.39.39.9.59 1.41.59.51 0 1.02-.2 1.41-.59l7.78-7.78 2.81-2.81c.8-.78.8-2.07 0-2.86zM5.41 20L4 18.59l7.72-7.72 1.47 1.35L5.41 20z\"/>\n",
              "  </svg>\n",
              "      </button>\n",
              "      \n",
              "  <style>\n",
              "    .colab-df-container {\n",
              "      display:flex;\n",
              "      flex-wrap:wrap;\n",
              "      gap: 12px;\n",
              "    }\n",
              "\n",
              "    .colab-df-convert {\n",
              "      background-color: #E8F0FE;\n",
              "      border: none;\n",
              "      border-radius: 50%;\n",
              "      cursor: pointer;\n",
              "      display: none;\n",
              "      fill: #1967D2;\n",
              "      height: 32px;\n",
              "      padding: 0 0 0 0;\n",
              "      width: 32px;\n",
              "    }\n",
              "\n",
              "    .colab-df-convert:hover {\n",
              "      background-color: #E2EBFA;\n",
              "      box-shadow: 0px 1px 2px rgba(60, 64, 67, 0.3), 0px 1px 3px 1px rgba(60, 64, 67, 0.15);\n",
              "      fill: #174EA6;\n",
              "    }\n",
              "\n",
              "    [theme=dark] .colab-df-convert {\n",
              "      background-color: #3B4455;\n",
              "      fill: #D2E3FC;\n",
              "    }\n",
              "\n",
              "    [theme=dark] .colab-df-convert:hover {\n",
              "      background-color: #434B5C;\n",
              "      box-shadow: 0px 1px 3px 1px rgba(0, 0, 0, 0.15);\n",
              "      filter: drop-shadow(0px 1px 2px rgba(0, 0, 0, 0.3));\n",
              "      fill: #FFFFFF;\n",
              "    }\n",
              "  </style>\n",
              "\n",
              "      <script>\n",
              "        const buttonEl =\n",
              "          document.querySelector('#df-67518690-bab1-4809-883f-54962b4df01f button.colab-df-convert');\n",
              "        buttonEl.style.display =\n",
              "          google.colab.kernel.accessAllowed ? 'block' : 'none';\n",
              "\n",
              "        async function convertToInteractive(key) {\n",
              "          const element = document.querySelector('#df-67518690-bab1-4809-883f-54962b4df01f');\n",
              "          const dataTable =\n",
              "            await google.colab.kernel.invokeFunction('convertToInteractive',\n",
              "                                                     [key], {});\n",
              "          if (!dataTable) return;\n",
              "\n",
              "          const docLinkHtml = 'Like what you see? Visit the ' +\n",
              "            '<a target=\"_blank\" href=https://colab.research.google.com/notebooks/data_table.ipynb>data table notebook</a>'\n",
              "            + ' to learn more about interactive tables.';\n",
              "          element.innerHTML = '';\n",
              "          dataTable['output_type'] = 'display_data';\n",
              "          await google.colab.output.renderOutput(dataTable, element);\n",
              "          const docLink = document.createElement('div');\n",
              "          docLink.innerHTML = docLinkHtml;\n",
              "          element.appendChild(docLink);\n",
              "        }\n",
              "      </script>\n",
              "    </div>\n",
              "  </div>\n",
              "  "
            ]
          },
          "metadata": {},
          "execution_count": 88
        }
      ]
    },
    {
      "cell_type": "code",
      "source": [
        "temp = train[['year', 'number_of_rentals']]\n",
        "temp['inflation_rentals'] = pd.concat([y1,y2,y3], axis=0).to_frame()\n",
        "temp[:183]"
      ],
      "metadata": {
        "colab": {
          "base_uri": "https://localhost:8080/",
          "height": 533
        },
        "id": "11lRWvy6M5qd",
        "outputId": "73ebd89c-6b94-41c4-9c1d-b40fae6e75ef"
      },
      "execution_count": 90,
      "outputs": [
        {
          "output_type": "stream",
          "name": "stderr",
          "text": [
            "/usr/local/lib/python3.7/dist-packages/ipykernel_launcher.py:2: SettingWithCopyWarning: \n",
            "A value is trying to be set on a copy of a slice from a DataFrame.\n",
            "Try using .loc[row_indexer,col_indexer] = value instead\n",
            "\n",
            "See the caveats in the documentation: https://pandas.pydata.org/pandas-docs/stable/user_guide/indexing.html#returning-a-view-versus-a-copy\n",
            "  \n"
          ]
        },
        {
          "output_type": "execute_result",
          "data": {
            "text/plain": [
              "     year  number_of_rentals  inflation_rentals\n",
              "0    2018              22994       59551.083746\n",
              "1    2018              28139       72875.878295\n",
              "2    2018              26817       69452.092407\n",
              "3    2018              26034       67424.237377\n",
              "4    2018               2833        7337.054025\n",
              "..    ...                ...                ...\n",
              "178  2019              79234       97920.500298\n",
              "179  2019              77056       95228.842049\n",
              "180  2019              67346       83228.841319\n",
              "181  2019              74994       92680.541173\n",
              "182  2020              70258       70258.000000\n",
              "\n",
              "[183 rows x 3 columns]"
            ],
            "text/html": [
              "\n",
              "  <div id=\"df-3869f203-caa2-41af-b3ec-01ac8e973e02\">\n",
              "    <div class=\"colab-df-container\">\n",
              "      <div>\n",
              "<style scoped>\n",
              "    .dataframe tbody tr th:only-of-type {\n",
              "        vertical-align: middle;\n",
              "    }\n",
              "\n",
              "    .dataframe tbody tr th {\n",
              "        vertical-align: top;\n",
              "    }\n",
              "\n",
              "    .dataframe thead th {\n",
              "        text-align: right;\n",
              "    }\n",
              "</style>\n",
              "<table border=\"1\" class=\"dataframe\">\n",
              "  <thead>\n",
              "    <tr style=\"text-align: right;\">\n",
              "      <th></th>\n",
              "      <th>year</th>\n",
              "      <th>number_of_rentals</th>\n",
              "      <th>inflation_rentals</th>\n",
              "    </tr>\n",
              "  </thead>\n",
              "  <tbody>\n",
              "    <tr>\n",
              "      <th>0</th>\n",
              "      <td>2018</td>\n",
              "      <td>22994</td>\n",
              "      <td>59551.083746</td>\n",
              "    </tr>\n",
              "    <tr>\n",
              "      <th>1</th>\n",
              "      <td>2018</td>\n",
              "      <td>28139</td>\n",
              "      <td>72875.878295</td>\n",
              "    </tr>\n",
              "    <tr>\n",
              "      <th>2</th>\n",
              "      <td>2018</td>\n",
              "      <td>26817</td>\n",
              "      <td>69452.092407</td>\n",
              "    </tr>\n",
              "    <tr>\n",
              "      <th>3</th>\n",
              "      <td>2018</td>\n",
              "      <td>26034</td>\n",
              "      <td>67424.237377</td>\n",
              "    </tr>\n",
              "    <tr>\n",
              "      <th>4</th>\n",
              "      <td>2018</td>\n",
              "      <td>2833</td>\n",
              "      <td>7337.054025</td>\n",
              "    </tr>\n",
              "    <tr>\n",
              "      <th>...</th>\n",
              "      <td>...</td>\n",
              "      <td>...</td>\n",
              "      <td>...</td>\n",
              "    </tr>\n",
              "    <tr>\n",
              "      <th>178</th>\n",
              "      <td>2019</td>\n",
              "      <td>79234</td>\n",
              "      <td>97920.500298</td>\n",
              "    </tr>\n",
              "    <tr>\n",
              "      <th>179</th>\n",
              "      <td>2019</td>\n",
              "      <td>77056</td>\n",
              "      <td>95228.842049</td>\n",
              "    </tr>\n",
              "    <tr>\n",
              "      <th>180</th>\n",
              "      <td>2019</td>\n",
              "      <td>67346</td>\n",
              "      <td>83228.841319</td>\n",
              "    </tr>\n",
              "    <tr>\n",
              "      <th>181</th>\n",
              "      <td>2019</td>\n",
              "      <td>74994</td>\n",
              "      <td>92680.541173</td>\n",
              "    </tr>\n",
              "    <tr>\n",
              "      <th>182</th>\n",
              "      <td>2020</td>\n",
              "      <td>70258</td>\n",
              "      <td>70258.000000</td>\n",
              "    </tr>\n",
              "  </tbody>\n",
              "</table>\n",
              "<p>183 rows × 3 columns</p>\n",
              "</div>\n",
              "      <button class=\"colab-df-convert\" onclick=\"convertToInteractive('df-3869f203-caa2-41af-b3ec-01ac8e973e02')\"\n",
              "              title=\"Convert this dataframe to an interactive table.\"\n",
              "              style=\"display:none;\">\n",
              "        \n",
              "  <svg xmlns=\"http://www.w3.org/2000/svg\" height=\"24px\"viewBox=\"0 0 24 24\"\n",
              "       width=\"24px\">\n",
              "    <path d=\"M0 0h24v24H0V0z\" fill=\"none\"/>\n",
              "    <path d=\"M18.56 5.44l.94 2.06.94-2.06 2.06-.94-2.06-.94-.94-2.06-.94 2.06-2.06.94zm-11 1L8.5 8.5l.94-2.06 2.06-.94-2.06-.94L8.5 2.5l-.94 2.06-2.06.94zm10 10l.94 2.06.94-2.06 2.06-.94-2.06-.94-.94-2.06-.94 2.06-2.06.94z\"/><path d=\"M17.41 7.96l-1.37-1.37c-.4-.4-.92-.59-1.43-.59-.52 0-1.04.2-1.43.59L10.3 9.45l-7.72 7.72c-.78.78-.78 2.05 0 2.83L4 21.41c.39.39.9.59 1.41.59.51 0 1.02-.2 1.41-.59l7.78-7.78 2.81-2.81c.8-.78.8-2.07 0-2.86zM5.41 20L4 18.59l7.72-7.72 1.47 1.35L5.41 20z\"/>\n",
              "  </svg>\n",
              "      </button>\n",
              "      \n",
              "  <style>\n",
              "    .colab-df-container {\n",
              "      display:flex;\n",
              "      flex-wrap:wrap;\n",
              "      gap: 12px;\n",
              "    }\n",
              "\n",
              "    .colab-df-convert {\n",
              "      background-color: #E8F0FE;\n",
              "      border: none;\n",
              "      border-radius: 50%;\n",
              "      cursor: pointer;\n",
              "      display: none;\n",
              "      fill: #1967D2;\n",
              "      height: 32px;\n",
              "      padding: 0 0 0 0;\n",
              "      width: 32px;\n",
              "    }\n",
              "\n",
              "    .colab-df-convert:hover {\n",
              "      background-color: #E2EBFA;\n",
              "      box-shadow: 0px 1px 2px rgba(60, 64, 67, 0.3), 0px 1px 3px 1px rgba(60, 64, 67, 0.15);\n",
              "      fill: #174EA6;\n",
              "    }\n",
              "\n",
              "    [theme=dark] .colab-df-convert {\n",
              "      background-color: #3B4455;\n",
              "      fill: #D2E3FC;\n",
              "    }\n",
              "\n",
              "    [theme=dark] .colab-df-convert:hover {\n",
              "      background-color: #434B5C;\n",
              "      box-shadow: 0px 1px 3px 1px rgba(0, 0, 0, 0.15);\n",
              "      filter: drop-shadow(0px 1px 2px rgba(0, 0, 0, 0.3));\n",
              "      fill: #FFFFFF;\n",
              "    }\n",
              "  </style>\n",
              "\n",
              "      <script>\n",
              "        const buttonEl =\n",
              "          document.querySelector('#df-3869f203-caa2-41af-b3ec-01ac8e973e02 button.colab-df-convert');\n",
              "        buttonEl.style.display =\n",
              "          google.colab.kernel.accessAllowed ? 'block' : 'none';\n",
              "\n",
              "        async function convertToInteractive(key) {\n",
              "          const element = document.querySelector('#df-3869f203-caa2-41af-b3ec-01ac8e973e02');\n",
              "          const dataTable =\n",
              "            await google.colab.kernel.invokeFunction('convertToInteractive',\n",
              "                                                     [key], {});\n",
              "          if (!dataTable) return;\n",
              "\n",
              "          const docLinkHtml = 'Like what you see? Visit the ' +\n",
              "            '<a target=\"_blank\" href=https://colab.research.google.com/notebooks/data_table.ipynb>data table notebook</a>'\n",
              "            + ' to learn more about interactive tables.';\n",
              "          element.innerHTML = '';\n",
              "          dataTable['output_type'] = 'display_data';\n",
              "          await google.colab.output.renderOutput(dataTable, element);\n",
              "          const docLink = document.createElement('div');\n",
              "          docLink.innerHTML = docLinkHtml;\n",
              "          element.appendChild(docLink);\n",
              "        }\n",
              "      </script>\n",
              "    </div>\n",
              "  </div>\n",
              "  "
            ]
          },
          "metadata": {},
          "execution_count": 90
        }
      ]
    },
    {
      "cell_type": "code",
      "source": [
        "test"
      ],
      "metadata": {
        "colab": {
          "base_uri": "https://localhost:8080/",
          "height": 423
        },
        "id": "NGLrt956NKZK",
        "outputId": "d3fb5013-179e-4598-86ad-d358827ad775"
      },
      "execution_count": 91,
      "outputs": [
        {
          "output_type": "execute_result",
          "data": {
            "text/plain": [
              "     date_time  wind_direction  sky_condition  precipitation_form  wind_speed  \\\n",
              "0   2021-04-01         108.833          3.000               0.000       2.900   \n",
              "1   2021-04-02         116.717          3.850               0.000       2.662   \n",
              "2   2021-04-03          82.669          4.000               0.565       2.165   \n",
              "3   2021-04-04          44.123          3.466               0.466       3.747   \n",
              "4   2021-04-05         147.791          1.500               0.000       1.560   \n",
              "..         ...             ...            ...                 ...         ...   \n",
              "86  2021-06-26         177.149          3.980               0.223       1.066   \n",
              "87  2021-06-27         138.723          2.777               0.135       1.290   \n",
              "88  2021-06-28         111.095          3.338               1.270       1.692   \n",
              "89  2021-06-29         171.622          3.270               0.595       1.470   \n",
              "90  2021-06-30         181.709          3.270               0.703       1.180   \n",
              "\n",
              "    humidity  low_temp  high_temp  Precipitation_Probability  \n",
              "0     28.333    11.800     20.667                     18.333  \n",
              "1     46.417    12.000     19.000                     28.500  \n",
              "2     77.258     8.875     16.368                     52.847  \n",
              "3     63.288     6.250     17.368                     37.671  \n",
              "4     48.176     7.188     18.684                      4.459  \n",
              "..       ...       ...        ...                        ...  \n",
              "86    74.628    20.312     28.579                     36.486  \n",
              "87    70.236    20.812     29.000                     18.378  \n",
              "88    70.338    21.000     28.789                     35.946  \n",
              "89    70.473    21.000     29.421                     27.770  \n",
              "90    75.203    21.500     30.211                     29.054  \n",
              "\n",
              "[91 rows x 9 columns]"
            ],
            "text/html": [
              "\n",
              "  <div id=\"df-dbe046c0-bb80-455e-9a22-535411dca2c2\">\n",
              "    <div class=\"colab-df-container\">\n",
              "      <div>\n",
              "<style scoped>\n",
              "    .dataframe tbody tr th:only-of-type {\n",
              "        vertical-align: middle;\n",
              "    }\n",
              "\n",
              "    .dataframe tbody tr th {\n",
              "        vertical-align: top;\n",
              "    }\n",
              "\n",
              "    .dataframe thead th {\n",
              "        text-align: right;\n",
              "    }\n",
              "</style>\n",
              "<table border=\"1\" class=\"dataframe\">\n",
              "  <thead>\n",
              "    <tr style=\"text-align: right;\">\n",
              "      <th></th>\n",
              "      <th>date_time</th>\n",
              "      <th>wind_direction</th>\n",
              "      <th>sky_condition</th>\n",
              "      <th>precipitation_form</th>\n",
              "      <th>wind_speed</th>\n",
              "      <th>humidity</th>\n",
              "      <th>low_temp</th>\n",
              "      <th>high_temp</th>\n",
              "      <th>Precipitation_Probability</th>\n",
              "    </tr>\n",
              "  </thead>\n",
              "  <tbody>\n",
              "    <tr>\n",
              "      <th>0</th>\n",
              "      <td>2021-04-01</td>\n",
              "      <td>108.833</td>\n",
              "      <td>3.000</td>\n",
              "      <td>0.000</td>\n",
              "      <td>2.900</td>\n",
              "      <td>28.333</td>\n",
              "      <td>11.800</td>\n",
              "      <td>20.667</td>\n",
              "      <td>18.333</td>\n",
              "    </tr>\n",
              "    <tr>\n",
              "      <th>1</th>\n",
              "      <td>2021-04-02</td>\n",
              "      <td>116.717</td>\n",
              "      <td>3.850</td>\n",
              "      <td>0.000</td>\n",
              "      <td>2.662</td>\n",
              "      <td>46.417</td>\n",
              "      <td>12.000</td>\n",
              "      <td>19.000</td>\n",
              "      <td>28.500</td>\n",
              "    </tr>\n",
              "    <tr>\n",
              "      <th>2</th>\n",
              "      <td>2021-04-03</td>\n",
              "      <td>82.669</td>\n",
              "      <td>4.000</td>\n",
              "      <td>0.565</td>\n",
              "      <td>2.165</td>\n",
              "      <td>77.258</td>\n",
              "      <td>8.875</td>\n",
              "      <td>16.368</td>\n",
              "      <td>52.847</td>\n",
              "    </tr>\n",
              "    <tr>\n",
              "      <th>3</th>\n",
              "      <td>2021-04-04</td>\n",
              "      <td>44.123</td>\n",
              "      <td>3.466</td>\n",
              "      <td>0.466</td>\n",
              "      <td>3.747</td>\n",
              "      <td>63.288</td>\n",
              "      <td>6.250</td>\n",
              "      <td>17.368</td>\n",
              "      <td>37.671</td>\n",
              "    </tr>\n",
              "    <tr>\n",
              "      <th>4</th>\n",
              "      <td>2021-04-05</td>\n",
              "      <td>147.791</td>\n",
              "      <td>1.500</td>\n",
              "      <td>0.000</td>\n",
              "      <td>1.560</td>\n",
              "      <td>48.176</td>\n",
              "      <td>7.188</td>\n",
              "      <td>18.684</td>\n",
              "      <td>4.459</td>\n",
              "    </tr>\n",
              "    <tr>\n",
              "      <th>...</th>\n",
              "      <td>...</td>\n",
              "      <td>...</td>\n",
              "      <td>...</td>\n",
              "      <td>...</td>\n",
              "      <td>...</td>\n",
              "      <td>...</td>\n",
              "      <td>...</td>\n",
              "      <td>...</td>\n",
              "      <td>...</td>\n",
              "    </tr>\n",
              "    <tr>\n",
              "      <th>86</th>\n",
              "      <td>2021-06-26</td>\n",
              "      <td>177.149</td>\n",
              "      <td>3.980</td>\n",
              "      <td>0.223</td>\n",
              "      <td>1.066</td>\n",
              "      <td>74.628</td>\n",
              "      <td>20.312</td>\n",
              "      <td>28.579</td>\n",
              "      <td>36.486</td>\n",
              "    </tr>\n",
              "    <tr>\n",
              "      <th>87</th>\n",
              "      <td>2021-06-27</td>\n",
              "      <td>138.723</td>\n",
              "      <td>2.777</td>\n",
              "      <td>0.135</td>\n",
              "      <td>1.290</td>\n",
              "      <td>70.236</td>\n",
              "      <td>20.812</td>\n",
              "      <td>29.000</td>\n",
              "      <td>18.378</td>\n",
              "    </tr>\n",
              "    <tr>\n",
              "      <th>88</th>\n",
              "      <td>2021-06-28</td>\n",
              "      <td>111.095</td>\n",
              "      <td>3.338</td>\n",
              "      <td>1.270</td>\n",
              "      <td>1.692</td>\n",
              "      <td>70.338</td>\n",
              "      <td>21.000</td>\n",
              "      <td>28.789</td>\n",
              "      <td>35.946</td>\n",
              "    </tr>\n",
              "    <tr>\n",
              "      <th>89</th>\n",
              "      <td>2021-06-29</td>\n",
              "      <td>171.622</td>\n",
              "      <td>3.270</td>\n",
              "      <td>0.595</td>\n",
              "      <td>1.470</td>\n",
              "      <td>70.473</td>\n",
              "      <td>21.000</td>\n",
              "      <td>29.421</td>\n",
              "      <td>27.770</td>\n",
              "    </tr>\n",
              "    <tr>\n",
              "      <th>90</th>\n",
              "      <td>2021-06-30</td>\n",
              "      <td>181.709</td>\n",
              "      <td>3.270</td>\n",
              "      <td>0.703</td>\n",
              "      <td>1.180</td>\n",
              "      <td>75.203</td>\n",
              "      <td>21.500</td>\n",
              "      <td>30.211</td>\n",
              "      <td>29.054</td>\n",
              "    </tr>\n",
              "  </tbody>\n",
              "</table>\n",
              "<p>91 rows × 9 columns</p>\n",
              "</div>\n",
              "      <button class=\"colab-df-convert\" onclick=\"convertToInteractive('df-dbe046c0-bb80-455e-9a22-535411dca2c2')\"\n",
              "              title=\"Convert this dataframe to an interactive table.\"\n",
              "              style=\"display:none;\">\n",
              "        \n",
              "  <svg xmlns=\"http://www.w3.org/2000/svg\" height=\"24px\"viewBox=\"0 0 24 24\"\n",
              "       width=\"24px\">\n",
              "    <path d=\"M0 0h24v24H0V0z\" fill=\"none\"/>\n",
              "    <path d=\"M18.56 5.44l.94 2.06.94-2.06 2.06-.94-2.06-.94-.94-2.06-.94 2.06-2.06.94zm-11 1L8.5 8.5l.94-2.06 2.06-.94-2.06-.94L8.5 2.5l-.94 2.06-2.06.94zm10 10l.94 2.06.94-2.06 2.06-.94-2.06-.94-.94-2.06-.94 2.06-2.06.94z\"/><path d=\"M17.41 7.96l-1.37-1.37c-.4-.4-.92-.59-1.43-.59-.52 0-1.04.2-1.43.59L10.3 9.45l-7.72 7.72c-.78.78-.78 2.05 0 2.83L4 21.41c.39.39.9.59 1.41.59.51 0 1.02-.2 1.41-.59l7.78-7.78 2.81-2.81c.8-.78.8-2.07 0-2.86zM5.41 20L4 18.59l7.72-7.72 1.47 1.35L5.41 20z\"/>\n",
              "  </svg>\n",
              "      </button>\n",
              "      \n",
              "  <style>\n",
              "    .colab-df-container {\n",
              "      display:flex;\n",
              "      flex-wrap:wrap;\n",
              "      gap: 12px;\n",
              "    }\n",
              "\n",
              "    .colab-df-convert {\n",
              "      background-color: #E8F0FE;\n",
              "      border: none;\n",
              "      border-radius: 50%;\n",
              "      cursor: pointer;\n",
              "      display: none;\n",
              "      fill: #1967D2;\n",
              "      height: 32px;\n",
              "      padding: 0 0 0 0;\n",
              "      width: 32px;\n",
              "    }\n",
              "\n",
              "    .colab-df-convert:hover {\n",
              "      background-color: #E2EBFA;\n",
              "      box-shadow: 0px 1px 2px rgba(60, 64, 67, 0.3), 0px 1px 3px 1px rgba(60, 64, 67, 0.15);\n",
              "      fill: #174EA6;\n",
              "    }\n",
              "\n",
              "    [theme=dark] .colab-df-convert {\n",
              "      background-color: #3B4455;\n",
              "      fill: #D2E3FC;\n",
              "    }\n",
              "\n",
              "    [theme=dark] .colab-df-convert:hover {\n",
              "      background-color: #434B5C;\n",
              "      box-shadow: 0px 1px 3px 1px rgba(0, 0, 0, 0.15);\n",
              "      filter: drop-shadow(0px 1px 2px rgba(0, 0, 0, 0.3));\n",
              "      fill: #FFFFFF;\n",
              "    }\n",
              "  </style>\n",
              "\n",
              "      <script>\n",
              "        const buttonEl =\n",
              "          document.querySelector('#df-dbe046c0-bb80-455e-9a22-535411dca2c2 button.colab-df-convert');\n",
              "        buttonEl.style.display =\n",
              "          google.colab.kernel.accessAllowed ? 'block' : 'none';\n",
              "\n",
              "        async function convertToInteractive(key) {\n",
              "          const element = document.querySelector('#df-dbe046c0-bb80-455e-9a22-535411dca2c2');\n",
              "          const dataTable =\n",
              "            await google.colab.kernel.invokeFunction('convertToInteractive',\n",
              "                                                     [key], {});\n",
              "          if (!dataTable) return;\n",
              "\n",
              "          const docLinkHtml = 'Like what you see? Visit the ' +\n",
              "            '<a target=\"_blank\" href=https://colab.research.google.com/notebooks/data_table.ipynb>data table notebook</a>'\n",
              "            + ' to learn more about interactive tables.';\n",
              "          element.innerHTML = '';\n",
              "          dataTable['output_type'] = 'display_data';\n",
              "          await google.colab.output.renderOutput(dataTable, element);\n",
              "          const docLink = document.createElement('div');\n",
              "          docLink.innerHTML = docLinkHtml;\n",
              "          element.appendChild(docLink);\n",
              "        }\n",
              "      </script>\n",
              "    </div>\n",
              "  </div>\n",
              "  "
            ]
          },
          "metadata": {},
          "execution_count": 91
        }
      ]
    },
    {
      "cell_type": "markdown",
      "source": [
        "### 4.1.2. 피쳐 제거"
      ],
      "metadata": {
        "id": "CmDQ3E7gNmBA"
      }
    },
    {
      "cell_type": "code",
      "source": [
        "train = train.drop(['week_day'], axis = 1)\n",
        "train = train.drop(['day'], axis = 1)\n",
        "train = train.drop(['date_time'], axis = 1)"
      ],
      "metadata": {
        "id": "v2pofASMNYXP"
      },
      "execution_count": 93,
      "outputs": []
    },
    {
      "cell_type": "code",
      "source": [
        "train.head()"
      ],
      "metadata": {
        "colab": {
          "base_uri": "https://localhost:8080/",
          "height": 206
        },
        "id": "4iUlYqR-N0kZ",
        "outputId": "b4d9e5a2-8374-447c-acdc-e2fccbe1a0d0"
      },
      "execution_count": 94,
      "outputs": [
        {
          "output_type": "execute_result",
          "data": {
            "text/plain": [
              "   wind_direction  sky_condition  precipitation_form  wind_speed  humidity  \\\n",
              "0         207.500          4.000               0.000       3.050    75.000   \n",
              "1         208.317          2.950               0.000       3.278    69.833   \n",
              "2         213.516          2.911               0.000       2.690    74.879   \n",
              "3         143.836          3.692               0.425       3.138    71.849   \n",
              "4          95.905          4.000               0.723       3.186    73.784   \n",
              "\n",
              "   low_temp  high_temp  Precipitation_Probability  number_of_rentals  year  \\\n",
              "0    12.600     21.000                     30.000              22994  2018   \n",
              "1    12.812     19.000                     19.500              28139  2018   \n",
              "2    10.312     15.316                     19.113              26817  2018   \n",
              "3     8.312     12.368                     43.493              26034  2018   \n",
              "4     5.875     10.421                     63.378               2833  2018   \n",
              "\n",
              "   month  \n",
              "0      4  \n",
              "1      4  \n",
              "2      4  \n",
              "3      4  \n",
              "4      4  "
            ],
            "text/html": [
              "\n",
              "  <div id=\"df-ab12a49a-6784-4557-bfb4-93914cc5e5c0\">\n",
              "    <div class=\"colab-df-container\">\n",
              "      <div>\n",
              "<style scoped>\n",
              "    .dataframe tbody tr th:only-of-type {\n",
              "        vertical-align: middle;\n",
              "    }\n",
              "\n",
              "    .dataframe tbody tr th {\n",
              "        vertical-align: top;\n",
              "    }\n",
              "\n",
              "    .dataframe thead th {\n",
              "        text-align: right;\n",
              "    }\n",
              "</style>\n",
              "<table border=\"1\" class=\"dataframe\">\n",
              "  <thead>\n",
              "    <tr style=\"text-align: right;\">\n",
              "      <th></th>\n",
              "      <th>wind_direction</th>\n",
              "      <th>sky_condition</th>\n",
              "      <th>precipitation_form</th>\n",
              "      <th>wind_speed</th>\n",
              "      <th>humidity</th>\n",
              "      <th>low_temp</th>\n",
              "      <th>high_temp</th>\n",
              "      <th>Precipitation_Probability</th>\n",
              "      <th>number_of_rentals</th>\n",
              "      <th>year</th>\n",
              "      <th>month</th>\n",
              "    </tr>\n",
              "  </thead>\n",
              "  <tbody>\n",
              "    <tr>\n",
              "      <th>0</th>\n",
              "      <td>207.500</td>\n",
              "      <td>4.000</td>\n",
              "      <td>0.000</td>\n",
              "      <td>3.050</td>\n",
              "      <td>75.000</td>\n",
              "      <td>12.600</td>\n",
              "      <td>21.000</td>\n",
              "      <td>30.000</td>\n",
              "      <td>22994</td>\n",
              "      <td>2018</td>\n",
              "      <td>4</td>\n",
              "    </tr>\n",
              "    <tr>\n",
              "      <th>1</th>\n",
              "      <td>208.317</td>\n",
              "      <td>2.950</td>\n",
              "      <td>0.000</td>\n",
              "      <td>3.278</td>\n",
              "      <td>69.833</td>\n",
              "      <td>12.812</td>\n",
              "      <td>19.000</td>\n",
              "      <td>19.500</td>\n",
              "      <td>28139</td>\n",
              "      <td>2018</td>\n",
              "      <td>4</td>\n",
              "    </tr>\n",
              "    <tr>\n",
              "      <th>2</th>\n",
              "      <td>213.516</td>\n",
              "      <td>2.911</td>\n",
              "      <td>0.000</td>\n",
              "      <td>2.690</td>\n",
              "      <td>74.879</td>\n",
              "      <td>10.312</td>\n",
              "      <td>15.316</td>\n",
              "      <td>19.113</td>\n",
              "      <td>26817</td>\n",
              "      <td>2018</td>\n",
              "      <td>4</td>\n",
              "    </tr>\n",
              "    <tr>\n",
              "      <th>3</th>\n",
              "      <td>143.836</td>\n",
              "      <td>3.692</td>\n",
              "      <td>0.425</td>\n",
              "      <td>3.138</td>\n",
              "      <td>71.849</td>\n",
              "      <td>8.312</td>\n",
              "      <td>12.368</td>\n",
              "      <td>43.493</td>\n",
              "      <td>26034</td>\n",
              "      <td>2018</td>\n",
              "      <td>4</td>\n",
              "    </tr>\n",
              "    <tr>\n",
              "      <th>4</th>\n",
              "      <td>95.905</td>\n",
              "      <td>4.000</td>\n",
              "      <td>0.723</td>\n",
              "      <td>3.186</td>\n",
              "      <td>73.784</td>\n",
              "      <td>5.875</td>\n",
              "      <td>10.421</td>\n",
              "      <td>63.378</td>\n",
              "      <td>2833</td>\n",
              "      <td>2018</td>\n",
              "      <td>4</td>\n",
              "    </tr>\n",
              "  </tbody>\n",
              "</table>\n",
              "</div>\n",
              "      <button class=\"colab-df-convert\" onclick=\"convertToInteractive('df-ab12a49a-6784-4557-bfb4-93914cc5e5c0')\"\n",
              "              title=\"Convert this dataframe to an interactive table.\"\n",
              "              style=\"display:none;\">\n",
              "        \n",
              "  <svg xmlns=\"http://www.w3.org/2000/svg\" height=\"24px\"viewBox=\"0 0 24 24\"\n",
              "       width=\"24px\">\n",
              "    <path d=\"M0 0h24v24H0V0z\" fill=\"none\"/>\n",
              "    <path d=\"M18.56 5.44l.94 2.06.94-2.06 2.06-.94-2.06-.94-.94-2.06-.94 2.06-2.06.94zm-11 1L8.5 8.5l.94-2.06 2.06-.94-2.06-.94L8.5 2.5l-.94 2.06-2.06.94zm10 10l.94 2.06.94-2.06 2.06-.94-2.06-.94-.94-2.06-.94 2.06-2.06.94z\"/><path d=\"M17.41 7.96l-1.37-1.37c-.4-.4-.92-.59-1.43-.59-.52 0-1.04.2-1.43.59L10.3 9.45l-7.72 7.72c-.78.78-.78 2.05 0 2.83L4 21.41c.39.39.9.59 1.41.59.51 0 1.02-.2 1.41-.59l7.78-7.78 2.81-2.81c.8-.78.8-2.07 0-2.86zM5.41 20L4 18.59l7.72-7.72 1.47 1.35L5.41 20z\"/>\n",
              "  </svg>\n",
              "      </button>\n",
              "      \n",
              "  <style>\n",
              "    .colab-df-container {\n",
              "      display:flex;\n",
              "      flex-wrap:wrap;\n",
              "      gap: 12px;\n",
              "    }\n",
              "\n",
              "    .colab-df-convert {\n",
              "      background-color: #E8F0FE;\n",
              "      border: none;\n",
              "      border-radius: 50%;\n",
              "      cursor: pointer;\n",
              "      display: none;\n",
              "      fill: #1967D2;\n",
              "      height: 32px;\n",
              "      padding: 0 0 0 0;\n",
              "      width: 32px;\n",
              "    }\n",
              "\n",
              "    .colab-df-convert:hover {\n",
              "      background-color: #E2EBFA;\n",
              "      box-shadow: 0px 1px 2px rgba(60, 64, 67, 0.3), 0px 1px 3px 1px rgba(60, 64, 67, 0.15);\n",
              "      fill: #174EA6;\n",
              "    }\n",
              "\n",
              "    [theme=dark] .colab-df-convert {\n",
              "      background-color: #3B4455;\n",
              "      fill: #D2E3FC;\n",
              "    }\n",
              "\n",
              "    [theme=dark] .colab-df-convert:hover {\n",
              "      background-color: #434B5C;\n",
              "      box-shadow: 0px 1px 3px 1px rgba(0, 0, 0, 0.15);\n",
              "      filter: drop-shadow(0px 1px 2px rgba(0, 0, 0, 0.3));\n",
              "      fill: #FFFFFF;\n",
              "    }\n",
              "  </style>\n",
              "\n",
              "      <script>\n",
              "        const buttonEl =\n",
              "          document.querySelector('#df-ab12a49a-6784-4557-bfb4-93914cc5e5c0 button.colab-df-convert');\n",
              "        buttonEl.style.display =\n",
              "          google.colab.kernel.accessAllowed ? 'block' : 'none';\n",
              "\n",
              "        async function convertToInteractive(key) {\n",
              "          const element = document.querySelector('#df-ab12a49a-6784-4557-bfb4-93914cc5e5c0');\n",
              "          const dataTable =\n",
              "            await google.colab.kernel.invokeFunction('convertToInteractive',\n",
              "                                                     [key], {});\n",
              "          if (!dataTable) return;\n",
              "\n",
              "          const docLinkHtml = 'Like what you see? Visit the ' +\n",
              "            '<a target=\"_blank\" href=https://colab.research.google.com/notebooks/data_table.ipynb>data table notebook</a>'\n",
              "            + ' to learn more about interactive tables.';\n",
              "          element.innerHTML = '';\n",
              "          dataTable['output_type'] = 'display_data';\n",
              "          await google.colab.output.renderOutput(dataTable, element);\n",
              "          const docLink = document.createElement('div');\n",
              "          docLink.innerHTML = docLinkHtml;\n",
              "          element.appendChild(docLink);\n",
              "        }\n",
              "      </script>\n",
              "    </div>\n",
              "  </div>\n",
              "  "
            ]
          },
          "metadata": {},
          "execution_count": 94
        }
      ]
    },
    {
      "cell_type": "markdown",
      "source": [
        "### 4.1.3. 더위 및 추위 파생 변수 생성"
      ],
      "metadata": {
        "id": "EKu4TBPKN5gh"
      }
    },
    {
      "cell_type": "code",
      "source": [
        "train['hot_score'] = train['high_temp']*train['humidity']\n",
        "train['cold_score'] = train['wind_speed']/train['low_temp']"
      ],
      "metadata": {
        "id": "Q_291xYBN2on"
      },
      "execution_count": 95,
      "outputs": []
    },
    {
      "cell_type": "code",
      "source": [
        "train.head()"
      ],
      "metadata": {
        "colab": {
          "base_uri": "https://localhost:8080/",
          "height": 206
        },
        "id": "c3Po1sr8OJWf",
        "outputId": "910a4f89-6fe0-421b-cb12-97e7e2319a0c"
      },
      "execution_count": 96,
      "outputs": [
        {
          "output_type": "execute_result",
          "data": {
            "text/plain": [
              "   wind_direction  sky_condition  precipitation_form  wind_speed  humidity  \\\n",
              "0         207.500          4.000               0.000       3.050    75.000   \n",
              "1         208.317          2.950               0.000       3.278    69.833   \n",
              "2         213.516          2.911               0.000       2.690    74.879   \n",
              "3         143.836          3.692               0.425       3.138    71.849   \n",
              "4          95.905          4.000               0.723       3.186    73.784   \n",
              "\n",
              "   low_temp  high_temp  Precipitation_Probability  number_of_rentals  year  \\\n",
              "0    12.600     21.000                     30.000              22994  2018   \n",
              "1    12.812     19.000                     19.500              28139  2018   \n",
              "2    10.312     15.316                     19.113              26817  2018   \n",
              "3     8.312     12.368                     43.493              26034  2018   \n",
              "4     5.875     10.421                     63.378               2833  2018   \n",
              "\n",
              "   month    hot_score  cold_score  \n",
              "0      4  1575.000000    0.242063  \n",
              "1      4  1326.827000    0.255854  \n",
              "2      4  1146.846764    0.260861  \n",
              "3      4   888.628432    0.377526  \n",
              "4      4   768.903064    0.542298  "
            ],
            "text/html": [
              "\n",
              "  <div id=\"df-d1f381db-e6bf-494f-9b56-86db3daf1a0f\">\n",
              "    <div class=\"colab-df-container\">\n",
              "      <div>\n",
              "<style scoped>\n",
              "    .dataframe tbody tr th:only-of-type {\n",
              "        vertical-align: middle;\n",
              "    }\n",
              "\n",
              "    .dataframe tbody tr th {\n",
              "        vertical-align: top;\n",
              "    }\n",
              "\n",
              "    .dataframe thead th {\n",
              "        text-align: right;\n",
              "    }\n",
              "</style>\n",
              "<table border=\"1\" class=\"dataframe\">\n",
              "  <thead>\n",
              "    <tr style=\"text-align: right;\">\n",
              "      <th></th>\n",
              "      <th>wind_direction</th>\n",
              "      <th>sky_condition</th>\n",
              "      <th>precipitation_form</th>\n",
              "      <th>wind_speed</th>\n",
              "      <th>humidity</th>\n",
              "      <th>low_temp</th>\n",
              "      <th>high_temp</th>\n",
              "      <th>Precipitation_Probability</th>\n",
              "      <th>number_of_rentals</th>\n",
              "      <th>year</th>\n",
              "      <th>month</th>\n",
              "      <th>hot_score</th>\n",
              "      <th>cold_score</th>\n",
              "    </tr>\n",
              "  </thead>\n",
              "  <tbody>\n",
              "    <tr>\n",
              "      <th>0</th>\n",
              "      <td>207.500</td>\n",
              "      <td>4.000</td>\n",
              "      <td>0.000</td>\n",
              "      <td>3.050</td>\n",
              "      <td>75.000</td>\n",
              "      <td>12.600</td>\n",
              "      <td>21.000</td>\n",
              "      <td>30.000</td>\n",
              "      <td>22994</td>\n",
              "      <td>2018</td>\n",
              "      <td>4</td>\n",
              "      <td>1575.000000</td>\n",
              "      <td>0.242063</td>\n",
              "    </tr>\n",
              "    <tr>\n",
              "      <th>1</th>\n",
              "      <td>208.317</td>\n",
              "      <td>2.950</td>\n",
              "      <td>0.000</td>\n",
              "      <td>3.278</td>\n",
              "      <td>69.833</td>\n",
              "      <td>12.812</td>\n",
              "      <td>19.000</td>\n",
              "      <td>19.500</td>\n",
              "      <td>28139</td>\n",
              "      <td>2018</td>\n",
              "      <td>4</td>\n",
              "      <td>1326.827000</td>\n",
              "      <td>0.255854</td>\n",
              "    </tr>\n",
              "    <tr>\n",
              "      <th>2</th>\n",
              "      <td>213.516</td>\n",
              "      <td>2.911</td>\n",
              "      <td>0.000</td>\n",
              "      <td>2.690</td>\n",
              "      <td>74.879</td>\n",
              "      <td>10.312</td>\n",
              "      <td>15.316</td>\n",
              "      <td>19.113</td>\n",
              "      <td>26817</td>\n",
              "      <td>2018</td>\n",
              "      <td>4</td>\n",
              "      <td>1146.846764</td>\n",
              "      <td>0.260861</td>\n",
              "    </tr>\n",
              "    <tr>\n",
              "      <th>3</th>\n",
              "      <td>143.836</td>\n",
              "      <td>3.692</td>\n",
              "      <td>0.425</td>\n",
              "      <td>3.138</td>\n",
              "      <td>71.849</td>\n",
              "      <td>8.312</td>\n",
              "      <td>12.368</td>\n",
              "      <td>43.493</td>\n",
              "      <td>26034</td>\n",
              "      <td>2018</td>\n",
              "      <td>4</td>\n",
              "      <td>888.628432</td>\n",
              "      <td>0.377526</td>\n",
              "    </tr>\n",
              "    <tr>\n",
              "      <th>4</th>\n",
              "      <td>95.905</td>\n",
              "      <td>4.000</td>\n",
              "      <td>0.723</td>\n",
              "      <td>3.186</td>\n",
              "      <td>73.784</td>\n",
              "      <td>5.875</td>\n",
              "      <td>10.421</td>\n",
              "      <td>63.378</td>\n",
              "      <td>2833</td>\n",
              "      <td>2018</td>\n",
              "      <td>4</td>\n",
              "      <td>768.903064</td>\n",
              "      <td>0.542298</td>\n",
              "    </tr>\n",
              "  </tbody>\n",
              "</table>\n",
              "</div>\n",
              "      <button class=\"colab-df-convert\" onclick=\"convertToInteractive('df-d1f381db-e6bf-494f-9b56-86db3daf1a0f')\"\n",
              "              title=\"Convert this dataframe to an interactive table.\"\n",
              "              style=\"display:none;\">\n",
              "        \n",
              "  <svg xmlns=\"http://www.w3.org/2000/svg\" height=\"24px\"viewBox=\"0 0 24 24\"\n",
              "       width=\"24px\">\n",
              "    <path d=\"M0 0h24v24H0V0z\" fill=\"none\"/>\n",
              "    <path d=\"M18.56 5.44l.94 2.06.94-2.06 2.06-.94-2.06-.94-.94-2.06-.94 2.06-2.06.94zm-11 1L8.5 8.5l.94-2.06 2.06-.94-2.06-.94L8.5 2.5l-.94 2.06-2.06.94zm10 10l.94 2.06.94-2.06 2.06-.94-2.06-.94-.94-2.06-.94 2.06-2.06.94z\"/><path d=\"M17.41 7.96l-1.37-1.37c-.4-.4-.92-.59-1.43-.59-.52 0-1.04.2-1.43.59L10.3 9.45l-7.72 7.72c-.78.78-.78 2.05 0 2.83L4 21.41c.39.39.9.59 1.41.59.51 0 1.02-.2 1.41-.59l7.78-7.78 2.81-2.81c.8-.78.8-2.07 0-2.86zM5.41 20L4 18.59l7.72-7.72 1.47 1.35L5.41 20z\"/>\n",
              "  </svg>\n",
              "      </button>\n",
              "      \n",
              "  <style>\n",
              "    .colab-df-container {\n",
              "      display:flex;\n",
              "      flex-wrap:wrap;\n",
              "      gap: 12px;\n",
              "    }\n",
              "\n",
              "    .colab-df-convert {\n",
              "      background-color: #E8F0FE;\n",
              "      border: none;\n",
              "      border-radius: 50%;\n",
              "      cursor: pointer;\n",
              "      display: none;\n",
              "      fill: #1967D2;\n",
              "      height: 32px;\n",
              "      padding: 0 0 0 0;\n",
              "      width: 32px;\n",
              "    }\n",
              "\n",
              "    .colab-df-convert:hover {\n",
              "      background-color: #E2EBFA;\n",
              "      box-shadow: 0px 1px 2px rgba(60, 64, 67, 0.3), 0px 1px 3px 1px rgba(60, 64, 67, 0.15);\n",
              "      fill: #174EA6;\n",
              "    }\n",
              "\n",
              "    [theme=dark] .colab-df-convert {\n",
              "      background-color: #3B4455;\n",
              "      fill: #D2E3FC;\n",
              "    }\n",
              "\n",
              "    [theme=dark] .colab-df-convert:hover {\n",
              "      background-color: #434B5C;\n",
              "      box-shadow: 0px 1px 3px 1px rgba(0, 0, 0, 0.15);\n",
              "      filter: drop-shadow(0px 1px 2px rgba(0, 0, 0, 0.3));\n",
              "      fill: #FFFFFF;\n",
              "    }\n",
              "  </style>\n",
              "\n",
              "      <script>\n",
              "        const buttonEl =\n",
              "          document.querySelector('#df-d1f381db-e6bf-494f-9b56-86db3daf1a0f button.colab-df-convert');\n",
              "        buttonEl.style.display =\n",
              "          google.colab.kernel.accessAllowed ? 'block' : 'none';\n",
              "\n",
              "        async function convertToInteractive(key) {\n",
              "          const element = document.querySelector('#df-d1f381db-e6bf-494f-9b56-86db3daf1a0f');\n",
              "          const dataTable =\n",
              "            await google.colab.kernel.invokeFunction('convertToInteractive',\n",
              "                                                     [key], {});\n",
              "          if (!dataTable) return;\n",
              "\n",
              "          const docLinkHtml = 'Like what you see? Visit the ' +\n",
              "            '<a target=\"_blank\" href=https://colab.research.google.com/notebooks/data_table.ipynb>data table notebook</a>'\n",
              "            + ' to learn more about interactive tables.';\n",
              "          element.innerHTML = '';\n",
              "          dataTable['output_type'] = 'display_data';\n",
              "          await google.colab.output.renderOutput(dataTable, element);\n",
              "          const docLink = document.createElement('div');\n",
              "          docLink.innerHTML = docLinkHtml;\n",
              "          element.appendChild(docLink);\n",
              "        }\n",
              "      </script>\n",
              "    </div>\n",
              "  </div>\n",
              "  "
            ]
          },
          "metadata": {},
          "execution_count": 96
        }
      ]
    },
    {
      "cell_type": "markdown",
      "source": [
        "## 4.2. Feature Selection"
      ],
      "metadata": {
        "id": "Tt0ihmqsOOjl"
      }
    },
    {
      "cell_type": "code",
      "source": [
        "#X = train.drop(['number_of_rentals'], axis = 1)\n",
        "X = train[['wind_direction', 'sky_condition', 'precipitation_form', 'wind_speed',\n",
        "       'humidity', 'low_temp', 'high_temp', 'Precipitation_Probability',\n",
        "       'year', 'month', 'hot_score', 'cold_score']]\n",
        "\n",
        "y = train['number_of_rentals']"
      ],
      "metadata": {
        "id": "-_HbIXXPOKcO"
      },
      "execution_count": 99,
      "outputs": []
    },
    {
      "cell_type": "code",
      "source": [
        "train.columns"
      ],
      "metadata": {
        "colab": {
          "base_uri": "https://localhost:8080/"
        },
        "id": "WKroCEeWOX_H",
        "outputId": "4c0aaeca-c018-4bed-83f8-9066afcdec06"
      },
      "execution_count": 97,
      "outputs": [
        {
          "output_type": "execute_result",
          "data": {
            "text/plain": [
              "Index(['wind_direction', 'sky_condition', 'precipitation_form', 'wind_speed',\n",
              "       'humidity', 'low_temp', 'high_temp', 'Precipitation_Probability',\n",
              "       'number_of_rentals', 'year', 'month', 'hot_score', 'cold_score'],\n",
              "      dtype='object')"
            ]
          },
          "metadata": {},
          "execution_count": 97
        }
      ]
    },
    {
      "cell_type": "markdown",
      "source": [
        "# 5. Modeling"
      ],
      "metadata": {
        "id": "HVzma8fNOq6B"
      }
    },
    {
      "cell_type": "markdown",
      "source": [
        "## 5.1. 모델 선택"
      ],
      "metadata": {
        "id": "DWppNlwbOszx"
      }
    },
    {
      "cell_type": "code",
      "source": [
        "#from sklearn.ensemble import RandomForestRegressor\n",
        "\n",
        "#model = RandomForestRegressor()"
      ],
      "metadata": {
        "id": "aktf95vrOZSA"
      },
      "execution_count": 100,
      "outputs": []
    },
    {
      "cell_type": "code",
      "source": [
        "from sklearn.linear_model import LinearRegression\n",
        "\n",
        "model = LinearRegression()"
      ],
      "metadata": {
        "id": "f30oXOH8RNvS"
      },
      "execution_count": 112,
      "outputs": []
    },
    {
      "cell_type": "markdown",
      "source": [
        "## 5.2. 모델 학습"
      ],
      "metadata": {
        "id": "zttn4jbcO2QU"
      }
    },
    {
      "cell_type": "code",
      "source": [
        "model.fit(X,y)"
      ],
      "metadata": {
        "colab": {
          "base_uri": "https://localhost:8080/"
        },
        "id": "jWdKI_D1O1EH",
        "outputId": "ad15e852-51ee-449c-d812-eb8d203c8020"
      },
      "execution_count": 113,
      "outputs": [
        {
          "output_type": "execute_result",
          "data": {
            "text/plain": [
              "LinearRegression()"
            ]
          },
          "metadata": {},
          "execution_count": 113
        }
      ]
    },
    {
      "cell_type": "markdown",
      "source": [
        "## 5.3. 모델 예측"
      ],
      "metadata": {
        "id": "mjvYKYuDO66r"
      }
    },
    {
      "cell_type": "markdown",
      "source": [
        "### 5.3.1. test 셋 데이터 처리"
      ],
      "metadata": {
        "id": "YIiR-MeIO-FB"
      }
    },
    {
      "cell_type": "code",
      "source": [
        "X"
      ],
      "metadata": {
        "colab": {
          "base_uri": "https://localhost:8080/",
          "height": 423
        },
        "id": "zpp4MmTmPB-5",
        "outputId": "50ecfc74-bbc1-4775-d370-ef7369180230"
      },
      "execution_count": 102,
      "outputs": [
        {
          "output_type": "execute_result",
          "data": {
            "text/plain": [
              "     wind_direction  sky_condition  precipitation_form  wind_speed  humidity  \\\n",
              "0           207.500          4.000               0.000       3.050    75.000   \n",
              "1           208.317          2.950               0.000       3.278    69.833   \n",
              "2           213.516          2.911               0.000       2.690    74.879   \n",
              "3           143.836          3.692               0.425       3.138    71.849   \n",
              "4            95.905          4.000               0.723       3.186    73.784   \n",
              "..              ...            ...                 ...         ...       ...   \n",
              "268         228.662          3.980               0.223       2.271    78.378   \n",
              "269         207.770          2.865               0.081       1.794    78.412   \n",
              "270         282.568          1.730               0.000       1.820    72.736   \n",
              "271         137.027          2.257               0.088       2.043    70.473   \n",
              "272         120.797          3.622               0.432       5.574    77.061   \n",
              "\n",
              "     low_temp  high_temp  Precipitation_Probability  year  month    hot_score  \\\n",
              "0      12.600     21.000                     30.000  2018      4  1575.000000   \n",
              "1      12.812     19.000                     19.500  2018      4  1326.827000   \n",
              "2      10.312     15.316                     19.113  2018      4  1146.846764   \n",
              "3       8.312     12.368                     43.493  2018      4   888.628432   \n",
              "4       5.875     10.421                     63.378  2018      4   768.903064   \n",
              "..        ...        ...                        ...   ...    ...          ...   \n",
              "268    20.500     27.526                     36.486  2020      6  2157.432828   \n",
              "269    20.812     28.842                     21.081  2020      6  2261.558904   \n",
              "270    21.000     29.053                      7.297  2020      6  2113.199008   \n",
              "271    19.625     26.000                     15.541  2020      6  1832.298000   \n",
              "272    19.125     26.053                     41.284  2020      6  2007.670233   \n",
              "\n",
              "     cold_score  \n",
              "0      0.242063  \n",
              "1      0.255854  \n",
              "2      0.260861  \n",
              "3      0.377526  \n",
              "4      0.542298  \n",
              "..          ...  \n",
              "268    0.110780  \n",
              "269    0.086200  \n",
              "270    0.086667  \n",
              "271    0.104102  \n",
              "272    0.291451  \n",
              "\n",
              "[273 rows x 12 columns]"
            ],
            "text/html": [
              "\n",
              "  <div id=\"df-48871732-0313-49d6-b3b2-f65cc302e05b\">\n",
              "    <div class=\"colab-df-container\">\n",
              "      <div>\n",
              "<style scoped>\n",
              "    .dataframe tbody tr th:only-of-type {\n",
              "        vertical-align: middle;\n",
              "    }\n",
              "\n",
              "    .dataframe tbody tr th {\n",
              "        vertical-align: top;\n",
              "    }\n",
              "\n",
              "    .dataframe thead th {\n",
              "        text-align: right;\n",
              "    }\n",
              "</style>\n",
              "<table border=\"1\" class=\"dataframe\">\n",
              "  <thead>\n",
              "    <tr style=\"text-align: right;\">\n",
              "      <th></th>\n",
              "      <th>wind_direction</th>\n",
              "      <th>sky_condition</th>\n",
              "      <th>precipitation_form</th>\n",
              "      <th>wind_speed</th>\n",
              "      <th>humidity</th>\n",
              "      <th>low_temp</th>\n",
              "      <th>high_temp</th>\n",
              "      <th>Precipitation_Probability</th>\n",
              "      <th>year</th>\n",
              "      <th>month</th>\n",
              "      <th>hot_score</th>\n",
              "      <th>cold_score</th>\n",
              "    </tr>\n",
              "  </thead>\n",
              "  <tbody>\n",
              "    <tr>\n",
              "      <th>0</th>\n",
              "      <td>207.500</td>\n",
              "      <td>4.000</td>\n",
              "      <td>0.000</td>\n",
              "      <td>3.050</td>\n",
              "      <td>75.000</td>\n",
              "      <td>12.600</td>\n",
              "      <td>21.000</td>\n",
              "      <td>30.000</td>\n",
              "      <td>2018</td>\n",
              "      <td>4</td>\n",
              "      <td>1575.000000</td>\n",
              "      <td>0.242063</td>\n",
              "    </tr>\n",
              "    <tr>\n",
              "      <th>1</th>\n",
              "      <td>208.317</td>\n",
              "      <td>2.950</td>\n",
              "      <td>0.000</td>\n",
              "      <td>3.278</td>\n",
              "      <td>69.833</td>\n",
              "      <td>12.812</td>\n",
              "      <td>19.000</td>\n",
              "      <td>19.500</td>\n",
              "      <td>2018</td>\n",
              "      <td>4</td>\n",
              "      <td>1326.827000</td>\n",
              "      <td>0.255854</td>\n",
              "    </tr>\n",
              "    <tr>\n",
              "      <th>2</th>\n",
              "      <td>213.516</td>\n",
              "      <td>2.911</td>\n",
              "      <td>0.000</td>\n",
              "      <td>2.690</td>\n",
              "      <td>74.879</td>\n",
              "      <td>10.312</td>\n",
              "      <td>15.316</td>\n",
              "      <td>19.113</td>\n",
              "      <td>2018</td>\n",
              "      <td>4</td>\n",
              "      <td>1146.846764</td>\n",
              "      <td>0.260861</td>\n",
              "    </tr>\n",
              "    <tr>\n",
              "      <th>3</th>\n",
              "      <td>143.836</td>\n",
              "      <td>3.692</td>\n",
              "      <td>0.425</td>\n",
              "      <td>3.138</td>\n",
              "      <td>71.849</td>\n",
              "      <td>8.312</td>\n",
              "      <td>12.368</td>\n",
              "      <td>43.493</td>\n",
              "      <td>2018</td>\n",
              "      <td>4</td>\n",
              "      <td>888.628432</td>\n",
              "      <td>0.377526</td>\n",
              "    </tr>\n",
              "    <tr>\n",
              "      <th>4</th>\n",
              "      <td>95.905</td>\n",
              "      <td>4.000</td>\n",
              "      <td>0.723</td>\n",
              "      <td>3.186</td>\n",
              "      <td>73.784</td>\n",
              "      <td>5.875</td>\n",
              "      <td>10.421</td>\n",
              "      <td>63.378</td>\n",
              "      <td>2018</td>\n",
              "      <td>4</td>\n",
              "      <td>768.903064</td>\n",
              "      <td>0.542298</td>\n",
              "    </tr>\n",
              "    <tr>\n",
              "      <th>...</th>\n",
              "      <td>...</td>\n",
              "      <td>...</td>\n",
              "      <td>...</td>\n",
              "      <td>...</td>\n",
              "      <td>...</td>\n",
              "      <td>...</td>\n",
              "      <td>...</td>\n",
              "      <td>...</td>\n",
              "      <td>...</td>\n",
              "      <td>...</td>\n",
              "      <td>...</td>\n",
              "      <td>...</td>\n",
              "    </tr>\n",
              "    <tr>\n",
              "      <th>268</th>\n",
              "      <td>228.662</td>\n",
              "      <td>3.980</td>\n",
              "      <td>0.223</td>\n",
              "      <td>2.271</td>\n",
              "      <td>78.378</td>\n",
              "      <td>20.500</td>\n",
              "      <td>27.526</td>\n",
              "      <td>36.486</td>\n",
              "      <td>2020</td>\n",
              "      <td>6</td>\n",
              "      <td>2157.432828</td>\n",
              "      <td>0.110780</td>\n",
              "    </tr>\n",
              "    <tr>\n",
              "      <th>269</th>\n",
              "      <td>207.770</td>\n",
              "      <td>2.865</td>\n",
              "      <td>0.081</td>\n",
              "      <td>1.794</td>\n",
              "      <td>78.412</td>\n",
              "      <td>20.812</td>\n",
              "      <td>28.842</td>\n",
              "      <td>21.081</td>\n",
              "      <td>2020</td>\n",
              "      <td>6</td>\n",
              "      <td>2261.558904</td>\n",
              "      <td>0.086200</td>\n",
              "    </tr>\n",
              "    <tr>\n",
              "      <th>270</th>\n",
              "      <td>282.568</td>\n",
              "      <td>1.730</td>\n",
              "      <td>0.000</td>\n",
              "      <td>1.820</td>\n",
              "      <td>72.736</td>\n",
              "      <td>21.000</td>\n",
              "      <td>29.053</td>\n",
              "      <td>7.297</td>\n",
              "      <td>2020</td>\n",
              "      <td>6</td>\n",
              "      <td>2113.199008</td>\n",
              "      <td>0.086667</td>\n",
              "    </tr>\n",
              "    <tr>\n",
              "      <th>271</th>\n",
              "      <td>137.027</td>\n",
              "      <td>2.257</td>\n",
              "      <td>0.088</td>\n",
              "      <td>2.043</td>\n",
              "      <td>70.473</td>\n",
              "      <td>19.625</td>\n",
              "      <td>26.000</td>\n",
              "      <td>15.541</td>\n",
              "      <td>2020</td>\n",
              "      <td>6</td>\n",
              "      <td>1832.298000</td>\n",
              "      <td>0.104102</td>\n",
              "    </tr>\n",
              "    <tr>\n",
              "      <th>272</th>\n",
              "      <td>120.797</td>\n",
              "      <td>3.622</td>\n",
              "      <td>0.432</td>\n",
              "      <td>5.574</td>\n",
              "      <td>77.061</td>\n",
              "      <td>19.125</td>\n",
              "      <td>26.053</td>\n",
              "      <td>41.284</td>\n",
              "      <td>2020</td>\n",
              "      <td>6</td>\n",
              "      <td>2007.670233</td>\n",
              "      <td>0.291451</td>\n",
              "    </tr>\n",
              "  </tbody>\n",
              "</table>\n",
              "<p>273 rows × 12 columns</p>\n",
              "</div>\n",
              "      <button class=\"colab-df-convert\" onclick=\"convertToInteractive('df-48871732-0313-49d6-b3b2-f65cc302e05b')\"\n",
              "              title=\"Convert this dataframe to an interactive table.\"\n",
              "              style=\"display:none;\">\n",
              "        \n",
              "  <svg xmlns=\"http://www.w3.org/2000/svg\" height=\"24px\"viewBox=\"0 0 24 24\"\n",
              "       width=\"24px\">\n",
              "    <path d=\"M0 0h24v24H0V0z\" fill=\"none\"/>\n",
              "    <path d=\"M18.56 5.44l.94 2.06.94-2.06 2.06-.94-2.06-.94-.94-2.06-.94 2.06-2.06.94zm-11 1L8.5 8.5l.94-2.06 2.06-.94-2.06-.94L8.5 2.5l-.94 2.06-2.06.94zm10 10l.94 2.06.94-2.06 2.06-.94-2.06-.94-.94-2.06-.94 2.06-2.06.94z\"/><path d=\"M17.41 7.96l-1.37-1.37c-.4-.4-.92-.59-1.43-.59-.52 0-1.04.2-1.43.59L10.3 9.45l-7.72 7.72c-.78.78-.78 2.05 0 2.83L4 21.41c.39.39.9.59 1.41.59.51 0 1.02-.2 1.41-.59l7.78-7.78 2.81-2.81c.8-.78.8-2.07 0-2.86zM5.41 20L4 18.59l7.72-7.72 1.47 1.35L5.41 20z\"/>\n",
              "  </svg>\n",
              "      </button>\n",
              "      \n",
              "  <style>\n",
              "    .colab-df-container {\n",
              "      display:flex;\n",
              "      flex-wrap:wrap;\n",
              "      gap: 12px;\n",
              "    }\n",
              "\n",
              "    .colab-df-convert {\n",
              "      background-color: #E8F0FE;\n",
              "      border: none;\n",
              "      border-radius: 50%;\n",
              "      cursor: pointer;\n",
              "      display: none;\n",
              "      fill: #1967D2;\n",
              "      height: 32px;\n",
              "      padding: 0 0 0 0;\n",
              "      width: 32px;\n",
              "    }\n",
              "\n",
              "    .colab-df-convert:hover {\n",
              "      background-color: #E2EBFA;\n",
              "      box-shadow: 0px 1px 2px rgba(60, 64, 67, 0.3), 0px 1px 3px 1px rgba(60, 64, 67, 0.15);\n",
              "      fill: #174EA6;\n",
              "    }\n",
              "\n",
              "    [theme=dark] .colab-df-convert {\n",
              "      background-color: #3B4455;\n",
              "      fill: #D2E3FC;\n",
              "    }\n",
              "\n",
              "    [theme=dark] .colab-df-convert:hover {\n",
              "      background-color: #434B5C;\n",
              "      box-shadow: 0px 1px 3px 1px rgba(0, 0, 0, 0.15);\n",
              "      filter: drop-shadow(0px 1px 2px rgba(0, 0, 0, 0.3));\n",
              "      fill: #FFFFFF;\n",
              "    }\n",
              "  </style>\n",
              "\n",
              "      <script>\n",
              "        const buttonEl =\n",
              "          document.querySelector('#df-48871732-0313-49d6-b3b2-f65cc302e05b button.colab-df-convert');\n",
              "        buttonEl.style.display =\n",
              "          google.colab.kernel.accessAllowed ? 'block' : 'none';\n",
              "\n",
              "        async function convertToInteractive(key) {\n",
              "          const element = document.querySelector('#df-48871732-0313-49d6-b3b2-f65cc302e05b');\n",
              "          const dataTable =\n",
              "            await google.colab.kernel.invokeFunction('convertToInteractive',\n",
              "                                                     [key], {});\n",
              "          if (!dataTable) return;\n",
              "\n",
              "          const docLinkHtml = 'Like what you see? Visit the ' +\n",
              "            '<a target=\"_blank\" href=https://colab.research.google.com/notebooks/data_table.ipynb>data table notebook</a>'\n",
              "            + ' to learn more about interactive tables.';\n",
              "          element.innerHTML = '';\n",
              "          dataTable['output_type'] = 'display_data';\n",
              "          await google.colab.output.renderOutput(dataTable, element);\n",
              "          const docLink = document.createElement('div');\n",
              "          docLink.innerHTML = docLinkHtml;\n",
              "          element.appendChild(docLink);\n",
              "        }\n",
              "      </script>\n",
              "    </div>\n",
              "  </div>\n",
              "  "
            ]
          },
          "metadata": {},
          "execution_count": 102
        }
      ]
    },
    {
      "cell_type": "markdown",
      "source": [
        "### 5.3.1.1.  데이터 전처리 과정에서"
      ],
      "metadata": {
        "id": "VqflR7N4PQLs"
      }
    },
    {
      "cell_type": "code",
      "source": [
        "# date_time 쪼개기 -> year, month, day\n",
        "test['year'] = test['date_time'].apply(lambda x : x.split('-')[0])\n",
        "test['month'] = test['date_time'].apply(lambda x : x.split('-')[1])\n",
        "test['day'] = test['date_time'].apply(lambda x : x.split('-')[2])\n",
        "\n",
        "# 요일 정보 추가\n",
        "week_day = pd.to_datetime(test['date_time']).dt.day_name()\n",
        "test['week_day'] = week_day\n",
        "\n",
        "# 가공한 변수 타입 변경\n",
        "test['year'] = test['year'].astype('int')\n",
        "test['month'] = test['month'].astype('int')\n",
        "test['day'] = test['day'].astype('int')\n",
        "\n",
        "test.loc[test['week_day'] == 'Sunday', 'week_day'] = 0\n",
        "test.loc[test['week_day'] == 'Monday', 'week_day'] = 1\n",
        "test.loc[test['week_day'] == 'Tuesday', 'week_day'] = 2\n",
        "test.loc[test['week_day'] == 'Wednesday', 'week_day'] = 3\n",
        "test.loc[test['week_day'] == 'Thursday', 'week_day'] = 4\n",
        "test.loc[test['week_day'] == 'Friday', 'week_day'] = 5\n",
        "test.loc[test['week_day'] == 'Saturday', 'week_day'] = 6\n",
        "test['week_day'] = test['week_day'].astype('int')\n",
        "\n",
        "test.head()"
      ],
      "metadata": {
        "colab": {
          "base_uri": "https://localhost:8080/",
          "height": 206
        },
        "id": "q0SapVNGPD4b",
        "outputId": "9953074f-2097-4861-88d1-c96dfc731c30"
      },
      "execution_count": 104,
      "outputs": [
        {
          "output_type": "execute_result",
          "data": {
            "text/plain": [
              "    date_time  wind_direction  sky_condition  precipitation_form  wind_speed  \\\n",
              "0  2021-04-01         108.833          3.000               0.000       2.900   \n",
              "1  2021-04-02         116.717          3.850               0.000       2.662   \n",
              "2  2021-04-03          82.669          4.000               0.565       2.165   \n",
              "3  2021-04-04          44.123          3.466               0.466       3.747   \n",
              "4  2021-04-05         147.791          1.500               0.000       1.560   \n",
              "\n",
              "   humidity  low_temp  high_temp  Precipitation_Probability  year  month  day  \\\n",
              "0    28.333    11.800     20.667                     18.333  2021      4    1   \n",
              "1    46.417    12.000     19.000                     28.500  2021      4    2   \n",
              "2    77.258     8.875     16.368                     52.847  2021      4    3   \n",
              "3    63.288     6.250     17.368                     37.671  2021      4    4   \n",
              "4    48.176     7.188     18.684                      4.459  2021      4    5   \n",
              "\n",
              "   week_day  \n",
              "0         4  \n",
              "1         5  \n",
              "2         6  \n",
              "3         0  \n",
              "4         1  "
            ],
            "text/html": [
              "\n",
              "  <div id=\"df-c68407fa-f395-4227-aad0-14d86fe971bb\">\n",
              "    <div class=\"colab-df-container\">\n",
              "      <div>\n",
              "<style scoped>\n",
              "    .dataframe tbody tr th:only-of-type {\n",
              "        vertical-align: middle;\n",
              "    }\n",
              "\n",
              "    .dataframe tbody tr th {\n",
              "        vertical-align: top;\n",
              "    }\n",
              "\n",
              "    .dataframe thead th {\n",
              "        text-align: right;\n",
              "    }\n",
              "</style>\n",
              "<table border=\"1\" class=\"dataframe\">\n",
              "  <thead>\n",
              "    <tr style=\"text-align: right;\">\n",
              "      <th></th>\n",
              "      <th>date_time</th>\n",
              "      <th>wind_direction</th>\n",
              "      <th>sky_condition</th>\n",
              "      <th>precipitation_form</th>\n",
              "      <th>wind_speed</th>\n",
              "      <th>humidity</th>\n",
              "      <th>low_temp</th>\n",
              "      <th>high_temp</th>\n",
              "      <th>Precipitation_Probability</th>\n",
              "      <th>year</th>\n",
              "      <th>month</th>\n",
              "      <th>day</th>\n",
              "      <th>week_day</th>\n",
              "    </tr>\n",
              "  </thead>\n",
              "  <tbody>\n",
              "    <tr>\n",
              "      <th>0</th>\n",
              "      <td>2021-04-01</td>\n",
              "      <td>108.833</td>\n",
              "      <td>3.000</td>\n",
              "      <td>0.000</td>\n",
              "      <td>2.900</td>\n",
              "      <td>28.333</td>\n",
              "      <td>11.800</td>\n",
              "      <td>20.667</td>\n",
              "      <td>18.333</td>\n",
              "      <td>2021</td>\n",
              "      <td>4</td>\n",
              "      <td>1</td>\n",
              "      <td>4</td>\n",
              "    </tr>\n",
              "    <tr>\n",
              "      <th>1</th>\n",
              "      <td>2021-04-02</td>\n",
              "      <td>116.717</td>\n",
              "      <td>3.850</td>\n",
              "      <td>0.000</td>\n",
              "      <td>2.662</td>\n",
              "      <td>46.417</td>\n",
              "      <td>12.000</td>\n",
              "      <td>19.000</td>\n",
              "      <td>28.500</td>\n",
              "      <td>2021</td>\n",
              "      <td>4</td>\n",
              "      <td>2</td>\n",
              "      <td>5</td>\n",
              "    </tr>\n",
              "    <tr>\n",
              "      <th>2</th>\n",
              "      <td>2021-04-03</td>\n",
              "      <td>82.669</td>\n",
              "      <td>4.000</td>\n",
              "      <td>0.565</td>\n",
              "      <td>2.165</td>\n",
              "      <td>77.258</td>\n",
              "      <td>8.875</td>\n",
              "      <td>16.368</td>\n",
              "      <td>52.847</td>\n",
              "      <td>2021</td>\n",
              "      <td>4</td>\n",
              "      <td>3</td>\n",
              "      <td>6</td>\n",
              "    </tr>\n",
              "    <tr>\n",
              "      <th>3</th>\n",
              "      <td>2021-04-04</td>\n",
              "      <td>44.123</td>\n",
              "      <td>3.466</td>\n",
              "      <td>0.466</td>\n",
              "      <td>3.747</td>\n",
              "      <td>63.288</td>\n",
              "      <td>6.250</td>\n",
              "      <td>17.368</td>\n",
              "      <td>37.671</td>\n",
              "      <td>2021</td>\n",
              "      <td>4</td>\n",
              "      <td>4</td>\n",
              "      <td>0</td>\n",
              "    </tr>\n",
              "    <tr>\n",
              "      <th>4</th>\n",
              "      <td>2021-04-05</td>\n",
              "      <td>147.791</td>\n",
              "      <td>1.500</td>\n",
              "      <td>0.000</td>\n",
              "      <td>1.560</td>\n",
              "      <td>48.176</td>\n",
              "      <td>7.188</td>\n",
              "      <td>18.684</td>\n",
              "      <td>4.459</td>\n",
              "      <td>2021</td>\n",
              "      <td>4</td>\n",
              "      <td>5</td>\n",
              "      <td>1</td>\n",
              "    </tr>\n",
              "  </tbody>\n",
              "</table>\n",
              "</div>\n",
              "      <button class=\"colab-df-convert\" onclick=\"convertToInteractive('df-c68407fa-f395-4227-aad0-14d86fe971bb')\"\n",
              "              title=\"Convert this dataframe to an interactive table.\"\n",
              "              style=\"display:none;\">\n",
              "        \n",
              "  <svg xmlns=\"http://www.w3.org/2000/svg\" height=\"24px\"viewBox=\"0 0 24 24\"\n",
              "       width=\"24px\">\n",
              "    <path d=\"M0 0h24v24H0V0z\" fill=\"none\"/>\n",
              "    <path d=\"M18.56 5.44l.94 2.06.94-2.06 2.06-.94-2.06-.94-.94-2.06-.94 2.06-2.06.94zm-11 1L8.5 8.5l.94-2.06 2.06-.94-2.06-.94L8.5 2.5l-.94 2.06-2.06.94zm10 10l.94 2.06.94-2.06 2.06-.94-2.06-.94-.94-2.06-.94 2.06-2.06.94z\"/><path d=\"M17.41 7.96l-1.37-1.37c-.4-.4-.92-.59-1.43-.59-.52 0-1.04.2-1.43.59L10.3 9.45l-7.72 7.72c-.78.78-.78 2.05 0 2.83L4 21.41c.39.39.9.59 1.41.59.51 0 1.02-.2 1.41-.59l7.78-7.78 2.81-2.81c.8-.78.8-2.07 0-2.86zM5.41 20L4 18.59l7.72-7.72 1.47 1.35L5.41 20z\"/>\n",
              "  </svg>\n",
              "      </button>\n",
              "      \n",
              "  <style>\n",
              "    .colab-df-container {\n",
              "      display:flex;\n",
              "      flex-wrap:wrap;\n",
              "      gap: 12px;\n",
              "    }\n",
              "\n",
              "    .colab-df-convert {\n",
              "      background-color: #E8F0FE;\n",
              "      border: none;\n",
              "      border-radius: 50%;\n",
              "      cursor: pointer;\n",
              "      display: none;\n",
              "      fill: #1967D2;\n",
              "      height: 32px;\n",
              "      padding: 0 0 0 0;\n",
              "      width: 32px;\n",
              "    }\n",
              "\n",
              "    .colab-df-convert:hover {\n",
              "      background-color: #E2EBFA;\n",
              "      box-shadow: 0px 1px 2px rgba(60, 64, 67, 0.3), 0px 1px 3px 1px rgba(60, 64, 67, 0.15);\n",
              "      fill: #174EA6;\n",
              "    }\n",
              "\n",
              "    [theme=dark] .colab-df-convert {\n",
              "      background-color: #3B4455;\n",
              "      fill: #D2E3FC;\n",
              "    }\n",
              "\n",
              "    [theme=dark] .colab-df-convert:hover {\n",
              "      background-color: #434B5C;\n",
              "      box-shadow: 0px 1px 3px 1px rgba(0, 0, 0, 0.15);\n",
              "      filter: drop-shadow(0px 1px 2px rgba(0, 0, 0, 0.3));\n",
              "      fill: #FFFFFF;\n",
              "    }\n",
              "  </style>\n",
              "\n",
              "      <script>\n",
              "        const buttonEl =\n",
              "          document.querySelector('#df-c68407fa-f395-4227-aad0-14d86fe971bb button.colab-df-convert');\n",
              "        buttonEl.style.display =\n",
              "          google.colab.kernel.accessAllowed ? 'block' : 'none';\n",
              "\n",
              "        async function convertToInteractive(key) {\n",
              "          const element = document.querySelector('#df-c68407fa-f395-4227-aad0-14d86fe971bb');\n",
              "          const dataTable =\n",
              "            await google.colab.kernel.invokeFunction('convertToInteractive',\n",
              "                                                     [key], {});\n",
              "          if (!dataTable) return;\n",
              "\n",
              "          const docLinkHtml = 'Like what you see? Visit the ' +\n",
              "            '<a target=\"_blank\" href=https://colab.research.google.com/notebooks/data_table.ipynb>data table notebook</a>'\n",
              "            + ' to learn more about interactive tables.';\n",
              "          element.innerHTML = '';\n",
              "          dataTable['output_type'] = 'display_data';\n",
              "          await google.colab.output.renderOutput(dataTable, element);\n",
              "          const docLink = document.createElement('div');\n",
              "          docLink.innerHTML = docLinkHtml;\n",
              "          element.appendChild(docLink);\n",
              "        }\n",
              "      </script>\n",
              "    </div>\n",
              "  </div>\n",
              "  "
            ]
          },
          "metadata": {},
          "execution_count": 104
        }
      ]
    },
    {
      "cell_type": "markdown",
      "source": [
        "#### 5.4.1.2. Feature Extraction 과정"
      ],
      "metadata": {
        "id": "Xni30AtiPcoB"
      }
    },
    {
      "cell_type": "code",
      "source": [
        "# 피쳐 제거\n",
        "test = test.drop(['week_day'],axis = 1)\n",
        "test = test.drop(['day'],axis = 1)\n",
        "test = test.drop(['date_time'],axis = 1)\n",
        "\n",
        "# 더위 점수\n",
        "test['hot_score'] = test['high_temp'] * test['humidity']\n",
        "\n",
        "# 추위 점수\n",
        "test['cold_score'] = test['wind_speed'] / test['low_temp']\n",
        "\n",
        "test.head()"
      ],
      "metadata": {
        "colab": {
          "base_uri": "https://localhost:8080/",
          "height": 206
        },
        "id": "x1NJo0xyPaWO",
        "outputId": "517f0768-4f7e-445b-c6f2-16b7a8f5380b"
      },
      "execution_count": 105,
      "outputs": [
        {
          "output_type": "execute_result",
          "data": {
            "text/plain": [
              "   wind_direction  sky_condition  precipitation_form  wind_speed  humidity  \\\n",
              "0         108.833          3.000               0.000       2.900    28.333   \n",
              "1         116.717          3.850               0.000       2.662    46.417   \n",
              "2          82.669          4.000               0.565       2.165    77.258   \n",
              "3          44.123          3.466               0.466       3.747    63.288   \n",
              "4         147.791          1.500               0.000       1.560    48.176   \n",
              "\n",
              "   low_temp  high_temp  Precipitation_Probability  year  month    hot_score  \\\n",
              "0    11.800     20.667                     18.333  2021      4   585.558111   \n",
              "1    12.000     19.000                     28.500  2021      4   881.923000   \n",
              "2     8.875     16.368                     52.847  2021      4  1264.558944   \n",
              "3     6.250     17.368                     37.671  2021      4  1099.185984   \n",
              "4     7.188     18.684                      4.459  2021      4   900.120384   \n",
              "\n",
              "   cold_score  \n",
              "0    0.245763  \n",
              "1    0.221833  \n",
              "2    0.243944  \n",
              "3    0.599520  \n",
              "4    0.217028  "
            ],
            "text/html": [
              "\n",
              "  <div id=\"df-7df9d8fb-20f2-4748-9afd-e0c0b954a091\">\n",
              "    <div class=\"colab-df-container\">\n",
              "      <div>\n",
              "<style scoped>\n",
              "    .dataframe tbody tr th:only-of-type {\n",
              "        vertical-align: middle;\n",
              "    }\n",
              "\n",
              "    .dataframe tbody tr th {\n",
              "        vertical-align: top;\n",
              "    }\n",
              "\n",
              "    .dataframe thead th {\n",
              "        text-align: right;\n",
              "    }\n",
              "</style>\n",
              "<table border=\"1\" class=\"dataframe\">\n",
              "  <thead>\n",
              "    <tr style=\"text-align: right;\">\n",
              "      <th></th>\n",
              "      <th>wind_direction</th>\n",
              "      <th>sky_condition</th>\n",
              "      <th>precipitation_form</th>\n",
              "      <th>wind_speed</th>\n",
              "      <th>humidity</th>\n",
              "      <th>low_temp</th>\n",
              "      <th>high_temp</th>\n",
              "      <th>Precipitation_Probability</th>\n",
              "      <th>year</th>\n",
              "      <th>month</th>\n",
              "      <th>hot_score</th>\n",
              "      <th>cold_score</th>\n",
              "    </tr>\n",
              "  </thead>\n",
              "  <tbody>\n",
              "    <tr>\n",
              "      <th>0</th>\n",
              "      <td>108.833</td>\n",
              "      <td>3.000</td>\n",
              "      <td>0.000</td>\n",
              "      <td>2.900</td>\n",
              "      <td>28.333</td>\n",
              "      <td>11.800</td>\n",
              "      <td>20.667</td>\n",
              "      <td>18.333</td>\n",
              "      <td>2021</td>\n",
              "      <td>4</td>\n",
              "      <td>585.558111</td>\n",
              "      <td>0.245763</td>\n",
              "    </tr>\n",
              "    <tr>\n",
              "      <th>1</th>\n",
              "      <td>116.717</td>\n",
              "      <td>3.850</td>\n",
              "      <td>0.000</td>\n",
              "      <td>2.662</td>\n",
              "      <td>46.417</td>\n",
              "      <td>12.000</td>\n",
              "      <td>19.000</td>\n",
              "      <td>28.500</td>\n",
              "      <td>2021</td>\n",
              "      <td>4</td>\n",
              "      <td>881.923000</td>\n",
              "      <td>0.221833</td>\n",
              "    </tr>\n",
              "    <tr>\n",
              "      <th>2</th>\n",
              "      <td>82.669</td>\n",
              "      <td>4.000</td>\n",
              "      <td>0.565</td>\n",
              "      <td>2.165</td>\n",
              "      <td>77.258</td>\n",
              "      <td>8.875</td>\n",
              "      <td>16.368</td>\n",
              "      <td>52.847</td>\n",
              "      <td>2021</td>\n",
              "      <td>4</td>\n",
              "      <td>1264.558944</td>\n",
              "      <td>0.243944</td>\n",
              "    </tr>\n",
              "    <tr>\n",
              "      <th>3</th>\n",
              "      <td>44.123</td>\n",
              "      <td>3.466</td>\n",
              "      <td>0.466</td>\n",
              "      <td>3.747</td>\n",
              "      <td>63.288</td>\n",
              "      <td>6.250</td>\n",
              "      <td>17.368</td>\n",
              "      <td>37.671</td>\n",
              "      <td>2021</td>\n",
              "      <td>4</td>\n",
              "      <td>1099.185984</td>\n",
              "      <td>0.599520</td>\n",
              "    </tr>\n",
              "    <tr>\n",
              "      <th>4</th>\n",
              "      <td>147.791</td>\n",
              "      <td>1.500</td>\n",
              "      <td>0.000</td>\n",
              "      <td>1.560</td>\n",
              "      <td>48.176</td>\n",
              "      <td>7.188</td>\n",
              "      <td>18.684</td>\n",
              "      <td>4.459</td>\n",
              "      <td>2021</td>\n",
              "      <td>4</td>\n",
              "      <td>900.120384</td>\n",
              "      <td>0.217028</td>\n",
              "    </tr>\n",
              "  </tbody>\n",
              "</table>\n",
              "</div>\n",
              "      <button class=\"colab-df-convert\" onclick=\"convertToInteractive('df-7df9d8fb-20f2-4748-9afd-e0c0b954a091')\"\n",
              "              title=\"Convert this dataframe to an interactive table.\"\n",
              "              style=\"display:none;\">\n",
              "        \n",
              "  <svg xmlns=\"http://www.w3.org/2000/svg\" height=\"24px\"viewBox=\"0 0 24 24\"\n",
              "       width=\"24px\">\n",
              "    <path d=\"M0 0h24v24H0V0z\" fill=\"none\"/>\n",
              "    <path d=\"M18.56 5.44l.94 2.06.94-2.06 2.06-.94-2.06-.94-.94-2.06-.94 2.06-2.06.94zm-11 1L8.5 8.5l.94-2.06 2.06-.94-2.06-.94L8.5 2.5l-.94 2.06-2.06.94zm10 10l.94 2.06.94-2.06 2.06-.94-2.06-.94-.94-2.06-.94 2.06-2.06.94z\"/><path d=\"M17.41 7.96l-1.37-1.37c-.4-.4-.92-.59-1.43-.59-.52 0-1.04.2-1.43.59L10.3 9.45l-7.72 7.72c-.78.78-.78 2.05 0 2.83L4 21.41c.39.39.9.59 1.41.59.51 0 1.02-.2 1.41-.59l7.78-7.78 2.81-2.81c.8-.78.8-2.07 0-2.86zM5.41 20L4 18.59l7.72-7.72 1.47 1.35L5.41 20z\"/>\n",
              "  </svg>\n",
              "      </button>\n",
              "      \n",
              "  <style>\n",
              "    .colab-df-container {\n",
              "      display:flex;\n",
              "      flex-wrap:wrap;\n",
              "      gap: 12px;\n",
              "    }\n",
              "\n",
              "    .colab-df-convert {\n",
              "      background-color: #E8F0FE;\n",
              "      border: none;\n",
              "      border-radius: 50%;\n",
              "      cursor: pointer;\n",
              "      display: none;\n",
              "      fill: #1967D2;\n",
              "      height: 32px;\n",
              "      padding: 0 0 0 0;\n",
              "      width: 32px;\n",
              "    }\n",
              "\n",
              "    .colab-df-convert:hover {\n",
              "      background-color: #E2EBFA;\n",
              "      box-shadow: 0px 1px 2px rgba(60, 64, 67, 0.3), 0px 1px 3px 1px rgba(60, 64, 67, 0.15);\n",
              "      fill: #174EA6;\n",
              "    }\n",
              "\n",
              "    [theme=dark] .colab-df-convert {\n",
              "      background-color: #3B4455;\n",
              "      fill: #D2E3FC;\n",
              "    }\n",
              "\n",
              "    [theme=dark] .colab-df-convert:hover {\n",
              "      background-color: #434B5C;\n",
              "      box-shadow: 0px 1px 3px 1px rgba(0, 0, 0, 0.15);\n",
              "      filter: drop-shadow(0px 1px 2px rgba(0, 0, 0, 0.3));\n",
              "      fill: #FFFFFF;\n",
              "    }\n",
              "  </style>\n",
              "\n",
              "      <script>\n",
              "        const buttonEl =\n",
              "          document.querySelector('#df-7df9d8fb-20f2-4748-9afd-e0c0b954a091 button.colab-df-convert');\n",
              "        buttonEl.style.display =\n",
              "          google.colab.kernel.accessAllowed ? 'block' : 'none';\n",
              "\n",
              "        async function convertToInteractive(key) {\n",
              "          const element = document.querySelector('#df-7df9d8fb-20f2-4748-9afd-e0c0b954a091');\n",
              "          const dataTable =\n",
              "            await google.colab.kernel.invokeFunction('convertToInteractive',\n",
              "                                                     [key], {});\n",
              "          if (!dataTable) return;\n",
              "\n",
              "          const docLinkHtml = 'Like what you see? Visit the ' +\n",
              "            '<a target=\"_blank\" href=https://colab.research.google.com/notebooks/data_table.ipynb>data table notebook</a>'\n",
              "            + ' to learn more about interactive tables.';\n",
              "          element.innerHTML = '';\n",
              "          dataTable['output_type'] = 'display_data';\n",
              "          await google.colab.output.renderOutput(dataTable, element);\n",
              "          const docLink = document.createElement('div');\n",
              "          docLink.innerHTML = docLinkHtml;\n",
              "          element.appendChild(docLink);\n",
              "        }\n",
              "      </script>\n",
              "    </div>\n",
              "  </div>\n",
              "  "
            ]
          },
          "metadata": {},
          "execution_count": 105
        }
      ]
    },
    {
      "cell_type": "code",
      "source": [
        "X"
      ],
      "metadata": {
        "colab": {
          "base_uri": "https://localhost:8080/",
          "height": 423
        },
        "id": "q3_5v8grPjQp",
        "outputId": "d430111a-e15f-421c-9ab0-40a0eaec93dc"
      },
      "execution_count": 106,
      "outputs": [
        {
          "output_type": "execute_result",
          "data": {
            "text/plain": [
              "     wind_direction  sky_condition  precipitation_form  wind_speed  humidity  \\\n",
              "0           207.500          4.000               0.000       3.050    75.000   \n",
              "1           208.317          2.950               0.000       3.278    69.833   \n",
              "2           213.516          2.911               0.000       2.690    74.879   \n",
              "3           143.836          3.692               0.425       3.138    71.849   \n",
              "4            95.905          4.000               0.723       3.186    73.784   \n",
              "..              ...            ...                 ...         ...       ...   \n",
              "268         228.662          3.980               0.223       2.271    78.378   \n",
              "269         207.770          2.865               0.081       1.794    78.412   \n",
              "270         282.568          1.730               0.000       1.820    72.736   \n",
              "271         137.027          2.257               0.088       2.043    70.473   \n",
              "272         120.797          3.622               0.432       5.574    77.061   \n",
              "\n",
              "     low_temp  high_temp  Precipitation_Probability  year  month    hot_score  \\\n",
              "0      12.600     21.000                     30.000  2018      4  1575.000000   \n",
              "1      12.812     19.000                     19.500  2018      4  1326.827000   \n",
              "2      10.312     15.316                     19.113  2018      4  1146.846764   \n",
              "3       8.312     12.368                     43.493  2018      4   888.628432   \n",
              "4       5.875     10.421                     63.378  2018      4   768.903064   \n",
              "..        ...        ...                        ...   ...    ...          ...   \n",
              "268    20.500     27.526                     36.486  2020      6  2157.432828   \n",
              "269    20.812     28.842                     21.081  2020      6  2261.558904   \n",
              "270    21.000     29.053                      7.297  2020      6  2113.199008   \n",
              "271    19.625     26.000                     15.541  2020      6  1832.298000   \n",
              "272    19.125     26.053                     41.284  2020      6  2007.670233   \n",
              "\n",
              "     cold_score  \n",
              "0      0.242063  \n",
              "1      0.255854  \n",
              "2      0.260861  \n",
              "3      0.377526  \n",
              "4      0.542298  \n",
              "..          ...  \n",
              "268    0.110780  \n",
              "269    0.086200  \n",
              "270    0.086667  \n",
              "271    0.104102  \n",
              "272    0.291451  \n",
              "\n",
              "[273 rows x 12 columns]"
            ],
            "text/html": [
              "\n",
              "  <div id=\"df-144e42e8-3248-4116-b1ac-aadb42aabcd0\">\n",
              "    <div class=\"colab-df-container\">\n",
              "      <div>\n",
              "<style scoped>\n",
              "    .dataframe tbody tr th:only-of-type {\n",
              "        vertical-align: middle;\n",
              "    }\n",
              "\n",
              "    .dataframe tbody tr th {\n",
              "        vertical-align: top;\n",
              "    }\n",
              "\n",
              "    .dataframe thead th {\n",
              "        text-align: right;\n",
              "    }\n",
              "</style>\n",
              "<table border=\"1\" class=\"dataframe\">\n",
              "  <thead>\n",
              "    <tr style=\"text-align: right;\">\n",
              "      <th></th>\n",
              "      <th>wind_direction</th>\n",
              "      <th>sky_condition</th>\n",
              "      <th>precipitation_form</th>\n",
              "      <th>wind_speed</th>\n",
              "      <th>humidity</th>\n",
              "      <th>low_temp</th>\n",
              "      <th>high_temp</th>\n",
              "      <th>Precipitation_Probability</th>\n",
              "      <th>year</th>\n",
              "      <th>month</th>\n",
              "      <th>hot_score</th>\n",
              "      <th>cold_score</th>\n",
              "    </tr>\n",
              "  </thead>\n",
              "  <tbody>\n",
              "    <tr>\n",
              "      <th>0</th>\n",
              "      <td>207.500</td>\n",
              "      <td>4.000</td>\n",
              "      <td>0.000</td>\n",
              "      <td>3.050</td>\n",
              "      <td>75.000</td>\n",
              "      <td>12.600</td>\n",
              "      <td>21.000</td>\n",
              "      <td>30.000</td>\n",
              "      <td>2018</td>\n",
              "      <td>4</td>\n",
              "      <td>1575.000000</td>\n",
              "      <td>0.242063</td>\n",
              "    </tr>\n",
              "    <tr>\n",
              "      <th>1</th>\n",
              "      <td>208.317</td>\n",
              "      <td>2.950</td>\n",
              "      <td>0.000</td>\n",
              "      <td>3.278</td>\n",
              "      <td>69.833</td>\n",
              "      <td>12.812</td>\n",
              "      <td>19.000</td>\n",
              "      <td>19.500</td>\n",
              "      <td>2018</td>\n",
              "      <td>4</td>\n",
              "      <td>1326.827000</td>\n",
              "      <td>0.255854</td>\n",
              "    </tr>\n",
              "    <tr>\n",
              "      <th>2</th>\n",
              "      <td>213.516</td>\n",
              "      <td>2.911</td>\n",
              "      <td>0.000</td>\n",
              "      <td>2.690</td>\n",
              "      <td>74.879</td>\n",
              "      <td>10.312</td>\n",
              "      <td>15.316</td>\n",
              "      <td>19.113</td>\n",
              "      <td>2018</td>\n",
              "      <td>4</td>\n",
              "      <td>1146.846764</td>\n",
              "      <td>0.260861</td>\n",
              "    </tr>\n",
              "    <tr>\n",
              "      <th>3</th>\n",
              "      <td>143.836</td>\n",
              "      <td>3.692</td>\n",
              "      <td>0.425</td>\n",
              "      <td>3.138</td>\n",
              "      <td>71.849</td>\n",
              "      <td>8.312</td>\n",
              "      <td>12.368</td>\n",
              "      <td>43.493</td>\n",
              "      <td>2018</td>\n",
              "      <td>4</td>\n",
              "      <td>888.628432</td>\n",
              "      <td>0.377526</td>\n",
              "    </tr>\n",
              "    <tr>\n",
              "      <th>4</th>\n",
              "      <td>95.905</td>\n",
              "      <td>4.000</td>\n",
              "      <td>0.723</td>\n",
              "      <td>3.186</td>\n",
              "      <td>73.784</td>\n",
              "      <td>5.875</td>\n",
              "      <td>10.421</td>\n",
              "      <td>63.378</td>\n",
              "      <td>2018</td>\n",
              "      <td>4</td>\n",
              "      <td>768.903064</td>\n",
              "      <td>0.542298</td>\n",
              "    </tr>\n",
              "    <tr>\n",
              "      <th>...</th>\n",
              "      <td>...</td>\n",
              "      <td>...</td>\n",
              "      <td>...</td>\n",
              "      <td>...</td>\n",
              "      <td>...</td>\n",
              "      <td>...</td>\n",
              "      <td>...</td>\n",
              "      <td>...</td>\n",
              "      <td>...</td>\n",
              "      <td>...</td>\n",
              "      <td>...</td>\n",
              "      <td>...</td>\n",
              "    </tr>\n",
              "    <tr>\n",
              "      <th>268</th>\n",
              "      <td>228.662</td>\n",
              "      <td>3.980</td>\n",
              "      <td>0.223</td>\n",
              "      <td>2.271</td>\n",
              "      <td>78.378</td>\n",
              "      <td>20.500</td>\n",
              "      <td>27.526</td>\n",
              "      <td>36.486</td>\n",
              "      <td>2020</td>\n",
              "      <td>6</td>\n",
              "      <td>2157.432828</td>\n",
              "      <td>0.110780</td>\n",
              "    </tr>\n",
              "    <tr>\n",
              "      <th>269</th>\n",
              "      <td>207.770</td>\n",
              "      <td>2.865</td>\n",
              "      <td>0.081</td>\n",
              "      <td>1.794</td>\n",
              "      <td>78.412</td>\n",
              "      <td>20.812</td>\n",
              "      <td>28.842</td>\n",
              "      <td>21.081</td>\n",
              "      <td>2020</td>\n",
              "      <td>6</td>\n",
              "      <td>2261.558904</td>\n",
              "      <td>0.086200</td>\n",
              "    </tr>\n",
              "    <tr>\n",
              "      <th>270</th>\n",
              "      <td>282.568</td>\n",
              "      <td>1.730</td>\n",
              "      <td>0.000</td>\n",
              "      <td>1.820</td>\n",
              "      <td>72.736</td>\n",
              "      <td>21.000</td>\n",
              "      <td>29.053</td>\n",
              "      <td>7.297</td>\n",
              "      <td>2020</td>\n",
              "      <td>6</td>\n",
              "      <td>2113.199008</td>\n",
              "      <td>0.086667</td>\n",
              "    </tr>\n",
              "    <tr>\n",
              "      <th>271</th>\n",
              "      <td>137.027</td>\n",
              "      <td>2.257</td>\n",
              "      <td>0.088</td>\n",
              "      <td>2.043</td>\n",
              "      <td>70.473</td>\n",
              "      <td>19.625</td>\n",
              "      <td>26.000</td>\n",
              "      <td>15.541</td>\n",
              "      <td>2020</td>\n",
              "      <td>6</td>\n",
              "      <td>1832.298000</td>\n",
              "      <td>0.104102</td>\n",
              "    </tr>\n",
              "    <tr>\n",
              "      <th>272</th>\n",
              "      <td>120.797</td>\n",
              "      <td>3.622</td>\n",
              "      <td>0.432</td>\n",
              "      <td>5.574</td>\n",
              "      <td>77.061</td>\n",
              "      <td>19.125</td>\n",
              "      <td>26.053</td>\n",
              "      <td>41.284</td>\n",
              "      <td>2020</td>\n",
              "      <td>6</td>\n",
              "      <td>2007.670233</td>\n",
              "      <td>0.291451</td>\n",
              "    </tr>\n",
              "  </tbody>\n",
              "</table>\n",
              "<p>273 rows × 12 columns</p>\n",
              "</div>\n",
              "      <button class=\"colab-df-convert\" onclick=\"convertToInteractive('df-144e42e8-3248-4116-b1ac-aadb42aabcd0')\"\n",
              "              title=\"Convert this dataframe to an interactive table.\"\n",
              "              style=\"display:none;\">\n",
              "        \n",
              "  <svg xmlns=\"http://www.w3.org/2000/svg\" height=\"24px\"viewBox=\"0 0 24 24\"\n",
              "       width=\"24px\">\n",
              "    <path d=\"M0 0h24v24H0V0z\" fill=\"none\"/>\n",
              "    <path d=\"M18.56 5.44l.94 2.06.94-2.06 2.06-.94-2.06-.94-.94-2.06-.94 2.06-2.06.94zm-11 1L8.5 8.5l.94-2.06 2.06-.94-2.06-.94L8.5 2.5l-.94 2.06-2.06.94zm10 10l.94 2.06.94-2.06 2.06-.94-2.06-.94-.94-2.06-.94 2.06-2.06.94z\"/><path d=\"M17.41 7.96l-1.37-1.37c-.4-.4-.92-.59-1.43-.59-.52 0-1.04.2-1.43.59L10.3 9.45l-7.72 7.72c-.78.78-.78 2.05 0 2.83L4 21.41c.39.39.9.59 1.41.59.51 0 1.02-.2 1.41-.59l7.78-7.78 2.81-2.81c.8-.78.8-2.07 0-2.86zM5.41 20L4 18.59l7.72-7.72 1.47 1.35L5.41 20z\"/>\n",
              "  </svg>\n",
              "      </button>\n",
              "      \n",
              "  <style>\n",
              "    .colab-df-container {\n",
              "      display:flex;\n",
              "      flex-wrap:wrap;\n",
              "      gap: 12px;\n",
              "    }\n",
              "\n",
              "    .colab-df-convert {\n",
              "      background-color: #E8F0FE;\n",
              "      border: none;\n",
              "      border-radius: 50%;\n",
              "      cursor: pointer;\n",
              "      display: none;\n",
              "      fill: #1967D2;\n",
              "      height: 32px;\n",
              "      padding: 0 0 0 0;\n",
              "      width: 32px;\n",
              "    }\n",
              "\n",
              "    .colab-df-convert:hover {\n",
              "      background-color: #E2EBFA;\n",
              "      box-shadow: 0px 1px 2px rgba(60, 64, 67, 0.3), 0px 1px 3px 1px rgba(60, 64, 67, 0.15);\n",
              "      fill: #174EA6;\n",
              "    }\n",
              "\n",
              "    [theme=dark] .colab-df-convert {\n",
              "      background-color: #3B4455;\n",
              "      fill: #D2E3FC;\n",
              "    }\n",
              "\n",
              "    [theme=dark] .colab-df-convert:hover {\n",
              "      background-color: #434B5C;\n",
              "      box-shadow: 0px 1px 3px 1px rgba(0, 0, 0, 0.15);\n",
              "      filter: drop-shadow(0px 1px 2px rgba(0, 0, 0, 0.3));\n",
              "      fill: #FFFFFF;\n",
              "    }\n",
              "  </style>\n",
              "\n",
              "      <script>\n",
              "        const buttonEl =\n",
              "          document.querySelector('#df-144e42e8-3248-4116-b1ac-aadb42aabcd0 button.colab-df-convert');\n",
              "        buttonEl.style.display =\n",
              "          google.colab.kernel.accessAllowed ? 'block' : 'none';\n",
              "\n",
              "        async function convertToInteractive(key) {\n",
              "          const element = document.querySelector('#df-144e42e8-3248-4116-b1ac-aadb42aabcd0');\n",
              "          const dataTable =\n",
              "            await google.colab.kernel.invokeFunction('convertToInteractive',\n",
              "                                                     [key], {});\n",
              "          if (!dataTable) return;\n",
              "\n",
              "          const docLinkHtml = 'Like what you see? Visit the ' +\n",
              "            '<a target=\"_blank\" href=https://colab.research.google.com/notebooks/data_table.ipynb>data table notebook</a>'\n",
              "            + ' to learn more about interactive tables.';\n",
              "          element.innerHTML = '';\n",
              "          dataTable['output_type'] = 'display_data';\n",
              "          await google.colab.output.renderOutput(dataTable, element);\n",
              "          const docLink = document.createElement('div');\n",
              "          docLink.innerHTML = docLinkHtml;\n",
              "          element.appendChild(docLink);\n",
              "        }\n",
              "      </script>\n",
              "    </div>\n",
              "  </div>\n",
              "  "
            ]
          },
          "metadata": {},
          "execution_count": 106
        }
      ]
    },
    {
      "cell_type": "code",
      "source": [
        "test"
      ],
      "metadata": {
        "colab": {
          "base_uri": "https://localhost:8080/",
          "height": 423
        },
        "id": "s4lpDHxuPm_Y",
        "outputId": "cd9c4678-718e-4805-d12a-069a30d88009"
      },
      "execution_count": 107,
      "outputs": [
        {
          "output_type": "execute_result",
          "data": {
            "text/plain": [
              "    wind_direction  sky_condition  precipitation_form  wind_speed  humidity  \\\n",
              "0          108.833          3.000               0.000       2.900    28.333   \n",
              "1          116.717          3.850               0.000       2.662    46.417   \n",
              "2           82.669          4.000               0.565       2.165    77.258   \n",
              "3           44.123          3.466               0.466       3.747    63.288   \n",
              "4          147.791          1.500               0.000       1.560    48.176   \n",
              "..             ...            ...                 ...         ...       ...   \n",
              "86         177.149          3.980               0.223       1.066    74.628   \n",
              "87         138.723          2.777               0.135       1.290    70.236   \n",
              "88         111.095          3.338               1.270       1.692    70.338   \n",
              "89         171.622          3.270               0.595       1.470    70.473   \n",
              "90         181.709          3.270               0.703       1.180    75.203   \n",
              "\n",
              "    low_temp  high_temp  Precipitation_Probability  year  month    hot_score  \\\n",
              "0     11.800     20.667                     18.333  2021      4   585.558111   \n",
              "1     12.000     19.000                     28.500  2021      4   881.923000   \n",
              "2      8.875     16.368                     52.847  2021      4  1264.558944   \n",
              "3      6.250     17.368                     37.671  2021      4  1099.185984   \n",
              "4      7.188     18.684                      4.459  2021      4   900.120384   \n",
              "..       ...        ...                        ...   ...    ...          ...   \n",
              "86    20.312     28.579                     36.486  2021      6  2132.793612   \n",
              "87    20.812     29.000                     18.378  2021      6  2036.844000   \n",
              "88    21.000     28.789                     35.946  2021      6  2024.960682   \n",
              "89    21.000     29.421                     27.770  2021      6  2073.386133   \n",
              "90    21.500     30.211                     29.054  2021      6  2271.957833   \n",
              "\n",
              "    cold_score  \n",
              "0     0.245763  \n",
              "1     0.221833  \n",
              "2     0.243944  \n",
              "3     0.599520  \n",
              "4     0.217028  \n",
              "..         ...  \n",
              "86    0.052481  \n",
              "87    0.061983  \n",
              "88    0.080571  \n",
              "89    0.070000  \n",
              "90    0.054884  \n",
              "\n",
              "[91 rows x 12 columns]"
            ],
            "text/html": [
              "\n",
              "  <div id=\"df-ddd8b7a3-79f1-4e70-8c94-166b83de7334\">\n",
              "    <div class=\"colab-df-container\">\n",
              "      <div>\n",
              "<style scoped>\n",
              "    .dataframe tbody tr th:only-of-type {\n",
              "        vertical-align: middle;\n",
              "    }\n",
              "\n",
              "    .dataframe tbody tr th {\n",
              "        vertical-align: top;\n",
              "    }\n",
              "\n",
              "    .dataframe thead th {\n",
              "        text-align: right;\n",
              "    }\n",
              "</style>\n",
              "<table border=\"1\" class=\"dataframe\">\n",
              "  <thead>\n",
              "    <tr style=\"text-align: right;\">\n",
              "      <th></th>\n",
              "      <th>wind_direction</th>\n",
              "      <th>sky_condition</th>\n",
              "      <th>precipitation_form</th>\n",
              "      <th>wind_speed</th>\n",
              "      <th>humidity</th>\n",
              "      <th>low_temp</th>\n",
              "      <th>high_temp</th>\n",
              "      <th>Precipitation_Probability</th>\n",
              "      <th>year</th>\n",
              "      <th>month</th>\n",
              "      <th>hot_score</th>\n",
              "      <th>cold_score</th>\n",
              "    </tr>\n",
              "  </thead>\n",
              "  <tbody>\n",
              "    <tr>\n",
              "      <th>0</th>\n",
              "      <td>108.833</td>\n",
              "      <td>3.000</td>\n",
              "      <td>0.000</td>\n",
              "      <td>2.900</td>\n",
              "      <td>28.333</td>\n",
              "      <td>11.800</td>\n",
              "      <td>20.667</td>\n",
              "      <td>18.333</td>\n",
              "      <td>2021</td>\n",
              "      <td>4</td>\n",
              "      <td>585.558111</td>\n",
              "      <td>0.245763</td>\n",
              "    </tr>\n",
              "    <tr>\n",
              "      <th>1</th>\n",
              "      <td>116.717</td>\n",
              "      <td>3.850</td>\n",
              "      <td>0.000</td>\n",
              "      <td>2.662</td>\n",
              "      <td>46.417</td>\n",
              "      <td>12.000</td>\n",
              "      <td>19.000</td>\n",
              "      <td>28.500</td>\n",
              "      <td>2021</td>\n",
              "      <td>4</td>\n",
              "      <td>881.923000</td>\n",
              "      <td>0.221833</td>\n",
              "    </tr>\n",
              "    <tr>\n",
              "      <th>2</th>\n",
              "      <td>82.669</td>\n",
              "      <td>4.000</td>\n",
              "      <td>0.565</td>\n",
              "      <td>2.165</td>\n",
              "      <td>77.258</td>\n",
              "      <td>8.875</td>\n",
              "      <td>16.368</td>\n",
              "      <td>52.847</td>\n",
              "      <td>2021</td>\n",
              "      <td>4</td>\n",
              "      <td>1264.558944</td>\n",
              "      <td>0.243944</td>\n",
              "    </tr>\n",
              "    <tr>\n",
              "      <th>3</th>\n",
              "      <td>44.123</td>\n",
              "      <td>3.466</td>\n",
              "      <td>0.466</td>\n",
              "      <td>3.747</td>\n",
              "      <td>63.288</td>\n",
              "      <td>6.250</td>\n",
              "      <td>17.368</td>\n",
              "      <td>37.671</td>\n",
              "      <td>2021</td>\n",
              "      <td>4</td>\n",
              "      <td>1099.185984</td>\n",
              "      <td>0.599520</td>\n",
              "    </tr>\n",
              "    <tr>\n",
              "      <th>4</th>\n",
              "      <td>147.791</td>\n",
              "      <td>1.500</td>\n",
              "      <td>0.000</td>\n",
              "      <td>1.560</td>\n",
              "      <td>48.176</td>\n",
              "      <td>7.188</td>\n",
              "      <td>18.684</td>\n",
              "      <td>4.459</td>\n",
              "      <td>2021</td>\n",
              "      <td>4</td>\n",
              "      <td>900.120384</td>\n",
              "      <td>0.217028</td>\n",
              "    </tr>\n",
              "    <tr>\n",
              "      <th>...</th>\n",
              "      <td>...</td>\n",
              "      <td>...</td>\n",
              "      <td>...</td>\n",
              "      <td>...</td>\n",
              "      <td>...</td>\n",
              "      <td>...</td>\n",
              "      <td>...</td>\n",
              "      <td>...</td>\n",
              "      <td>...</td>\n",
              "      <td>...</td>\n",
              "      <td>...</td>\n",
              "      <td>...</td>\n",
              "    </tr>\n",
              "    <tr>\n",
              "      <th>86</th>\n",
              "      <td>177.149</td>\n",
              "      <td>3.980</td>\n",
              "      <td>0.223</td>\n",
              "      <td>1.066</td>\n",
              "      <td>74.628</td>\n",
              "      <td>20.312</td>\n",
              "      <td>28.579</td>\n",
              "      <td>36.486</td>\n",
              "      <td>2021</td>\n",
              "      <td>6</td>\n",
              "      <td>2132.793612</td>\n",
              "      <td>0.052481</td>\n",
              "    </tr>\n",
              "    <tr>\n",
              "      <th>87</th>\n",
              "      <td>138.723</td>\n",
              "      <td>2.777</td>\n",
              "      <td>0.135</td>\n",
              "      <td>1.290</td>\n",
              "      <td>70.236</td>\n",
              "      <td>20.812</td>\n",
              "      <td>29.000</td>\n",
              "      <td>18.378</td>\n",
              "      <td>2021</td>\n",
              "      <td>6</td>\n",
              "      <td>2036.844000</td>\n",
              "      <td>0.061983</td>\n",
              "    </tr>\n",
              "    <tr>\n",
              "      <th>88</th>\n",
              "      <td>111.095</td>\n",
              "      <td>3.338</td>\n",
              "      <td>1.270</td>\n",
              "      <td>1.692</td>\n",
              "      <td>70.338</td>\n",
              "      <td>21.000</td>\n",
              "      <td>28.789</td>\n",
              "      <td>35.946</td>\n",
              "      <td>2021</td>\n",
              "      <td>6</td>\n",
              "      <td>2024.960682</td>\n",
              "      <td>0.080571</td>\n",
              "    </tr>\n",
              "    <tr>\n",
              "      <th>89</th>\n",
              "      <td>171.622</td>\n",
              "      <td>3.270</td>\n",
              "      <td>0.595</td>\n",
              "      <td>1.470</td>\n",
              "      <td>70.473</td>\n",
              "      <td>21.000</td>\n",
              "      <td>29.421</td>\n",
              "      <td>27.770</td>\n",
              "      <td>2021</td>\n",
              "      <td>6</td>\n",
              "      <td>2073.386133</td>\n",
              "      <td>0.070000</td>\n",
              "    </tr>\n",
              "    <tr>\n",
              "      <th>90</th>\n",
              "      <td>181.709</td>\n",
              "      <td>3.270</td>\n",
              "      <td>0.703</td>\n",
              "      <td>1.180</td>\n",
              "      <td>75.203</td>\n",
              "      <td>21.500</td>\n",
              "      <td>30.211</td>\n",
              "      <td>29.054</td>\n",
              "      <td>2021</td>\n",
              "      <td>6</td>\n",
              "      <td>2271.957833</td>\n",
              "      <td>0.054884</td>\n",
              "    </tr>\n",
              "  </tbody>\n",
              "</table>\n",
              "<p>91 rows × 12 columns</p>\n",
              "</div>\n",
              "      <button class=\"colab-df-convert\" onclick=\"convertToInteractive('df-ddd8b7a3-79f1-4e70-8c94-166b83de7334')\"\n",
              "              title=\"Convert this dataframe to an interactive table.\"\n",
              "              style=\"display:none;\">\n",
              "        \n",
              "  <svg xmlns=\"http://www.w3.org/2000/svg\" height=\"24px\"viewBox=\"0 0 24 24\"\n",
              "       width=\"24px\">\n",
              "    <path d=\"M0 0h24v24H0V0z\" fill=\"none\"/>\n",
              "    <path d=\"M18.56 5.44l.94 2.06.94-2.06 2.06-.94-2.06-.94-.94-2.06-.94 2.06-2.06.94zm-11 1L8.5 8.5l.94-2.06 2.06-.94-2.06-.94L8.5 2.5l-.94 2.06-2.06.94zm10 10l.94 2.06.94-2.06 2.06-.94-2.06-.94-.94-2.06-.94 2.06-2.06.94z\"/><path d=\"M17.41 7.96l-1.37-1.37c-.4-.4-.92-.59-1.43-.59-.52 0-1.04.2-1.43.59L10.3 9.45l-7.72 7.72c-.78.78-.78 2.05 0 2.83L4 21.41c.39.39.9.59 1.41.59.51 0 1.02-.2 1.41-.59l7.78-7.78 2.81-2.81c.8-.78.8-2.07 0-2.86zM5.41 20L4 18.59l7.72-7.72 1.47 1.35L5.41 20z\"/>\n",
              "  </svg>\n",
              "      </button>\n",
              "      \n",
              "  <style>\n",
              "    .colab-df-container {\n",
              "      display:flex;\n",
              "      flex-wrap:wrap;\n",
              "      gap: 12px;\n",
              "    }\n",
              "\n",
              "    .colab-df-convert {\n",
              "      background-color: #E8F0FE;\n",
              "      border: none;\n",
              "      border-radius: 50%;\n",
              "      cursor: pointer;\n",
              "      display: none;\n",
              "      fill: #1967D2;\n",
              "      height: 32px;\n",
              "      padding: 0 0 0 0;\n",
              "      width: 32px;\n",
              "    }\n",
              "\n",
              "    .colab-df-convert:hover {\n",
              "      background-color: #E2EBFA;\n",
              "      box-shadow: 0px 1px 2px rgba(60, 64, 67, 0.3), 0px 1px 3px 1px rgba(60, 64, 67, 0.15);\n",
              "      fill: #174EA6;\n",
              "    }\n",
              "\n",
              "    [theme=dark] .colab-df-convert {\n",
              "      background-color: #3B4455;\n",
              "      fill: #D2E3FC;\n",
              "    }\n",
              "\n",
              "    [theme=dark] .colab-df-convert:hover {\n",
              "      background-color: #434B5C;\n",
              "      box-shadow: 0px 1px 3px 1px rgba(0, 0, 0, 0.15);\n",
              "      filter: drop-shadow(0px 1px 2px rgba(0, 0, 0, 0.3));\n",
              "      fill: #FFFFFF;\n",
              "    }\n",
              "  </style>\n",
              "\n",
              "      <script>\n",
              "        const buttonEl =\n",
              "          document.querySelector('#df-ddd8b7a3-79f1-4e70-8c94-166b83de7334 button.colab-df-convert');\n",
              "        buttonEl.style.display =\n",
              "          google.colab.kernel.accessAllowed ? 'block' : 'none';\n",
              "\n",
              "        async function convertToInteractive(key) {\n",
              "          const element = document.querySelector('#df-ddd8b7a3-79f1-4e70-8c94-166b83de7334');\n",
              "          const dataTable =\n",
              "            await google.colab.kernel.invokeFunction('convertToInteractive',\n",
              "                                                     [key], {});\n",
              "          if (!dataTable) return;\n",
              "\n",
              "          const docLinkHtml = 'Like what you see? Visit the ' +\n",
              "            '<a target=\"_blank\" href=https://colab.research.google.com/notebooks/data_table.ipynb>data table notebook</a>'\n",
              "            + ' to learn more about interactive tables.';\n",
              "          element.innerHTML = '';\n",
              "          dataTable['output_type'] = 'display_data';\n",
              "          await google.colab.output.renderOutput(dataTable, element);\n",
              "          const docLink = document.createElement('div');\n",
              "          docLink.innerHTML = docLinkHtml;\n",
              "          element.appendChild(docLink);\n",
              "        }\n",
              "      </script>\n",
              "    </div>\n",
              "  </div>\n",
              "  "
            ]
          },
          "metadata": {},
          "execution_count": 107
        }
      ]
    },
    {
      "cell_type": "markdown",
      "source": [
        "### 5.3.2. test셋 예측"
      ],
      "metadata": {
        "id": "EgHs5ew7Pr-W"
      }
    },
    {
      "cell_type": "code",
      "source": [
        "predict = model.predict(test)"
      ],
      "metadata": {
        "id": "IySijn6IPoQv"
      },
      "execution_count": 114,
      "outputs": []
    },
    {
      "cell_type": "code",
      "source": [
        "predict"
      ],
      "metadata": {
        "colab": {
          "base_uri": "https://localhost:8080/"
        },
        "id": "PB7WbFP2Pwg-",
        "outputId": "f0cac1a0-b8ac-4f6f-c05d-ee999bd3d349"
      },
      "execution_count": 115,
      "outputs": [
        {
          "output_type": "execute_result",
          "data": {
            "text/plain": [
              "array([ 96175.64422127,  93845.2098333 ,  77136.79275706,  76208.34011316,\n",
              "       104855.47606267, 106151.69058622, 108028.43207671, 104456.69087511,\n",
              "       107049.61077241, 105968.83659898, 103553.04714487,  79431.8352027 ,\n",
              "        85630.55931145, 102031.38304323, 104799.14644321,  83444.92445652,\n",
              "        88860.34030706, 103701.39082906, 110096.04867059, 114773.7680036 ,\n",
              "       115376.65527379, 107053.24553972,  99015.85620129, 106986.65589715,\n",
              "       105795.71112359, 104720.48530408, 102351.88821785,  96771.34554236,\n",
              "       100850.12918711,  88416.91561056,  78834.49708716, 109977.13681276,\n",
              "       112504.84864921,  89176.17025888, 100837.20247494, 109083.76655378,\n",
              "        93503.81284279, 103481.52202641, 109211.69545331, 105960.66052474,\n",
              "       116639.39492839, 115846.06947344, 122330.21946926, 119195.13290808,\n",
              "        99595.97522175,  81599.03243487,  97948.02504173, 118050.20750616,\n",
              "       120096.93855339,  97598.98280108,  94825.61985469, 116749.34810233,\n",
              "       115334.62314846, 113371.90227321, 100559.56877531, 108029.56615018,\n",
              "       100249.66067819,  94639.13848754, 111815.25823662, 111824.40902916,\n",
              "        99469.90342809, 121443.50873075, 121037.47718177,  99788.51299746,\n",
              "       118085.52985217, 116575.40874914, 120770.12690849, 120769.14763585,\n",
              "       120437.08719463, 125490.38895093, 117335.81213796,  92162.36222453,\n",
              "       127267.81403804, 128191.46953645, 125862.6798288 , 111233.70925906,\n",
              "       112634.71597277, 117169.85179579, 103984.22794942, 124053.68943377,\n",
              "       120667.17799323, 124930.43024421, 103234.08558206,  86482.28691185,\n",
              "       111516.62785649, 121460.53870281, 113243.00833053, 118748.50985421,\n",
              "        91910.98951595, 109340.97605734, 108098.18301832])"
            ]
          },
          "metadata": {},
          "execution_count": 115
        }
      ]
    },
    {
      "cell_type": "code",
      "source": [
        "submission['number_of_rentals'] = predict\n",
        "submission.head()"
      ],
      "metadata": {
        "colab": {
          "base_uri": "https://localhost:8080/",
          "height": 206
        },
        "id": "REmQaaHiPxhJ",
        "outputId": "575b81ad-7388-4475-e49a-a2310f63c932"
      },
      "execution_count": 116,
      "outputs": [
        {
          "output_type": "execute_result",
          "data": {
            "text/plain": [
              "    date_time  number_of_rentals\n",
              "0  2021-04-01       96175.644221\n",
              "1  2021-04-02       93845.209833\n",
              "2  2021-04-03       77136.792757\n",
              "3  2021-04-04       76208.340113\n",
              "4  2021-04-05      104855.476063"
            ],
            "text/html": [
              "\n",
              "  <div id=\"df-22db85bb-e1a5-42d8-9dc6-77b6fc36fbd6\">\n",
              "    <div class=\"colab-df-container\">\n",
              "      <div>\n",
              "<style scoped>\n",
              "    .dataframe tbody tr th:only-of-type {\n",
              "        vertical-align: middle;\n",
              "    }\n",
              "\n",
              "    .dataframe tbody tr th {\n",
              "        vertical-align: top;\n",
              "    }\n",
              "\n",
              "    .dataframe thead th {\n",
              "        text-align: right;\n",
              "    }\n",
              "</style>\n",
              "<table border=\"1\" class=\"dataframe\">\n",
              "  <thead>\n",
              "    <tr style=\"text-align: right;\">\n",
              "      <th></th>\n",
              "      <th>date_time</th>\n",
              "      <th>number_of_rentals</th>\n",
              "    </tr>\n",
              "  </thead>\n",
              "  <tbody>\n",
              "    <tr>\n",
              "      <th>0</th>\n",
              "      <td>2021-04-01</td>\n",
              "      <td>96175.644221</td>\n",
              "    </tr>\n",
              "    <tr>\n",
              "      <th>1</th>\n",
              "      <td>2021-04-02</td>\n",
              "      <td>93845.209833</td>\n",
              "    </tr>\n",
              "    <tr>\n",
              "      <th>2</th>\n",
              "      <td>2021-04-03</td>\n",
              "      <td>77136.792757</td>\n",
              "    </tr>\n",
              "    <tr>\n",
              "      <th>3</th>\n",
              "      <td>2021-04-04</td>\n",
              "      <td>76208.340113</td>\n",
              "    </tr>\n",
              "    <tr>\n",
              "      <th>4</th>\n",
              "      <td>2021-04-05</td>\n",
              "      <td>104855.476063</td>\n",
              "    </tr>\n",
              "  </tbody>\n",
              "</table>\n",
              "</div>\n",
              "      <button class=\"colab-df-convert\" onclick=\"convertToInteractive('df-22db85bb-e1a5-42d8-9dc6-77b6fc36fbd6')\"\n",
              "              title=\"Convert this dataframe to an interactive table.\"\n",
              "              style=\"display:none;\">\n",
              "        \n",
              "  <svg xmlns=\"http://www.w3.org/2000/svg\" height=\"24px\"viewBox=\"0 0 24 24\"\n",
              "       width=\"24px\">\n",
              "    <path d=\"M0 0h24v24H0V0z\" fill=\"none\"/>\n",
              "    <path d=\"M18.56 5.44l.94 2.06.94-2.06 2.06-.94-2.06-.94-.94-2.06-.94 2.06-2.06.94zm-11 1L8.5 8.5l.94-2.06 2.06-.94-2.06-.94L8.5 2.5l-.94 2.06-2.06.94zm10 10l.94 2.06.94-2.06 2.06-.94-2.06-.94-.94-2.06-.94 2.06-2.06.94z\"/><path d=\"M17.41 7.96l-1.37-1.37c-.4-.4-.92-.59-1.43-.59-.52 0-1.04.2-1.43.59L10.3 9.45l-7.72 7.72c-.78.78-.78 2.05 0 2.83L4 21.41c.39.39.9.59 1.41.59.51 0 1.02-.2 1.41-.59l7.78-7.78 2.81-2.81c.8-.78.8-2.07 0-2.86zM5.41 20L4 18.59l7.72-7.72 1.47 1.35L5.41 20z\"/>\n",
              "  </svg>\n",
              "      </button>\n",
              "      \n",
              "  <style>\n",
              "    .colab-df-container {\n",
              "      display:flex;\n",
              "      flex-wrap:wrap;\n",
              "      gap: 12px;\n",
              "    }\n",
              "\n",
              "    .colab-df-convert {\n",
              "      background-color: #E8F0FE;\n",
              "      border: none;\n",
              "      border-radius: 50%;\n",
              "      cursor: pointer;\n",
              "      display: none;\n",
              "      fill: #1967D2;\n",
              "      height: 32px;\n",
              "      padding: 0 0 0 0;\n",
              "      width: 32px;\n",
              "    }\n",
              "\n",
              "    .colab-df-convert:hover {\n",
              "      background-color: #E2EBFA;\n",
              "      box-shadow: 0px 1px 2px rgba(60, 64, 67, 0.3), 0px 1px 3px 1px rgba(60, 64, 67, 0.15);\n",
              "      fill: #174EA6;\n",
              "    }\n",
              "\n",
              "    [theme=dark] .colab-df-convert {\n",
              "      background-color: #3B4455;\n",
              "      fill: #D2E3FC;\n",
              "    }\n",
              "\n",
              "    [theme=dark] .colab-df-convert:hover {\n",
              "      background-color: #434B5C;\n",
              "      box-shadow: 0px 1px 3px 1px rgba(0, 0, 0, 0.15);\n",
              "      filter: drop-shadow(0px 1px 2px rgba(0, 0, 0, 0.3));\n",
              "      fill: #FFFFFF;\n",
              "    }\n",
              "  </style>\n",
              "\n",
              "      <script>\n",
              "        const buttonEl =\n",
              "          document.querySelector('#df-22db85bb-e1a5-42d8-9dc6-77b6fc36fbd6 button.colab-df-convert');\n",
              "        buttonEl.style.display =\n",
              "          google.colab.kernel.accessAllowed ? 'block' : 'none';\n",
              "\n",
              "        async function convertToInteractive(key) {\n",
              "          const element = document.querySelector('#df-22db85bb-e1a5-42d8-9dc6-77b6fc36fbd6');\n",
              "          const dataTable =\n",
              "            await google.colab.kernel.invokeFunction('convertToInteractive',\n",
              "                                                     [key], {});\n",
              "          if (!dataTable) return;\n",
              "\n",
              "          const docLinkHtml = 'Like what you see? Visit the ' +\n",
              "            '<a target=\"_blank\" href=https://colab.research.google.com/notebooks/data_table.ipynb>data table notebook</a>'\n",
              "            + ' to learn more about interactive tables.';\n",
              "          element.innerHTML = '';\n",
              "          dataTable['output_type'] = 'display_data';\n",
              "          await google.colab.output.renderOutput(dataTable, element);\n",
              "          const docLink = document.createElement('div');\n",
              "          docLink.innerHTML = docLinkHtml;\n",
              "          element.appendChild(docLink);\n",
              "        }\n",
              "      </script>\n",
              "    </div>\n",
              "  </div>\n",
              "  "
            ]
          },
          "metadata": {},
          "execution_count": 116
        }
      ]
    },
    {
      "cell_type": "code",
      "source": [
        "submission.to_csv('submission_3.csv', index = False)"
      ],
      "metadata": {
        "id": "KrzSErFiP2WK"
      },
      "execution_count": 117,
      "outputs": []
    },
    {
      "cell_type": "markdown",
      "source": [
        "## Feature Engineering : Year Inflaction : 2020 -> 2021"
      ],
      "metadata": {
        "id": "DT9F1GOfRyle"
      }
    },
    {
      "cell_type": "code",
      "source": [
        "x1 = sum(train[train['year']==2018]['number_of_rentals'])\n",
        "\n",
        "x2 = sum(train[train['year']==2019]['number_of_rentals'])\n",
        "\n",
        "x3 = sum(train[train['year']==2020]['number_of_rentals'])\n",
        "\n",
        "x4 = sum(submission['number_of_rentals']) ## 2021"
      ],
      "metadata": {
        "id": "jA4jDUh3P8Y5"
      },
      "execution_count": 118,
      "outputs": []
    },
    {
      "cell_type": "code",
      "source": [
        "x1"
      ],
      "metadata": {
        "colab": {
          "base_uri": "https://localhost:8080/"
        },
        "id": "ab9y-4_rTZaz",
        "outputId": "06cf411d-47a7-42e5-f6d1-e8fa85352e0b"
      },
      "execution_count": 131,
      "outputs": [
        {
          "output_type": "execute_result",
          "data": {
            "text/plain": [
              "2860617"
            ]
          },
          "metadata": {},
          "execution_count": 131
        }
      ]
    },
    {
      "cell_type": "code",
      "source": [
        "x4"
      ],
      "metadata": {
        "colab": {
          "base_uri": "https://localhost:8080/"
        },
        "id": "_JkgJNsySJlF",
        "outputId": "1c1d8824-70be-48b5-e8bf-8d9da7ac7ce9"
      },
      "execution_count": 119,
      "outputs": [
        {
          "output_type": "execute_result",
          "data": {
            "text/plain": [
              "9685804.67883733"
            ]
          },
          "metadata": {},
          "execution_count": 119
        }
      ]
    },
    {
      "cell_type": "code",
      "source": [
        "print(x4/x1)\n",
        "print(x4/x2)\n",
        "print(x4/x3)"
      ],
      "metadata": {
        "colab": {
          "base_uri": "https://localhost:8080/"
        },
        "id": "1Aix6kKuSKe4",
        "outputId": "d04d77f8-6143-4761-fe4c-22762c3e1362"
      },
      "execution_count": 120,
      "outputs": [
        {
          "output_type": "stream",
          "name": "stdout",
          "text": [
            "3.3859145348144577\n",
            "1.6157080615278123\n",
            "1.3073770268514862\n"
          ]
        }
      ]
    },
    {
      "cell_type": "code",
      "source": [
        "# lr\n",
        "def rental_rate_change(df):\n",
        "    y1 = df[df['year'] == 2018]['number_of_rentals'] * 3.3859145348144577\n",
        "    y2 = df[df['year'] == 2019]['number_of_rentals'] * 1.6157080615278123\n",
        "    y3 = df[df['year'] == 2020]['number_of_rentals'] * 1.3073770268514862\n",
        "    new = pd.concat([y1, y2, y3], axis=0).to_frame()\n",
        "    df['inflaction_rentals'] = new['number_of_rentals']\n",
        "    return True"
      ],
      "metadata": {
        "id": "S66Z-szrSRxF"
      },
      "execution_count": 121,
      "outputs": []
    },
    {
      "cell_type": "code",
      "source": [
        "rental_rate_change(train)"
      ],
      "metadata": {
        "colab": {
          "base_uri": "https://localhost:8080/"
        },
        "id": "RS3NohBhShpF",
        "outputId": "af21231c-d426-4b26-8ed7-42cdac1be252"
      },
      "execution_count": 122,
      "outputs": [
        {
          "output_type": "execute_result",
          "data": {
            "text/plain": [
              "True"
            ]
          },
          "metadata": {},
          "execution_count": 122
        }
      ]
    },
    {
      "cell_type": "code",
      "source": [
        "train.head()"
      ],
      "metadata": {
        "colab": {
          "base_uri": "https://localhost:8080/",
          "height": 206
        },
        "id": "EQqcTy1PSkLM",
        "outputId": "693ff749-9759-4b7b-92b5-7f9a92e7f6d7"
      },
      "execution_count": 123,
      "outputs": [
        {
          "output_type": "execute_result",
          "data": {
            "text/plain": [
              "   wind_direction  sky_condition  precipitation_form  wind_speed  humidity  \\\n",
              "0         207.500          4.000               0.000       3.050    75.000   \n",
              "1         208.317          2.950               0.000       3.278    69.833   \n",
              "2         213.516          2.911               0.000       2.690    74.879   \n",
              "3         143.836          3.692               0.425       3.138    71.849   \n",
              "4          95.905          4.000               0.723       3.186    73.784   \n",
              "\n",
              "   low_temp  high_temp  Precipitation_Probability  number_of_rentals  year  \\\n",
              "0    12.600     21.000                     30.000              22994  2018   \n",
              "1    12.812     19.000                     19.500              28139  2018   \n",
              "2    10.312     15.316                     19.113              26817  2018   \n",
              "3     8.312     12.368                     43.493              26034  2018   \n",
              "4     5.875     10.421                     63.378               2833  2018   \n",
              "\n",
              "   month    hot_score  cold_score  inflaction_rentals  \n",
              "0      4  1575.000000    0.242063        77855.718814  \n",
              "1      4  1326.827000    0.255854        95276.249095  \n",
              "2      4  1146.846764    0.260861        90800.070080  \n",
              "3      4   888.628432    0.377526        88148.898999  \n",
              "4      4   768.903064    0.542298         9592.295877  "
            ],
            "text/html": [
              "\n",
              "  <div id=\"df-36edf37d-4c84-4b58-bb46-b21e51047624\">\n",
              "    <div class=\"colab-df-container\">\n",
              "      <div>\n",
              "<style scoped>\n",
              "    .dataframe tbody tr th:only-of-type {\n",
              "        vertical-align: middle;\n",
              "    }\n",
              "\n",
              "    .dataframe tbody tr th {\n",
              "        vertical-align: top;\n",
              "    }\n",
              "\n",
              "    .dataframe thead th {\n",
              "        text-align: right;\n",
              "    }\n",
              "</style>\n",
              "<table border=\"1\" class=\"dataframe\">\n",
              "  <thead>\n",
              "    <tr style=\"text-align: right;\">\n",
              "      <th></th>\n",
              "      <th>wind_direction</th>\n",
              "      <th>sky_condition</th>\n",
              "      <th>precipitation_form</th>\n",
              "      <th>wind_speed</th>\n",
              "      <th>humidity</th>\n",
              "      <th>low_temp</th>\n",
              "      <th>high_temp</th>\n",
              "      <th>Precipitation_Probability</th>\n",
              "      <th>number_of_rentals</th>\n",
              "      <th>year</th>\n",
              "      <th>month</th>\n",
              "      <th>hot_score</th>\n",
              "      <th>cold_score</th>\n",
              "      <th>inflaction_rentals</th>\n",
              "    </tr>\n",
              "  </thead>\n",
              "  <tbody>\n",
              "    <tr>\n",
              "      <th>0</th>\n",
              "      <td>207.500</td>\n",
              "      <td>4.000</td>\n",
              "      <td>0.000</td>\n",
              "      <td>3.050</td>\n",
              "      <td>75.000</td>\n",
              "      <td>12.600</td>\n",
              "      <td>21.000</td>\n",
              "      <td>30.000</td>\n",
              "      <td>22994</td>\n",
              "      <td>2018</td>\n",
              "      <td>4</td>\n",
              "      <td>1575.000000</td>\n",
              "      <td>0.242063</td>\n",
              "      <td>77855.718814</td>\n",
              "    </tr>\n",
              "    <tr>\n",
              "      <th>1</th>\n",
              "      <td>208.317</td>\n",
              "      <td>2.950</td>\n",
              "      <td>0.000</td>\n",
              "      <td>3.278</td>\n",
              "      <td>69.833</td>\n",
              "      <td>12.812</td>\n",
              "      <td>19.000</td>\n",
              "      <td>19.500</td>\n",
              "      <td>28139</td>\n",
              "      <td>2018</td>\n",
              "      <td>4</td>\n",
              "      <td>1326.827000</td>\n",
              "      <td>0.255854</td>\n",
              "      <td>95276.249095</td>\n",
              "    </tr>\n",
              "    <tr>\n",
              "      <th>2</th>\n",
              "      <td>213.516</td>\n",
              "      <td>2.911</td>\n",
              "      <td>0.000</td>\n",
              "      <td>2.690</td>\n",
              "      <td>74.879</td>\n",
              "      <td>10.312</td>\n",
              "      <td>15.316</td>\n",
              "      <td>19.113</td>\n",
              "      <td>26817</td>\n",
              "      <td>2018</td>\n",
              "      <td>4</td>\n",
              "      <td>1146.846764</td>\n",
              "      <td>0.260861</td>\n",
              "      <td>90800.070080</td>\n",
              "    </tr>\n",
              "    <tr>\n",
              "      <th>3</th>\n",
              "      <td>143.836</td>\n",
              "      <td>3.692</td>\n",
              "      <td>0.425</td>\n",
              "      <td>3.138</td>\n",
              "      <td>71.849</td>\n",
              "      <td>8.312</td>\n",
              "      <td>12.368</td>\n",
              "      <td>43.493</td>\n",
              "      <td>26034</td>\n",
              "      <td>2018</td>\n",
              "      <td>4</td>\n",
              "      <td>888.628432</td>\n",
              "      <td>0.377526</td>\n",
              "      <td>88148.898999</td>\n",
              "    </tr>\n",
              "    <tr>\n",
              "      <th>4</th>\n",
              "      <td>95.905</td>\n",
              "      <td>4.000</td>\n",
              "      <td>0.723</td>\n",
              "      <td>3.186</td>\n",
              "      <td>73.784</td>\n",
              "      <td>5.875</td>\n",
              "      <td>10.421</td>\n",
              "      <td>63.378</td>\n",
              "      <td>2833</td>\n",
              "      <td>2018</td>\n",
              "      <td>4</td>\n",
              "      <td>768.903064</td>\n",
              "      <td>0.542298</td>\n",
              "      <td>9592.295877</td>\n",
              "    </tr>\n",
              "  </tbody>\n",
              "</table>\n",
              "</div>\n",
              "      <button class=\"colab-df-convert\" onclick=\"convertToInteractive('df-36edf37d-4c84-4b58-bb46-b21e51047624')\"\n",
              "              title=\"Convert this dataframe to an interactive table.\"\n",
              "              style=\"display:none;\">\n",
              "        \n",
              "  <svg xmlns=\"http://www.w3.org/2000/svg\" height=\"24px\"viewBox=\"0 0 24 24\"\n",
              "       width=\"24px\">\n",
              "    <path d=\"M0 0h24v24H0V0z\" fill=\"none\"/>\n",
              "    <path d=\"M18.56 5.44l.94 2.06.94-2.06 2.06-.94-2.06-.94-.94-2.06-.94 2.06-2.06.94zm-11 1L8.5 8.5l.94-2.06 2.06-.94-2.06-.94L8.5 2.5l-.94 2.06-2.06.94zm10 10l.94 2.06.94-2.06 2.06-.94-2.06-.94-.94-2.06-.94 2.06-2.06.94z\"/><path d=\"M17.41 7.96l-1.37-1.37c-.4-.4-.92-.59-1.43-.59-.52 0-1.04.2-1.43.59L10.3 9.45l-7.72 7.72c-.78.78-.78 2.05 0 2.83L4 21.41c.39.39.9.59 1.41.59.51 0 1.02-.2 1.41-.59l7.78-7.78 2.81-2.81c.8-.78.8-2.07 0-2.86zM5.41 20L4 18.59l7.72-7.72 1.47 1.35L5.41 20z\"/>\n",
              "  </svg>\n",
              "      </button>\n",
              "      \n",
              "  <style>\n",
              "    .colab-df-container {\n",
              "      display:flex;\n",
              "      flex-wrap:wrap;\n",
              "      gap: 12px;\n",
              "    }\n",
              "\n",
              "    .colab-df-convert {\n",
              "      background-color: #E8F0FE;\n",
              "      border: none;\n",
              "      border-radius: 50%;\n",
              "      cursor: pointer;\n",
              "      display: none;\n",
              "      fill: #1967D2;\n",
              "      height: 32px;\n",
              "      padding: 0 0 0 0;\n",
              "      width: 32px;\n",
              "    }\n",
              "\n",
              "    .colab-df-convert:hover {\n",
              "      background-color: #E2EBFA;\n",
              "      box-shadow: 0px 1px 2px rgba(60, 64, 67, 0.3), 0px 1px 3px 1px rgba(60, 64, 67, 0.15);\n",
              "      fill: #174EA6;\n",
              "    }\n",
              "\n",
              "    [theme=dark] .colab-df-convert {\n",
              "      background-color: #3B4455;\n",
              "      fill: #D2E3FC;\n",
              "    }\n",
              "\n",
              "    [theme=dark] .colab-df-convert:hover {\n",
              "      background-color: #434B5C;\n",
              "      box-shadow: 0px 1px 3px 1px rgba(0, 0, 0, 0.15);\n",
              "      filter: drop-shadow(0px 1px 2px rgba(0, 0, 0, 0.3));\n",
              "      fill: #FFFFFF;\n",
              "    }\n",
              "  </style>\n",
              "\n",
              "      <script>\n",
              "        const buttonEl =\n",
              "          document.querySelector('#df-36edf37d-4c84-4b58-bb46-b21e51047624 button.colab-df-convert');\n",
              "        buttonEl.style.display =\n",
              "          google.colab.kernel.accessAllowed ? 'block' : 'none';\n",
              "\n",
              "        async function convertToInteractive(key) {\n",
              "          const element = document.querySelector('#df-36edf37d-4c84-4b58-bb46-b21e51047624');\n",
              "          const dataTable =\n",
              "            await google.colab.kernel.invokeFunction('convertToInteractive',\n",
              "                                                     [key], {});\n",
              "          if (!dataTable) return;\n",
              "\n",
              "          const docLinkHtml = 'Like what you see? Visit the ' +\n",
              "            '<a target=\"_blank\" href=https://colab.research.google.com/notebooks/data_table.ipynb>data table notebook</a>'\n",
              "            + ' to learn more about interactive tables.';\n",
              "          element.innerHTML = '';\n",
              "          dataTable['output_type'] = 'display_data';\n",
              "          await google.colab.output.renderOutput(dataTable, element);\n",
              "          const docLink = document.createElement('div');\n",
              "          docLink.innerHTML = docLinkHtml;\n",
              "          element.appendChild(docLink);\n",
              "        }\n",
              "      </script>\n",
              "    </div>\n",
              "  </div>\n",
              "  "
            ]
          },
          "metadata": {},
          "execution_count": 123
        }
      ]
    },
    {
      "cell_type": "code",
      "source": [
        "X = train.drop(['number_of_rentals', 'inflaction_rentals'], axis=1 )\n",
        "y = train['inflaction_rentals']"
      ],
      "metadata": {
        "id": "DuCeZ2TOSlcb"
      },
      "execution_count": 124,
      "outputs": []
    },
    {
      "cell_type": "code",
      "source": [
        "model = RandomForestRegressor()"
      ],
      "metadata": {
        "id": "DO3S786RSzne"
      },
      "execution_count": 125,
      "outputs": []
    },
    {
      "cell_type": "code",
      "source": [
        "model.fit(X,y)"
      ],
      "metadata": {
        "colab": {
          "base_uri": "https://localhost:8080/"
        },
        "id": "SJK9V_r0S4w4",
        "outputId": "3f62d99b-7f8e-4b4c-e51d-33bb0c04eaf1"
      },
      "execution_count": 127,
      "outputs": [
        {
          "output_type": "execute_result",
          "data": {
            "text/plain": [
              "RandomForestRegressor()"
            ]
          },
          "metadata": {},
          "execution_count": 127
        }
      ]
    },
    {
      "cell_type": "code",
      "source": [
        "predict = model.predict(test)"
      ],
      "metadata": {
        "id": "0xdNVGtAS6ZH"
      },
      "execution_count": 128,
      "outputs": []
    },
    {
      "cell_type": "code",
      "source": [
        "submission['number_of_rentals'] = predict\n",
        "submission.head()"
      ],
      "metadata": {
        "colab": {
          "base_uri": "https://localhost:8080/",
          "height": 206
        },
        "id": "fLf8BeKFS_E2",
        "outputId": "9e6adee5-85c3-4568-a922-c8352535a198"
      },
      "execution_count": 129,
      "outputs": [
        {
          "output_type": "execute_result",
          "data": {
            "text/plain": [
              "    date_time  number_of_rentals\n",
              "0  2021-04-01      100112.727581\n",
              "1  2021-04-02       95841.116392\n",
              "2  2021-04-03       42917.868837\n",
              "3  2021-04-04       50312.338813\n",
              "4  2021-04-05       98285.098696"
            ],
            "text/html": [
              "\n",
              "  <div id=\"df-a60bd4e4-3a7b-42c9-89b4-9af093ee0fa0\">\n",
              "    <div class=\"colab-df-container\">\n",
              "      <div>\n",
              "<style scoped>\n",
              "    .dataframe tbody tr th:only-of-type {\n",
              "        vertical-align: middle;\n",
              "    }\n",
              "\n",
              "    .dataframe tbody tr th {\n",
              "        vertical-align: top;\n",
              "    }\n",
              "\n",
              "    .dataframe thead th {\n",
              "        text-align: right;\n",
              "    }\n",
              "</style>\n",
              "<table border=\"1\" class=\"dataframe\">\n",
              "  <thead>\n",
              "    <tr style=\"text-align: right;\">\n",
              "      <th></th>\n",
              "      <th>date_time</th>\n",
              "      <th>number_of_rentals</th>\n",
              "    </tr>\n",
              "  </thead>\n",
              "  <tbody>\n",
              "    <tr>\n",
              "      <th>0</th>\n",
              "      <td>2021-04-01</td>\n",
              "      <td>100112.727581</td>\n",
              "    </tr>\n",
              "    <tr>\n",
              "      <th>1</th>\n",
              "      <td>2021-04-02</td>\n",
              "      <td>95841.116392</td>\n",
              "    </tr>\n",
              "    <tr>\n",
              "      <th>2</th>\n",
              "      <td>2021-04-03</td>\n",
              "      <td>42917.868837</td>\n",
              "    </tr>\n",
              "    <tr>\n",
              "      <th>3</th>\n",
              "      <td>2021-04-04</td>\n",
              "      <td>50312.338813</td>\n",
              "    </tr>\n",
              "    <tr>\n",
              "      <th>4</th>\n",
              "      <td>2021-04-05</td>\n",
              "      <td>98285.098696</td>\n",
              "    </tr>\n",
              "  </tbody>\n",
              "</table>\n",
              "</div>\n",
              "      <button class=\"colab-df-convert\" onclick=\"convertToInteractive('df-a60bd4e4-3a7b-42c9-89b4-9af093ee0fa0')\"\n",
              "              title=\"Convert this dataframe to an interactive table.\"\n",
              "              style=\"display:none;\">\n",
              "        \n",
              "  <svg xmlns=\"http://www.w3.org/2000/svg\" height=\"24px\"viewBox=\"0 0 24 24\"\n",
              "       width=\"24px\">\n",
              "    <path d=\"M0 0h24v24H0V0z\" fill=\"none\"/>\n",
              "    <path d=\"M18.56 5.44l.94 2.06.94-2.06 2.06-.94-2.06-.94-.94-2.06-.94 2.06-2.06.94zm-11 1L8.5 8.5l.94-2.06 2.06-.94-2.06-.94L8.5 2.5l-.94 2.06-2.06.94zm10 10l.94 2.06.94-2.06 2.06-.94-2.06-.94-.94-2.06-.94 2.06-2.06.94z\"/><path d=\"M17.41 7.96l-1.37-1.37c-.4-.4-.92-.59-1.43-.59-.52 0-1.04.2-1.43.59L10.3 9.45l-7.72 7.72c-.78.78-.78 2.05 0 2.83L4 21.41c.39.39.9.59 1.41.59.51 0 1.02-.2 1.41-.59l7.78-7.78 2.81-2.81c.8-.78.8-2.07 0-2.86zM5.41 20L4 18.59l7.72-7.72 1.47 1.35L5.41 20z\"/>\n",
              "  </svg>\n",
              "      </button>\n",
              "      \n",
              "  <style>\n",
              "    .colab-df-container {\n",
              "      display:flex;\n",
              "      flex-wrap:wrap;\n",
              "      gap: 12px;\n",
              "    }\n",
              "\n",
              "    .colab-df-convert {\n",
              "      background-color: #E8F0FE;\n",
              "      border: none;\n",
              "      border-radius: 50%;\n",
              "      cursor: pointer;\n",
              "      display: none;\n",
              "      fill: #1967D2;\n",
              "      height: 32px;\n",
              "      padding: 0 0 0 0;\n",
              "      width: 32px;\n",
              "    }\n",
              "\n",
              "    .colab-df-convert:hover {\n",
              "      background-color: #E2EBFA;\n",
              "      box-shadow: 0px 1px 2px rgba(60, 64, 67, 0.3), 0px 1px 3px 1px rgba(60, 64, 67, 0.15);\n",
              "      fill: #174EA6;\n",
              "    }\n",
              "\n",
              "    [theme=dark] .colab-df-convert {\n",
              "      background-color: #3B4455;\n",
              "      fill: #D2E3FC;\n",
              "    }\n",
              "\n",
              "    [theme=dark] .colab-df-convert:hover {\n",
              "      background-color: #434B5C;\n",
              "      box-shadow: 0px 1px 3px 1px rgba(0, 0, 0, 0.15);\n",
              "      filter: drop-shadow(0px 1px 2px rgba(0, 0, 0, 0.3));\n",
              "      fill: #FFFFFF;\n",
              "    }\n",
              "  </style>\n",
              "\n",
              "      <script>\n",
              "        const buttonEl =\n",
              "          document.querySelector('#df-a60bd4e4-3a7b-42c9-89b4-9af093ee0fa0 button.colab-df-convert');\n",
              "        buttonEl.style.display =\n",
              "          google.colab.kernel.accessAllowed ? 'block' : 'none';\n",
              "\n",
              "        async function convertToInteractive(key) {\n",
              "          const element = document.querySelector('#df-a60bd4e4-3a7b-42c9-89b4-9af093ee0fa0');\n",
              "          const dataTable =\n",
              "            await google.colab.kernel.invokeFunction('convertToInteractive',\n",
              "                                                     [key], {});\n",
              "          if (!dataTable) return;\n",
              "\n",
              "          const docLinkHtml = 'Like what you see? Visit the ' +\n",
              "            '<a target=\"_blank\" href=https://colab.research.google.com/notebooks/data_table.ipynb>data table notebook</a>'\n",
              "            + ' to learn more about interactive tables.';\n",
              "          element.innerHTML = '';\n",
              "          dataTable['output_type'] = 'display_data';\n",
              "          await google.colab.output.renderOutput(dataTable, element);\n",
              "          const docLink = document.createElement('div');\n",
              "          docLink.innerHTML = docLinkHtml;\n",
              "          element.appendChild(docLink);\n",
              "        }\n",
              "      </script>\n",
              "    </div>\n",
              "  </div>\n",
              "  "
            ]
          },
          "metadata": {},
          "execution_count": 129
        }
      ]
    },
    {
      "cell_type": "code",
      "source": [
        "submission.to_csv('submission_4.csv', index = False)"
      ],
      "metadata": {
        "id": "i0Cn9jDwTCmN"
      },
      "execution_count": 130,
      "outputs": []
    },
    {
      "cell_type": "code",
      "source": [
        ""
      ],
      "metadata": {
        "id": "EdopRBCMTHbO"
      },
      "execution_count": null,
      "outputs": []
    }
  ]
}